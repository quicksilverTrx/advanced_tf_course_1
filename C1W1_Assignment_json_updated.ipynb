{
  "nbformat": 4,
  "nbformat_minor": 0,
  "metadata": {
    "colab": {
      "name": "C1W1_Assignment.json",
      "provenance": [],
      "collapsed_sections": [
        "8sd1jdFbwE0I",
        "uYV9AOAMwI9p"
      ],
      "include_colab_link": true
    },
    "kernelspec": {
      "display_name": "Python 3",
      "language": "python",
      "name": "python3"
    },
    "language_info": {
      "codemirror_mode": {
        "name": "ipython",
        "version": 3
      },
      "file_extension": ".py",
      "mimetype": "text/x-python",
      "name": "python",
      "nbconvert_exporter": "python",
      "pygments_lexer": "ipython3",
      "version": "3.7.6"
    },
    "accelerator": "GPU"
  },
  "cells": [
    {
      "cell_type": "markdown",
      "metadata": {
        "id": "view-in-github",
        "colab_type": "text"
      },
      "source": [
        "<a href=\"https://colab.research.google.com/github/quicksilverTrx/advanced_tf_course_1/blob/main/C1W1_Assignment_json_updated.ipynb\" target=\"_parent\"><img src=\"https://colab.research.google.com/assets/colab-badge.svg\" alt=\"Open In Colab\"/></a>"
      ]
    },
    {
      "cell_type": "markdown",
      "metadata": {
        "id": "ZL_6GK8qX35J"
      },
      "source": [
        "\n",
        "\n",
        "# Week 1: Multiple Output Models using the Keras Functional API\n",
        "\n",
        "Welcome to the first programming assignment of the course! Your task will be to use the Keras functional API to train a model to predict two outputs. For this lab, you will use the **[Wine Quality Dataset](https://archive.ics.uci.edu/ml/datasets/Wine+Quality)** from the **UCI machine learning repository**. It has separate datasets for red wine and white wine.\n",
        "\n",
        "Normally, the wines are classified into one of the quality ratings specified in the attributes. In this exercise, you will combine the two datasets to predict the wine quality and whether the wine is red or white solely from the attributes. \n",
        "\n",
        "You will model wine quality estimations as a regression problem and wine type detection as a binary classification problem.\n",
        "\n",
        "#### Please complete sections that are marked **(TODO)**"
      ]
    },
    {
      "cell_type": "markdown",
      "metadata": {
        "id": "obdcD6urYBY9"
      },
      "source": [
        "## Imports"
      ]
    },
    {
      "cell_type": "code",
      "metadata": {
        "colab": {
          "base_uri": "https://localhost:8080/"
        },
        "id": "BLIiwoDHJYgq",
        "outputId": "0c179d64-d184-4cac-eb4b-62288c431276"
      },
      "source": [
        "!pip install utils"
      ],
      "execution_count": null,
      "outputs": [
        {
          "output_type": "stream",
          "text": [
            "Collecting utils\n",
            "  Downloading https://files.pythonhosted.org/packages/55/e6/c2d2b2703e7debc8b501caae0e6f7ead148fd0faa3c8131292a599930029/utils-1.0.1-py2.py3-none-any.whl\n",
            "Installing collected packages: utils\n",
            "Successfully installed utils-1.0.1\n"
          ],
          "name": "stdout"
        }
      ]
    },
    {
      "cell_type": "code",
      "metadata": {
        "id": "t8N3pcTQ5oQI"
      },
      "source": [
        "import tensorflow as tf\n",
        "from tensorflow.keras.models import Model\n",
        "from tensorflow.keras.layers import Dense, Input\n",
        "\n",
        "import numpy as np\n",
        "import matplotlib.pyplot as plt\n",
        "import pandas as pd\n",
        "from sklearn.model_selection import train_test_split\n",
        "from sklearn.metrics import confusion_matrix\n",
        "import itertools\n",
        "\n",
        "import utils"
      ],
      "execution_count": null,
      "outputs": []
    },
    {
      "cell_type": "markdown",
      "metadata": {
        "id": "gQMERzWQYpgm"
      },
      "source": [
        "## Load Dataset\n",
        "\n",
        "\n",
        "You will now download the dataset from the [UCI Machine Learning Repository](https://archive.ics.uci.edu/ml/index.php). \n",
        "\n",
        "### Pre-process the white wine dataset (TODO)\n",
        "You will add a new column named `is_red` in your dataframe to indicate if the wine is white or red. \n",
        "- In the white wine dataset, you will fill the column `is_red` with  zeros (0)."
      ]
    },
    {
      "cell_type": "code",
      "metadata": {
        "deletable": false,
        "id": "2qYAjKXCd4RH",
        "nbgrader": {
          "cell_type": "code",
          "checksum": "cb9f284ba6255170fe04a309a407d72d",
          "grade": false,
          "grade_id": "cell-e5bfa0f152d9a21f",
          "locked": false,
          "schema_version": 3,
          "solution": true,
          "task": false
        }
      },
      "source": [
        "# Please uncomment all lines in this cell and replace those marked with `# YOUR CODE HERE`.\n",
        "# You can select all lines in this code cell with Ctrl+A (Windows/Linux) or Cmd+A (Mac), then press Ctrl+/ (Windows/Linux) or Cmd+/ (Mac) to uncomment.\n",
        "\n",
        "\n",
        "\n",
        "# URL of the white wine dataset\n",
        "URL = 'http://archive.ics.uci.edu/ml/machine-learning-databases/wine-quality/winequality-white.csv'\n",
        "\n",
        "# load the dataset from the URL\n",
        "white_df = pd.read_csv(URL, sep=\";\")\n",
        "\n",
        "# fill the `is_red` column with zeros.\n",
        "white_df['is_red'] = 0 # YOUR CODE HERE\n",
        "\n",
        "# keep only the first of duplicate items\n",
        "white_df = white_df.drop_duplicates(keep='first')\n"
      ],
      "execution_count": null,
      "outputs": []
    },
    {
      "cell_type": "code",
      "metadata": {
        "colab": {
          "base_uri": "https://localhost:8080/"
        },
        "id": "vdzsSX5gKkaA",
        "outputId": "d85d55ba-7e9a-4cd7-a472-cb68fcc269b8"
      },
      "source": [
        "white_df.columns"
      ],
      "execution_count": null,
      "outputs": [
        {
          "output_type": "execute_result",
          "data": {
            "text/plain": [
              "Index(['fixed acidity', 'volatile acidity', 'citric acid', 'residual sugar',\n",
              "       'chlorides', 'free sulfur dioxide', 'total sulfur dioxide', 'density',\n",
              "       'pH', 'sulphates', 'alcohol', 'quality', 'is_red'],\n",
              "      dtype='object')"
            ]
          },
          "metadata": {
            "tags": []
          },
          "execution_count": 4
        }
      ]
    },
    {
      "cell_type": "code",
      "metadata": {
        "deletable": false,
        "editable": false,
        "nbgrader": {
          "cell_type": "code",
          "checksum": "defe38d6ec58fd31cd67b89e46c4373f",
          "grade": true,
          "grade_id": "cell-30575e713b55fc51",
          "locked": true,
          "points": 1,
          "schema_version": 3,
          "solution": false,
          "task": false
        },
        "colab": {
          "base_uri": "https://localhost:8080/",
          "height": 195
        },
        "id": "-JI7ZMl9JPdn",
        "outputId": "c41f0558-c539-4ba4-e7a0-7bcfecd39d3e"
      },
      "source": [
        "# You can click `File -> Open` in the menu above and open the `utils.py` file \n",
        "# in case you want to inspect the unit tests being used for each graded function.\n",
        "\n",
        "utils.test_white_df(white_df)\n"
      ],
      "execution_count": null,
      "outputs": [
        {
          "output_type": "error",
          "ename": "AttributeError",
          "evalue": "ignored",
          "traceback": [
            "\u001b[0;31m---------------------------------------------------------------------------\u001b[0m",
            "\u001b[0;31mAttributeError\u001b[0m                            Traceback (most recent call last)",
            "\u001b[0;32m<ipython-input-9-8e54b75f4c04>\u001b[0m in \u001b[0;36m<module>\u001b[0;34m()\u001b[0m\n\u001b[1;32m      2\u001b[0m \u001b[0;31m# in case you want to inspect the unit tests being used for each graded function.\u001b[0m\u001b[0;34m\u001b[0m\u001b[0;34m\u001b[0m\u001b[0;34m\u001b[0m\u001b[0m\n\u001b[1;32m      3\u001b[0m \u001b[0;34m\u001b[0m\u001b[0m\n\u001b[0;32m----> 4\u001b[0;31m \u001b[0mutils\u001b[0m\u001b[0;34m.\u001b[0m\u001b[0mtest_white_df\u001b[0m\u001b[0;34m(\u001b[0m\u001b[0mwhite_df\u001b[0m\u001b[0;34m)\u001b[0m\u001b[0;34m\u001b[0m\u001b[0;34m\u001b[0m\u001b[0m\n\u001b[0m",
            "\u001b[0;31mAttributeError\u001b[0m: module 'utils' has no attribute 'test_white_df'"
          ]
        }
      ]
    },
    {
      "cell_type": "code",
      "metadata": {
        "colab": {
          "base_uri": "https://localhost:8080/"
        },
        "id": "OQHK0ohBQRCk",
        "outputId": "41332ef3-4fc6-4f09-fa31-26395ba3f5b5"
      },
      "source": [
        "print(white_df.alcohol[0])\n",
        "print(white_df.alcohol[100])\n",
        "\n",
        "# EXPECTED OUTPUT\n",
        "# 8.8\n",
        "# 9.1"
      ],
      "execution_count": null,
      "outputs": [
        {
          "output_type": "stream",
          "text": [
            "8.8\n",
            "9.1\n"
          ],
          "name": "stdout"
        }
      ]
    },
    {
      "cell_type": "markdown",
      "metadata": {
        "id": "nKBCv5V9JPdn"
      },
      "source": [
        "### Pre-process the red wine dataset (TODO)\n",
        "- In the red wine dataset, you will fill in the column `is_red` with ones (1)."
      ]
    },
    {
      "cell_type": "code",
      "metadata": {
        "deletable": false,
        "id": "8y3QxKwBed8v",
        "nbgrader": {
          "cell_type": "code",
          "checksum": "be72275f78e2c2d0038dde9aa63f8d4f",
          "grade": false,
          "grade_id": "cell-e47a40f306593274",
          "locked": false,
          "schema_version": 3,
          "solution": true,
          "task": false
        }
      },
      "source": [
        "# Please uncomment all lines in this cell and replace those marked with `# YOUR CODE HERE`.\n",
        "# You can select all lines in this code cell with Ctrl+A (Windows/Linux) or Cmd+A (Mac), then press Ctrl+/ (Windows/Linux) or Cmd+/ (Mac) to uncomment.\n",
        "\n",
        "\n",
        "\n",
        "# URL of the red wine dataset\n",
        "URL = 'http://archive.ics.uci.edu/ml/machine-learning-databases/wine-quality/winequality-red.csv'\n",
        "\n",
        "# load the dataset from the URL\n",
        "red_df = pd.read_csv(URL, sep=\";\")\n",
        "\n",
        "# fill the `is_red` column with ones.\n",
        "red_df[\"is_red\"] = 1# YOUR CODE HERE\n",
        "\n",
        "# keep only the first of duplicate items\n",
        "red_df = red_df.drop_duplicates(keep='first')\n"
      ],
      "execution_count": null,
      "outputs": []
    },
    {
      "cell_type": "code",
      "metadata": {
        "deletable": false,
        "editable": false,
        "nbgrader": {
          "cell_type": "code",
          "checksum": "d8e0c91b0fd668b63ba74a8f2f958b59",
          "grade": true,
          "grade_id": "cell-2a75937adcc0c25b",
          "locked": true,
          "points": 1,
          "schema_version": 3,
          "solution": false,
          "task": false
        },
        "id": "Zw_Ypif8JPdo"
      },
      "source": [
        "utils.test_red_df(red_df)\n"
      ],
      "execution_count": null,
      "outputs": []
    },
    {
      "cell_type": "code",
      "metadata": {
        "colab": {
          "base_uri": "https://localhost:8080/"
        },
        "id": "zsB3LUzNQpo_",
        "outputId": "c7469390-8983-44d2-913e-f098a2d16b70"
      },
      "source": [
        "print(red_df.alcohol[0])\n",
        "print(red_df.alcohol[100])\n",
        "\n",
        "# EXPECTED OUTPUT\n",
        "# 9.4\n",
        "# 10.2"
      ],
      "execution_count": null,
      "outputs": [
        {
          "output_type": "stream",
          "text": [
            "9.4\n",
            "10.2\n"
          ],
          "name": "stdout"
        }
      ]
    },
    {
      "cell_type": "markdown",
      "metadata": {
        "id": "2G8B-NYuM6-f"
      },
      "source": [
        "### Concatenate the datasets\n",
        "\n",
        "Next, concatenate the red and white wine dataframes."
      ]
    },
    {
      "cell_type": "code",
      "metadata": {
        "colab": {
          "base_uri": "https://localhost:8080/"
        },
        "id": "9ZAOQVwGLEtF",
        "outputId": "1e9d8761-c4f4-474b-8acf-8b54cb23cf2c"
      },
      "source": [
        "red_df.columns"
      ],
      "execution_count": null,
      "outputs": [
        {
          "output_type": "execute_result",
          "data": {
            "text/plain": [
              "Index(['fixed acidity', 'volatile acidity', 'citric acid', 'residual sugar',\n",
              "       'chlorides', 'free sulfur dioxide', 'total sulfur dioxide', 'density',\n",
              "       'pH', 'sulphates', 'alcohol', 'quality', 'is_red'],\n",
              "      dtype='object')"
            ]
          },
          "metadata": {
            "tags": []
          },
          "execution_count": 10
        }
      ]
    },
    {
      "cell_type": "code",
      "metadata": {
        "id": "YpQrOjJbfN3m"
      },
      "source": [
        "df = pd.concat([red_df, white_df], ignore_index=True)"
      ],
      "execution_count": null,
      "outputs": []
    },
    {
      "cell_type": "code",
      "metadata": {
        "colab": {
          "base_uri": "https://localhost:8080/"
        },
        "id": "Se2dTmThQyjb",
        "outputId": "794303da-5f75-44b2-c91b-e4dab44e800c"
      },
      "source": [
        "print(df.alcohol[0])\n",
        "print(df.alcohol[100])\n",
        "\n",
        "# EXPECTED OUTPUT\n",
        "# 9.4\n",
        "# 9.5"
      ],
      "execution_count": null,
      "outputs": [
        {
          "output_type": "stream",
          "text": [
            "9.4\n",
            "9.5\n"
          ],
          "name": "stdout"
        }
      ]
    },
    {
      "cell_type": "code",
      "metadata": {
        "id": "wx6y3rPpQv4k"
      },
      "source": [
        "# NOTE: In a real-world scenario, you should shuffle the data.\n",
        "# YOU ARE NOT going to do that here because we want to test\n",
        "# with deterministic data. But if you want the code to do it,\n",
        "# it's in the commented line below:\n",
        "\n",
        "#df = df.iloc[np.random.permutation(len(df))]"
      ],
      "execution_count": null,
      "outputs": []
    },
    {
      "cell_type": "markdown",
      "metadata": {
        "id": "-EqIcbg5M_n1"
      },
      "source": [
        "This will chart the quality of the wines."
      ]
    },
    {
      "cell_type": "code",
      "metadata": {
        "colab": {
          "base_uri": "https://localhost:8080/",
          "height": 265
        },
        "id": "IsvK0-Sgy17C",
        "outputId": "a273ad9a-4c85-468f-e57e-7853c2791a31"
      },
      "source": [
        "df['quality'].hist(bins=20);"
      ],
      "execution_count": null,
      "outputs": [
        {
          "output_type": "display_data",
          "data": {
            "image/png": "[encoded data removed]",
            "text/plain": [
              "<Figure size 432x288 with 1 Axes>"
            ]
          },
          "metadata": {
            "tags": [],
            "needs_background": "light"
          }
        }
      ]
    },
    {
      "cell_type": "markdown",
      "metadata": {
        "id": "Nut1rmYLzf-p"
      },
      "source": [
        "### Imbalanced data (TODO)\n",
        "You can see from the plot above that the wine quality dataset is imbalanced. \n",
        "- Since there are very few observations with quality equal to 3, 4, 8 and 9, you can drop these observations from your dataset. \n",
        "- You can do this by removing data belonging to all classes except those > 4 and < 8."
      ]
    },
    {
      "cell_type": "code",
      "metadata": {
        "deletable": false,
        "id": "doH9_-gnf3sz",
        "nbgrader": {
          "cell_type": "code",
          "checksum": "d9ba9fc3a3ca02ccc567be33652b80fe",
          "grade": false,
          "grade_id": "cell-6a3e9db696f6827b",
          "locked": false,
          "schema_version": 3,
          "solution": true,
          "task": false
        }
      },
      "source": [
        "# Please uncomment all lines in this cell and replace those marked with `# YOUR CODE HERE`.\n",
        "# You can select all lines in this code cell with Ctrl+A (Windows/Linux) or Cmd+A (Mac), then press Ctrl+/ (Windows/Linux) or Cmd+/ (Mac) to uncomment.\n",
        "\n",
        "\n",
        "\n",
        "# get data with wine quality greater than 4 and less than 8\n",
        "df = df[(df['quality'] > 4) & (df['quality'] < 8 )]\n",
        "\n",
        "# reset index and drop the old one\n",
        "df = df.reset_index(drop=True)"
      ],
      "execution_count": null,
      "outputs": []
    },
    {
      "cell_type": "code",
      "metadata": {
        "deletable": false,
        "editable": false,
        "nbgrader": {
          "cell_type": "code",
          "checksum": "281e1d86a4803560ed5892cd7eda4c01",
          "grade": true,
          "grade_id": "cell-aed3da719d4682c7",
          "locked": true,
          "points": 1,
          "schema_version": 3,
          "solution": false,
          "task": false
        },
        "colab": {
          "base_uri": "https://localhost:8080/",
          "height": 178
        },
        "id": "02EtbC3YJPdq",
        "outputId": "8a72dd6d-ae05-4819-aca7-c46460d050f2"
      },
      "source": [
        "utils.test_df_drop(df)\n",
        "\n"
      ],
      "execution_count": null,
      "outputs": [
        {
          "output_type": "error",
          "ename": "AttributeError",
          "evalue": "ignored",
          "traceback": [
            "\u001b[0;31m---------------------------------------------------------------------------\u001b[0m",
            "\u001b[0;31mAttributeError\u001b[0m                            Traceback (most recent call last)",
            "\u001b[0;32m<ipython-input-13-02ac41180da9>\u001b[0m in \u001b[0;36m<module>\u001b[0;34m()\u001b[0m\n\u001b[0;32m----> 1\u001b[0;31m \u001b[0mutils\u001b[0m\u001b[0;34m.\u001b[0m\u001b[0mtest_df_drop\u001b[0m\u001b[0;34m(\u001b[0m\u001b[0mdf\u001b[0m\u001b[0;34m)\u001b[0m\u001b[0;34m\u001b[0m\u001b[0;34m\u001b[0m\u001b[0m\n\u001b[0m\u001b[1;32m      2\u001b[0m \u001b[0;34m\u001b[0m\u001b[0m\n",
            "\u001b[0;31mAttributeError\u001b[0m: module 'utils' has no attribute 'test_df_drop'"
          ]
        }
      ]
    },
    {
      "cell_type": "code",
      "metadata": {
        "colab": {
          "base_uri": "https://localhost:8080/"
        },
        "id": "xNR1iAlMRPXO",
        "outputId": "ccbba937-21b0-44a7-ccbe-351f32a6b02c"
      },
      "source": [
        "print(df.alcohol[0])\n",
        "print(df.alcohol[100])\n",
        "\n",
        "# EXPECTED OUTPUT\n",
        "# 9.4\n",
        "# 10.9"
      ],
      "execution_count": null,
      "outputs": [
        {
          "output_type": "stream",
          "text": [
            "9.4\n",
            "10.9\n"
          ],
          "name": "stdout"
        }
      ]
    },
    {
      "cell_type": "markdown",
      "metadata": {
        "id": "cwhuRpnVRTzG"
      },
      "source": [
        "You can plot again to see the new range of data and quality"
      ]
    },
    {
      "cell_type": "code",
      "metadata": {
        "colab": {
          "base_uri": "https://localhost:8080/",
          "height": 265
        },
        "id": "857ygzZiLgGg",
        "outputId": "e7f49bef-cb33-499e-c439-2554203e9372"
      },
      "source": [
        "df['quality'].hist(bins=20);"
      ],
      "execution_count": null,
      "outputs": [
        {
          "output_type": "display_data",
          "data": {
            "image/png": "[encoded data removed]",
            "text/plain": [
              "<Figure size 432x288 with 1 Axes>"
            ]
          },
          "metadata": {
            "tags": [],
            "needs_background": "light"
          }
        }
      ]
    },
    {
      "cell_type": "markdown",
      "metadata": {
        "id": "n3k0vqSsp84t"
      },
      "source": [
        "### Train Test Split (TODO)\n",
        "\n",
        "Next, you can split the datasets into training, test and validation datasets.\n",
        "- The data frame should be split 80:20 into `train` and `test` sets.\n",
        "- The resulting `train` should then be split 80:20 into `train` and `val` sets.\n",
        "- The `train_test_split` parameter `test_size` takes a float value that ranges between 0. and 1, and represents the proportion of the dataset that is allocated to the test set.  The rest of the data is allocated to the training set."
      ]
    },
    {
      "cell_type": "code",
      "metadata": {
        "deletable": false,
        "id": "PAVIf2-fgRVY",
        "nbgrader": {
          "cell_type": "code",
          "checksum": "7f5738f4fb51d65adc9a8acbdf2b9970",
          "grade": false,
          "grade_id": "cell-91946cadf745206b",
          "locked": false,
          "schema_version": 3,
          "solution": true,
          "task": false
        }
      },
      "source": [
        "# Please uncomment all lines in this cell and replace those marked with `# YOUR CODE HERE`.\n",
        "# You can select all lines in this code cell with Ctrl+A (Windows/Linux) or Cmd+A (Mac), then press Ctrl+/ (Windows/Linux) or Cmd+/ (Mac) to uncomment.\n",
        "\n",
        "\n",
        "\n",
        "# Please do not change the random_state parameter. This is needed for grading.\n",
        "\n",
        "# split df into 80:20 train and test sets\n",
        "train, test = train_test_split(df, test_size=.2, random_state = 1)\n",
        "                               \n",
        "# split train into 80:20 train and val sets\n",
        "train, val = train_test_split(train, test_size=.2, random_state = 1)"
      ],
      "execution_count": null,
      "outputs": []
    },
    {
      "cell_type": "code",
      "metadata": {
        "deletable": false,
        "editable": false,
        "id": "57h9LcEzRWpk",
        "nbgrader": {
          "cell_type": "code",
          "checksum": "42adbe9e66efac7c7a5f8cd73ac92f22",
          "grade": true,
          "grade_id": "cell-64b8b38cd0b965f6",
          "locked": true,
          "points": 1,
          "schema_version": 3,
          "solution": false,
          "task": false
        }
      },
      "source": [
        "utils.test_data_sizes(train.size, test.size, val.size)\n",
        "\n"
      ],
      "execution_count": null,
      "outputs": []
    },
    {
      "cell_type": "markdown",
      "metadata": {
        "id": "RwTNu4KFqG-K"
      },
      "source": [
        "Here's where you can explore the training stats. You can pop the labels 'is_red' and 'quality' from the data as these will be used as the labels\n"
      ]
    },
    {
      "cell_type": "code",
      "metadata": {
        "id": "Y_afyhhHM6WQ"
      },
      "source": [
        "train_stats = train.describe()\n",
        "train_stats.pop('is_red')\n",
        "train_stats.pop('quality')\n",
        "train_stats = train_stats.transpose()"
      ],
      "execution_count": null,
      "outputs": []
    },
    {
      "cell_type": "markdown",
      "metadata": {
        "id": "ahvbYm4fNqSt"
      },
      "source": [
        "Explore the training stats!"
      ]
    },
    {
      "cell_type": "code",
      "metadata": {
        "colab": {
          "base_uri": "https://localhost:8080/",
          "height": 301
        },
        "id": "n_gAtPjZ0otF",
        "outputId": "05196ac2-322e-4f9e-f4fc-77c9679cb76a"
      },
      "source": [
        "train.describe()"
      ],
      "execution_count": null,
      "outputs": [
        {
          "output_type": "execute_result",
          "data": {
            "text/html": [
              "<div>\n",
              "<style scoped>\n",
              "    .dataframe tbody tr th:only-of-type {\n",
              "        vertical-align: middle;\n",
              "    }\n",
              "\n",
              "    .dataframe tbody tr th {\n",
              "        vertical-align: top;\n",
              "    }\n",
              "\n",
              "    .dataframe thead th {\n",
              "        text-align: right;\n",
              "    }\n",
              "</style>\n",
              "<table border=\"1\" class=\"dataframe\">\n",
              "  <thead>\n",
              "    <tr style=\"text-align: right;\">\n",
              "      <th></th>\n",
              "      <th>fixed acidity</th>\n",
              "      <th>volatile acidity</th>\n",
              "      <th>citric acid</th>\n",
              "      <th>residual sugar</th>\n",
              "      <th>chlorides</th>\n",
              "      <th>free sulfur dioxide</th>\n",
              "      <th>total sulfur dioxide</th>\n",
              "      <th>density</th>\n",
              "      <th>pH</th>\n",
              "      <th>sulphates</th>\n",
              "      <th>alcohol</th>\n",
              "      <th>quality</th>\n",
              "      <th>is_red</th>\n",
              "    </tr>\n",
              "  </thead>\n",
              "  <tbody>\n",
              "    <tr>\n",
              "      <th>count</th>\n",
              "      <td>3155.000000</td>\n",
              "      <td>3155.000000</td>\n",
              "      <td>3155.000000</td>\n",
              "      <td>3155.000000</td>\n",
              "      <td>3155.000000</td>\n",
              "      <td>3155.000000</td>\n",
              "      <td>3155.000000</td>\n",
              "      <td>3155.000000</td>\n",
              "      <td>3155.000000</td>\n",
              "      <td>3155.000000</td>\n",
              "      <td>3155.000000</td>\n",
              "      <td>3155.000000</td>\n",
              "      <td>3155.000000</td>\n",
              "    </tr>\n",
              "    <tr>\n",
              "      <th>mean</th>\n",
              "      <td>7.221616</td>\n",
              "      <td>0.338929</td>\n",
              "      <td>0.321569</td>\n",
              "      <td>5.155911</td>\n",
              "      <td>0.056976</td>\n",
              "      <td>30.388590</td>\n",
              "      <td>115.062282</td>\n",
              "      <td>0.994633</td>\n",
              "      <td>3.223201</td>\n",
              "      <td>0.534051</td>\n",
              "      <td>10.504466</td>\n",
              "      <td>5.813629</td>\n",
              "      <td>0.255784</td>\n",
              "    </tr>\n",
              "    <tr>\n",
              "      <th>std</th>\n",
              "      <td>1.325297</td>\n",
              "      <td>0.162476</td>\n",
              "      <td>0.147970</td>\n",
              "      <td>4.639632</td>\n",
              "      <td>0.036802</td>\n",
              "      <td>17.236784</td>\n",
              "      <td>56.706617</td>\n",
              "      <td>0.003005</td>\n",
              "      <td>0.161272</td>\n",
              "      <td>0.149149</td>\n",
              "      <td>1.154654</td>\n",
              "      <td>0.701121</td>\n",
              "      <td>0.436370</td>\n",
              "    </tr>\n",
              "    <tr>\n",
              "      <th>min</th>\n",
              "      <td>3.800000</td>\n",
              "      <td>0.080000</td>\n",
              "      <td>0.000000</td>\n",
              "      <td>0.600000</td>\n",
              "      <td>0.012000</td>\n",
              "      <td>1.000000</td>\n",
              "      <td>6.000000</td>\n",
              "      <td>0.987110</td>\n",
              "      <td>2.720000</td>\n",
              "      <td>0.220000</td>\n",
              "      <td>8.500000</td>\n",
              "      <td>5.000000</td>\n",
              "      <td>0.000000</td>\n",
              "    </tr>\n",
              "    <tr>\n",
              "      <th>25%</th>\n",
              "      <td>6.400000</td>\n",
              "      <td>0.230000</td>\n",
              "      <td>0.250000</td>\n",
              "      <td>1.800000</td>\n",
              "      <td>0.038000</td>\n",
              "      <td>17.000000</td>\n",
              "      <td>75.000000</td>\n",
              "      <td>0.992320</td>\n",
              "      <td>3.110000</td>\n",
              "      <td>0.430000</td>\n",
              "      <td>9.500000</td>\n",
              "      <td>5.000000</td>\n",
              "      <td>0.000000</td>\n",
              "    </tr>\n",
              "    <tr>\n",
              "      <th>50%</th>\n",
              "      <td>7.000000</td>\n",
              "      <td>0.290000</td>\n",
              "      <td>0.310000</td>\n",
              "      <td>2.800000</td>\n",
              "      <td>0.047000</td>\n",
              "      <td>28.000000</td>\n",
              "      <td>117.000000</td>\n",
              "      <td>0.994810</td>\n",
              "      <td>3.210000</td>\n",
              "      <td>0.510000</td>\n",
              "      <td>10.300000</td>\n",
              "      <td>6.000000</td>\n",
              "      <td>0.000000</td>\n",
              "    </tr>\n",
              "    <tr>\n",
              "      <th>75%</th>\n",
              "      <td>7.700000</td>\n",
              "      <td>0.400000</td>\n",
              "      <td>0.400000</td>\n",
              "      <td>7.650000</td>\n",
              "      <td>0.066000</td>\n",
              "      <td>41.000000</td>\n",
              "      <td>156.000000</td>\n",
              "      <td>0.996800</td>\n",
              "      <td>3.330000</td>\n",
              "      <td>0.600000</td>\n",
              "      <td>11.300000</td>\n",
              "      <td>6.000000</td>\n",
              "      <td>1.000000</td>\n",
              "    </tr>\n",
              "    <tr>\n",
              "      <th>max</th>\n",
              "      <td>15.600000</td>\n",
              "      <td>1.240000</td>\n",
              "      <td>1.660000</td>\n",
              "      <td>65.800000</td>\n",
              "      <td>0.611000</td>\n",
              "      <td>131.000000</td>\n",
              "      <td>344.000000</td>\n",
              "      <td>1.038980</td>\n",
              "      <td>4.010000</td>\n",
              "      <td>1.950000</td>\n",
              "      <td>14.000000</td>\n",
              "      <td>7.000000</td>\n",
              "      <td>1.000000</td>\n",
              "    </tr>\n",
              "  </tbody>\n",
              "</table>\n",
              "</div>"
            ],
            "text/plain": [
              "       fixed acidity  volatile acidity  ...      quality       is_red\n",
              "count    3155.000000       3155.000000  ...  3155.000000  3155.000000\n",
              "mean        7.221616          0.338929  ...     5.813629     0.255784\n",
              "std         1.325297          0.162476  ...     0.701121     0.436370\n",
              "min         3.800000          0.080000  ...     5.000000     0.000000\n",
              "25%         6.400000          0.230000  ...     5.000000     0.000000\n",
              "50%         7.000000          0.290000  ...     6.000000     0.000000\n",
              "75%         7.700000          0.400000  ...     6.000000     1.000000\n",
              "max        15.600000          1.240000  ...     7.000000     1.000000\n",
              "\n",
              "[8 rows x 13 columns]"
            ]
          },
          "metadata": {
            "tags": []
          },
          "execution_count": 21
        }
      ]
    },
    {
      "cell_type": "markdown",
      "metadata": {
        "id": "bGPvt9jir_HC"
      },
      "source": [
        "### Get the labels (TODO)\n",
        "\n",
        "The features and labels are currently in the same dataframe.\n",
        "- You will want to store the label columns `is_red` and `quality` separately from the feature columns.  \n",
        "- The following function, `format_output`, gets these two columns from the dataframe (it's given to you).\n",
        "- `format_output` also formats the data into numpy arrays. \n",
        "- Please use the `format_output` and apply it to the `train`, `val` and `test` sets to get dataframes for the labels."
      ]
    },
    {
      "cell_type": "code",
      "metadata": {
        "id": "Z_fs14XQqZVP"
      },
      "source": [
        "def format_output(data):\n",
        "    is_red = data.pop('is_red')\n",
        "    is_red = np.array(is_red)\n",
        "    quality = data.pop('quality')\n",
        "    quality = np.array(quality)\n",
        "    return (quality, is_red)"
      ],
      "execution_count": null,
      "outputs": []
    },
    {
      "cell_type": "code",
      "metadata": {
        "deletable": false,
        "id": "8L3ZZe1fQicm",
        "nbgrader": {
          "cell_type": "code",
          "checksum": "7a86809e54895a816434c48dc903f55d",
          "grade": false,
          "grade_id": "cell-5c30fa2c2a354b0f",
          "locked": false,
          "schema_version": 3,
          "solution": true,
          "task": false
        }
      },
      "source": [
        "# Please uncomment all lines in this cell and replace those marked with `# YOUR CODE HERE`.\n",
        "# You can select all lines in this code cell with Ctrl+A (Windows/Linux) or Cmd+A (Mac), then press Ctrl+/ (Windows/Linux) or Cmd+/ (Mac) to uncomment.\n",
        "\n",
        "\n",
        "\n",
        "# format the output of the train set\n",
        "train_Y = format_output(train)\n",
        "\n",
        "# format the output of the val set\n",
        "val_Y = format_output(val)\n",
        "    \n",
        "# format the output of the test set\n",
        "test_Y = format_output(test)"
      ],
      "execution_count": null,
      "outputs": []
    },
    {
      "cell_type": "code",
      "metadata": {
        "colab": {
          "base_uri": "https://localhost:8080/"
        },
        "id": "xmBHodcpbLfM",
        "outputId": "89bba4a8-f549-4158-c95a-64b998dc22ba"
      },
      "source": [
        "train_Y"
      ],
      "execution_count": null,
      "outputs": [
        {
          "output_type": "execute_result",
          "data": {
            "text/plain": [
              "(array([5, 6, 5, ..., 6, 5, 5]), array([1, 0, 0, ..., 1, 1, 0]))"
            ]
          },
          "metadata": {
            "tags": []
          },
          "execution_count": 24
        }
      ]
    },
    {
      "cell_type": "code",
      "metadata": {
        "deletable": false,
        "editable": false,
        "nbgrader": {
          "cell_type": "code",
          "checksum": "359cabbafaed14ec9bbc1e57a7b6f32c",
          "grade": true,
          "grade_id": "cell-4977d8befb80f56b",
          "locked": true,
          "points": 1,
          "schema_version": 3,
          "solution": false,
          "task": false
        },
        "colab": {
          "base_uri": "https://localhost:8080/",
          "height": 162
        },
        "id": "QzjhNxojJPdu",
        "outputId": "8ea6b512-94e1-4970-bcf5-1c2e13e1bd04"
      },
      "source": [
        "utils.test_format_output(df, train_Y, val_Y, test_Y)"
      ],
      "execution_count": null,
      "outputs": [
        {
          "output_type": "error",
          "ename": "AttributeError",
          "evalue": "ignored",
          "traceback": [
            "\u001b[0;31m---------------------------------------------------------------------------\u001b[0m",
            "\u001b[0;31mAttributeError\u001b[0m                            Traceback (most recent call last)",
            "\u001b[0;32m<ipython-input-29-8710fc094fd1>\u001b[0m in \u001b[0;36m<module>\u001b[0;34m()\u001b[0m\n\u001b[0;32m----> 1\u001b[0;31m \u001b[0mutils\u001b[0m\u001b[0;34m.\u001b[0m\u001b[0mtest_format_output\u001b[0m\u001b[0;34m(\u001b[0m\u001b[0mdf\u001b[0m\u001b[0;34m,\u001b[0m \u001b[0mtrain_Y\u001b[0m\u001b[0;34m,\u001b[0m \u001b[0mval_Y\u001b[0m\u001b[0;34m,\u001b[0m \u001b[0mtest_Y\u001b[0m\u001b[0;34m)\u001b[0m\u001b[0;34m\u001b[0m\u001b[0;34m\u001b[0m\u001b[0m\n\u001b[0m",
            "\u001b[0;31mAttributeError\u001b[0m: module 'utils' has no attribute 'test_format_output'"
          ]
        }
      ]
    },
    {
      "cell_type": "markdown",
      "metadata": {
        "id": "DNWmUnG6JPdu"
      },
      "source": [
        "Notice that after you get the labels, the `train`, `val` and `test` dataframes no longer contain the label columns, and contain just the feature columns.\n",
        "- This is because you used `.pop` in the `format_output` function."
      ]
    },
    {
      "cell_type": "code",
      "metadata": {
        "colab": {
          "base_uri": "https://localhost:8080/",
          "height": 195
        },
        "id": "Zq7VcL2LJPdv",
        "outputId": "8bc864e0-e3c3-4e41-a73d-c43b96c6527f"
      },
      "source": [
        "train.head()"
      ],
      "execution_count": null,
      "outputs": [
        {
          "output_type": "execute_result",
          "data": {
            "text/html": [
              "<div>\n",
              "<style scoped>\n",
              "    .dataframe tbody tr th:only-of-type {\n",
              "        vertical-align: middle;\n",
              "    }\n",
              "\n",
              "    .dataframe tbody tr th {\n",
              "        vertical-align: top;\n",
              "    }\n",
              "\n",
              "    .dataframe thead th {\n",
              "        text-align: right;\n",
              "    }\n",
              "</style>\n",
              "<table border=\"1\" class=\"dataframe\">\n",
              "  <thead>\n",
              "    <tr style=\"text-align: right;\">\n",
              "      <th></th>\n",
              "      <th>fixed acidity</th>\n",
              "      <th>volatile acidity</th>\n",
              "      <th>citric acid</th>\n",
              "      <th>residual sugar</th>\n",
              "      <th>chlorides</th>\n",
              "      <th>free sulfur dioxide</th>\n",
              "      <th>total sulfur dioxide</th>\n",
              "      <th>density</th>\n",
              "      <th>pH</th>\n",
              "      <th>sulphates</th>\n",
              "      <th>alcohol</th>\n",
              "    </tr>\n",
              "  </thead>\n",
              "  <tbody>\n",
              "    <tr>\n",
              "      <th>225</th>\n",
              "      <td>7.5</td>\n",
              "      <td>0.65</td>\n",
              "      <td>0.18</td>\n",
              "      <td>7.0</td>\n",
              "      <td>0.088</td>\n",
              "      <td>27.0</td>\n",
              "      <td>94.0</td>\n",
              "      <td>0.99915</td>\n",
              "      <td>3.38</td>\n",
              "      <td>0.77</td>\n",
              "      <td>9.4</td>\n",
              "    </tr>\n",
              "    <tr>\n",
              "      <th>3557</th>\n",
              "      <td>6.3</td>\n",
              "      <td>0.27</td>\n",
              "      <td>0.29</td>\n",
              "      <td>12.2</td>\n",
              "      <td>0.044</td>\n",
              "      <td>59.0</td>\n",
              "      <td>196.0</td>\n",
              "      <td>0.99782</td>\n",
              "      <td>3.14</td>\n",
              "      <td>0.40</td>\n",
              "      <td>8.8</td>\n",
              "    </tr>\n",
              "    <tr>\n",
              "      <th>3825</th>\n",
              "      <td>8.8</td>\n",
              "      <td>0.27</td>\n",
              "      <td>0.25</td>\n",
              "      <td>5.0</td>\n",
              "      <td>0.024</td>\n",
              "      <td>52.0</td>\n",
              "      <td>99.0</td>\n",
              "      <td>0.99250</td>\n",
              "      <td>2.87</td>\n",
              "      <td>0.49</td>\n",
              "      <td>11.4</td>\n",
              "    </tr>\n",
              "    <tr>\n",
              "      <th>1740</th>\n",
              "      <td>6.4</td>\n",
              "      <td>0.45</td>\n",
              "      <td>0.07</td>\n",
              "      <td>1.1</td>\n",
              "      <td>0.030</td>\n",
              "      <td>10.0</td>\n",
              "      <td>131.0</td>\n",
              "      <td>0.99050</td>\n",
              "      <td>2.97</td>\n",
              "      <td>0.28</td>\n",
              "      <td>10.8</td>\n",
              "    </tr>\n",
              "    <tr>\n",
              "      <th>1221</th>\n",
              "      <td>7.2</td>\n",
              "      <td>0.53</td>\n",
              "      <td>0.13</td>\n",
              "      <td>2.0</td>\n",
              "      <td>0.058</td>\n",
              "      <td>18.0</td>\n",
              "      <td>22.0</td>\n",
              "      <td>0.99573</td>\n",
              "      <td>3.21</td>\n",
              "      <td>0.68</td>\n",
              "      <td>9.9</td>\n",
              "    </tr>\n",
              "  </tbody>\n",
              "</table>\n",
              "</div>"
            ],
            "text/plain": [
              "      fixed acidity  volatile acidity  citric acid  ...    pH  sulphates  alcohol\n",
              "225             7.5              0.65         0.18  ...  3.38       0.77      9.4\n",
              "3557            6.3              0.27         0.29  ...  3.14       0.40      8.8\n",
              "3825            8.8              0.27         0.25  ...  2.87       0.49     11.4\n",
              "1740            6.4              0.45         0.07  ...  2.97       0.28     10.8\n",
              "1221            7.2              0.53         0.13  ...  3.21       0.68      9.9\n",
              "\n",
              "[5 rows x 11 columns]"
            ]
          },
          "metadata": {
            "tags": []
          },
          "execution_count": 25
        }
      ]
    },
    {
      "cell_type": "markdown",
      "metadata": {
        "id": "hEdbrruAsN1D"
      },
      "source": [
        "### Normalize the data (TODO)\n",
        "\n",
        "Next, you can normalize the data, x, using the formula:\n",
        "$$x_{norm} = \\frac{x - \\mu}{\\sigma}$$\n",
        "- The `norm` function is defined for you.\n",
        "- Please apply the `norm` function to normalize the dataframes that contains the feature columns of `train`, `val` and `test` sets."
      ]
    },
    {
      "cell_type": "code",
      "metadata": {
        "id": "WWiZPAHCLjUs"
      },
      "source": [
        "def norm(x):\n",
        "    return (x - train_stats['mean']) / train_stats['std']"
      ],
      "execution_count": null,
      "outputs": []
    },
    {
      "cell_type": "code",
      "metadata": {
        "deletable": false,
        "id": "JEaOi2I2Lk69",
        "nbgrader": {
          "cell_type": "code",
          "checksum": "6bc0cdcb563d192f271067aa3373ff32",
          "grade": false,
          "grade_id": "cell-d8416d975c371095",
          "locked": false,
          "schema_version": 3,
          "solution": true,
          "task": false
        }
      },
      "source": [
        "# Please uncomment all lines in this cell and replace those marked with `# YOUR CODE HERE`.\n",
        "# You can select all lines in this code cell with Ctrl+A (Windows/Linux) or Cmd+A (Mac), then press Ctrl+/ (Windows/Linux) or Cmd+/ (Mac) to uncomment.\n",
        "\n",
        "\n",
        "\n",
        "# normalize the train set\n",
        "norm_train_X = norm(train)\n",
        "    \n",
        "# normalize the val set\n",
        "norm_val_X = norm(val)\n",
        "    \n",
        "# normalize the test set\n",
        "norm_test_X = norm(test)"
      ],
      "execution_count": null,
      "outputs": []
    },
    {
      "cell_type": "code",
      "metadata": {
        "deletable": false,
        "editable": false,
        "nbgrader": {
          "cell_type": "code",
          "checksum": "4f567db45bf40191601780379cc100b8",
          "grade": true,
          "grade_id": "cell-97fad979d157529b",
          "locked": true,
          "points": 1,
          "schema_version": 3,
          "solution": false,
          "task": false
        },
        "colab": {
          "base_uri": "https://localhost:8080/",
          "height": 162
        },
        "id": "cuLugW5lJPdw",
        "outputId": "d2d360d9-5373-4eab-f8ca-1befb6b6bb1e"
      },
      "source": [
        "utils.test_norm(norm_train_X, norm_val_X, norm_test_X, train, val, test)\n"
      ],
      "execution_count": null,
      "outputs": [
        {
          "output_type": "error",
          "ename": "AttributeError",
          "evalue": "ignored",
          "traceback": [
            "\u001b[0;31m---------------------------------------------------------------------------\u001b[0m",
            "\u001b[0;31mAttributeError\u001b[0m                            Traceback (most recent call last)",
            "\u001b[0;32m<ipython-input-36-67372534a214>\u001b[0m in \u001b[0;36m<module>\u001b[0;34m()\u001b[0m\n\u001b[0;32m----> 1\u001b[0;31m \u001b[0mutils\u001b[0m\u001b[0;34m.\u001b[0m\u001b[0mtest_norm\u001b[0m\u001b[0;34m(\u001b[0m\u001b[0mnorm_train_X\u001b[0m\u001b[0;34m,\u001b[0m \u001b[0mnorm_val_X\u001b[0m\u001b[0;34m,\u001b[0m \u001b[0mnorm_test_X\u001b[0m\u001b[0;34m,\u001b[0m \u001b[0mtrain\u001b[0m\u001b[0;34m,\u001b[0m \u001b[0mval\u001b[0m\u001b[0;34m,\u001b[0m \u001b[0mtest\u001b[0m\u001b[0;34m)\u001b[0m\u001b[0;34m\u001b[0m\u001b[0;34m\u001b[0m\u001b[0m\n\u001b[0m",
            "\u001b[0;31mAttributeError\u001b[0m: module 'utils' has no attribute 'test_norm'"
          ]
        }
      ]
    },
    {
      "cell_type": "markdown",
      "metadata": {
        "id": "hzykDwQhsaPO"
      },
      "source": [
        "## Define the Model (TODO)\n",
        "\n",
        "Define the model using the functional API. The base model will be 2 `Dense` layers of 128 neurons each, and have the `'relu'` activation.\n",
        "- Check out the documentation for [tf.keras.layers.Dense](https://www.tensorflow.org/api_docs/python/tf/keras/layers/Dense)"
      ]
    },
    {
      "cell_type": "code",
      "metadata": {
        "deletable": false,
        "id": "Rhcns3oTFkM6",
        "nbgrader": {
          "cell_type": "code",
          "checksum": "74b031247e569526552bf13a034a1c07",
          "grade": false,
          "grade_id": "cell-73fceedad1fe351c",
          "locked": false,
          "schema_version": 3,
          "solution": true,
          "task": false
        }
      },
      "source": [
        "# Please uncomment all lines in this cell and replace those marked with `# YOUR CODE HERE`.\n",
        "# You can select all lines in this code cell with Ctrl+A (Windows/Linux) or Cmd+A (Mac), then press Ctrl+/ (Windows/Linux) or Cmd+/ (Mac) to uncomment.\n",
        "\n",
        "\n",
        "\n",
        "def base_model(inputs):\n",
        "    \n",
        "    # connect a Dense layer with 128 neurons and a relu activation\n",
        "    x = Dense(128,activation='relu')(inputs)\n",
        "    \n",
        "    # connect another Dense layer with 128 neurons and a relu activation\n",
        "    x = Dense(128,activation='relu')(x)# YOUR CODE HERE\n",
        "    return x\n",
        "  "
      ],
      "execution_count": null,
      "outputs": []
    },
    {
      "cell_type": "code",
      "metadata": {
        "deletable": false,
        "editable": false,
        "nbgrader": {
          "cell_type": "code",
          "checksum": "9255924b3def80f679616e4c851a43e1",
          "grade": true,
          "grade_id": "cell-54f742a133353d75",
          "locked": true,
          "points": 1,
          "schema_version": 3,
          "solution": false,
          "task": false
        },
        "colab": {
          "base_uri": "https://localhost:8080/",
          "height": 162
        },
        "id": "UcbxiSzWJPdw",
        "outputId": "e8f8bbf8-ec0b-41b7-cfe6-c6e8d1191878"
      },
      "source": [
        "utils.test_base_model(base_model)"
      ],
      "execution_count": null,
      "outputs": [
        {
          "output_type": "error",
          "ename": "AttributeError",
          "evalue": "ignored",
          "traceback": [
            "\u001b[0;31m---------------------------------------------------------------------------\u001b[0m",
            "\u001b[0;31mAttributeError\u001b[0m                            Traceback (most recent call last)",
            "\u001b[0;32m<ipython-input-29-468cefd178cd>\u001b[0m in \u001b[0;36m<module>\u001b[0;34m()\u001b[0m\n\u001b[0;32m----> 1\u001b[0;31m \u001b[0mutils\u001b[0m\u001b[0;34m.\u001b[0m\u001b[0mtest_base_model\u001b[0m\u001b[0;34m(\u001b[0m\u001b[0mbase_model\u001b[0m\u001b[0;34m)\u001b[0m\u001b[0;34m\u001b[0m\u001b[0;34m\u001b[0m\u001b[0m\n\u001b[0m",
            "\u001b[0;31mAttributeError\u001b[0m: module 'utils' has no attribute 'test_base_model'"
          ]
        }
      ]
    },
    {
      "cell_type": "markdown",
      "metadata": {
        "id": "xem_fcVws6Kz"
      },
      "source": [
        "# Define output layers of the model (TODO)\n",
        "\n",
        "You will add output layers to the base model. \n",
        "- The model will need two outputs.\n",
        "\n",
        "One output layer will predict wine quality, which is a numeric value.\n",
        "- Define a `Dense` layer with 1 neuron.\n",
        "- Since this is a regression output, the activation can be left as its default value `None`.\n",
        "\n",
        "The other output layer will predict the wine type, which is either red `1` or not red `0` (white).\n",
        "- Define a `Dense` layer with 1 neuron.\n",
        "- Since there are two possible categories, you can use a sigmoid activation for binary classification.\n",
        "\n",
        "Define the `Model`\n",
        "- Define the `Model` object, and set the following parameters:\n",
        "  - `inputs`: pass in the inputs to the model as a list.\n",
        "  - `outputs`: pass in a list of the outputs that you just defined: wine quality, then wine type.\n",
        "  - **Note**: please list the wine quality before wine type in the outputs, as this will affect the calculated loss if you choose the other order."
      ]
    },
    {
      "cell_type": "code",
      "metadata": {
        "deletable": false,
        "id": "n5UGF8PMVLPt",
        "nbgrader": {
          "cell_type": "code",
          "checksum": "76d35b90d20cdcbb22986cd8211057de",
          "grade": false,
          "grade_id": "cell-19e285f482f021fb",
          "locked": false,
          "schema_version": 3,
          "solution": true,
          "task": false
        }
      },
      "source": [
        "# Please uncomment all lines in this cell and replace those marked with `# YOUR CODE HERE`.\n",
        "# You can select all lines in this code cell with Ctrl+A (Windows/Linux) or Cmd+A (Mac), then press Ctrl+/ (Windows/Linux) or Cmd+/ (Mac) to uncomment.\n",
        "\n",
        "\n",
        "\n",
        "def final_model(inputs):\n",
        "    \n",
        "    # get the base model\n",
        "    x = base_model(inputs)\n",
        "\n",
        "    # connect the output Dense layer for regression\n",
        "    wine_quality = Dense(units='1', name='wine_quality')(x)\n",
        "\n",
        "    # connect the output Dense layer for classification. this will use a sigmoid activation.\n",
        "    wine_type = Dense(units='1', activation='sigmoid', name='wine_type')(x)\n",
        "\n",
        "    # define the model using the input and output layers\n",
        "    model = Model(inputs=inputs, outputs=[wine_quality,wine_type])\n",
        "\n",
        "    return model"
      ],
      "execution_count": null,
      "outputs": []
    },
    {
      "cell_type": "code",
      "metadata": {
        "deletable": false,
        "editable": false,
        "nbgrader": {
          "cell_type": "code",
          "checksum": "89cbf89d8ab5e2e59ecf7f63f517520a",
          "grade": true,
          "grade_id": "cell-40d050f855c817d1",
          "locked": true,
          "points": 1,
          "schema_version": 3,
          "solution": false,
          "task": false
        },
        "id": "lJ-pfu08JPdx"
      },
      "source": [
        "utils.test_final_model(final_model)"
      ],
      "execution_count": null,
      "outputs": []
    },
    {
      "cell_type": "markdown",
      "metadata": {
        "id": "5R0BMTsltZyu"
      },
      "source": [
        "## Compiling the Model\n",
        "\n",
        "Next, compile the model. When setting the loss parameter of `model.compile`, you're setting the loss for each of the two outputs (wine quality and wine type).\n",
        "\n",
        "To set more than one loss, use a dictionary of key-value pairs.\n",
        "- You can look at the docs for the losses [here](https://www.tensorflow.org/api_docs/python/tf/keras/losses#functions).\n",
        "    - **Note**: For the desired spelling, please look at the \"Functions\" section of the documentation and not the \"classes\" section on that same page.\n",
        "- wine_type: Since you will be performing binary classification on wine type, you should use the binary crossentropy loss function for it.  Please pass this in as a string.  \n",
        "  - **Hint**, this should be all lowercase.  In the documentation, you'll see this under the \"Functions\" section, not the \"Classes\" section.\n",
        "- wine_quality: since this is a regression output, use the mean squared error.  Please pass it in as a string, all lowercase.\n",
        "  - **Hint**: You may notice that there are two aliases for mean squared error.  Please use the shorter name.\n",
        "\n",
        "\n",
        "You will also set the metric for each of the two outputs.  Again, to set metrics for two or more outputs, use a dictionary with key value pairs.\n",
        "- The metrics documentation is linked [here](https://www.tensorflow.org/api_docs/python/tf/keras/metrics).\n",
        "- For the wine type, please set it to accuracy as a string, all lowercase.\n",
        "- For wine quality, please use the root mean squared error.  Instead of a string, you'll set it to an instance of the class [RootMeanSquaredError](https://www.tensorflow.org/api_docs/python/tf/keras/metrics/RootMeanSquaredError), which belongs to the tf.keras.metrics module.\n",
        "\n",
        "**Note**: If you see the error message \n",
        ">Exception: wine quality loss function is incorrect.\n",
        "\n",
        "- Please also check your other losses and metrics, as the error may be caused by the other three key-value pairs and not the wine quality loss."
      ]
    },
    {
      "cell_type": "code",
      "metadata": {
        "colab": {
          "base_uri": "https://localhost:8080/"
        },
        "id": "ka7tj7xKkWZH",
        "outputId": "6d67e0d7-af55-4d37-d7d3-678990a52803"
      },
      "source": [
        "inputss"
      ],
      "execution_count": null,
      "outputs": [
        {
          "output_type": "execute_result",
          "data": {
            "text/plain": [
              "<KerasTensor: shape=(None, 11) dtype=float32 (created by layer 'input_3')>"
            ]
          },
          "metadata": {
            "tags": []
          },
          "execution_count": 50
        }
      ]
    },
    {
      "cell_type": "code",
      "metadata": {
        "deletable": false,
        "id": "LK11duUbUjmh",
        "nbgrader": {
          "cell_type": "code",
          "checksum": "22f45067ca69eb2ccadb43874dbcc27b",
          "grade": false,
          "grade_id": "cell-81afdc4dcca51d5e",
          "locked": false,
          "schema_version": 3,
          "solution": true,
          "task": false
        }
      },
      "source": [
        "# Please uncomment all lines in this cell and replace those marked with `# YOUR CODE HERE`.\n",
        "# You can select all lines in this code cell with Ctrl+A (Windows/Linux) or Cmd+A (Mac), then press Ctrl+/ (Windows/Linux) or Cmd+/ (Mac) to uncomment.\n",
        "\n",
        "\n",
        "\n",
        "inputss = tf.keras.layers.Input(shape=(11,))\n",
        "rms = tf.keras.optimizers.RMSprop(lr=0.0001)\n",
        "model = final_model(inputss)\n",
        "\n",
        "model.compile(optimizer=rms, \n",
        "              loss = {'wine_type' :\"binary_crossentropy\" , # YOUR CODE HERE,\n",
        "                      'wine_quality' :\"MeanSquaredError\" # YOUR CODE HERE\n",
        "                     },\n",
        "              metrics = {'wine_type' : \"accuracy\", # YOUR CODE HERE,\n",
        "                         'wine_quality':  tf.keras.metrics.RootMeanSquaredError()# YOUR CODE HERE\n",
        "                       }\n",
        "             )\n"
      ],
      "execution_count": null,
      "outputs": []
    },
    {
      "cell_type": "code",
      "metadata": {
        "deletable": false,
        "editable": false,
        "nbgrader": {
          "cell_type": "code",
          "checksum": "88e02238ea5e456ff65e835cc8158054",
          "grade": true,
          "grade_id": "cell-2eeeba02391c4632",
          "locked": true,
          "points": 1,
          "schema_version": 3,
          "solution": false,
          "task": false
        },
        "colab": {
          "base_uri": "https://localhost:8080/",
          "height": 162
        },
        "id": "hOVVhi91JPdy",
        "outputId": "359ddc66-dd58-430b-8432-84064ba6b8e8"
      },
      "source": [
        "utils.test_model_compile(model)"
      ],
      "execution_count": null,
      "outputs": [
        {
          "output_type": "error",
          "ename": "AttributeError",
          "evalue": "ignored",
          "traceback": [
            "\u001b[0;31m---------------------------------------------------------------------------\u001b[0m",
            "\u001b[0;31mAttributeError\u001b[0m                            Traceback (most recent call last)",
            "\u001b[0;32m<ipython-input-32-9a25711e305e>\u001b[0m in \u001b[0;36m<module>\u001b[0;34m()\u001b[0m\n\u001b[0;32m----> 1\u001b[0;31m \u001b[0mutils\u001b[0m\u001b[0;34m.\u001b[0m\u001b[0mtest_model_compile\u001b[0m\u001b[0;34m(\u001b[0m\u001b[0mmodel\u001b[0m\u001b[0;34m)\u001b[0m\u001b[0;34m\u001b[0m\u001b[0;34m\u001b[0m\u001b[0m\n\u001b[0m",
            "\u001b[0;31mAttributeError\u001b[0m: module 'utils' has no attribute 'test_model_compile'"
          ]
        }
      ]
    },
    {
      "cell_type": "markdown",
      "metadata": {
        "id": "90MpAMpWuKm-"
      },
      "source": [
        "## Training the Model\n",
        "\n",
        "Fit the model to the training inputs and outputs. \n",
        "- Check the documentation for [model.fit](https://www.tensorflow.org/api_docs/python/tf/keras/Model#fit).\n",
        "- Remember to use the normalized training set as inputs. \n",
        "- For the validation data, please use the normalized validation set."
      ]
    },
    {
      "cell_type": "code",
      "metadata": {
        "colab": {
          "base_uri": "https://localhost:8080/"
        },
        "deletable": false,
        "id": "_eiZkle4XwiY",
        "nbgrader": {
          "cell_type": "code",
          "checksum": "2ca7664be03bfd6fd3651ae44d17b793",
          "grade": false,
          "grade_id": "cell-0bb56262896f6680",
          "locked": false,
          "schema_version": 3,
          "solution": true,
          "task": false
        },
        "outputId": "31f94a8d-ccde-4344-a6e4-d501936a611a"
      },
      "source": [
        "# Please uncomment all lines in this cell and replace those marked with `# YOUR CODE HERE`.\n",
        "# You can select all lines in this code cell with Ctrl+A (Windows/Linux) or Cmd+A (Mac), then press Ctrl+/ (Windows/Linux) or Cmd+/ (Mac) to uncomment.\n",
        "\n",
        "\n",
        "\n",
        "history = model.fit(norm_train_X, train_Y,\n",
        "                    epochs = 180, validation_data=(norm_val_X,val_Y))"
      ],
      "execution_count": null,
      "outputs": [
        {
          "output_type": "stream",
          "text": [
            "Epoch 1/180\n",
            "99/99 [==============================] - 3s 9ms/step - loss: 28.4618 - wine_quality_loss: 27.8203 - wine_type_loss: 0.6415 - wine_quality_root_mean_squared_error: 5.2685 - wine_type_accuracy: 0.6793 - val_loss: 16.7389 - val_wine_quality_loss: 16.1341 - val_wine_type_loss: 0.6048 - val_wine_quality_root_mean_squared_error: 4.0167 - val_wine_type_accuracy: 0.8162\n",
            "Epoch 2/180\n",
            "99/99 [==============================] - 1s 7ms/step - loss: 13.5384 - wine_quality_loss: 12.9578 - wine_type_loss: 0.5806 - wine_quality_root_mean_squared_error: 3.5905 - wine_type_accuracy: 0.8635 - val_loss: 5.9443 - val_wine_quality_loss: 5.4175 - val_wine_type_loss: 0.5268 - val_wine_quality_root_mean_squared_error: 2.3276 - val_wine_type_accuracy: 0.9024\n",
            "Epoch 3/180\n",
            "99/99 [==============================] - 1s 6ms/step - loss: 4.6390 - wine_quality_loss: 4.1415 - wine_type_loss: 0.4974 - wine_quality_root_mean_squared_error: 2.0336 - wine_type_accuracy: 0.8989 - val_loss: 2.9438 - val_wine_quality_loss: 2.5273 - val_wine_type_loss: 0.4165 - val_wine_quality_root_mean_squared_error: 1.5897 - val_wine_type_accuracy: 0.8859\n",
            "Epoch 4/180\n",
            "99/99 [==============================] - 1s 6ms/step - loss: 2.8031 - wine_quality_loss: 2.4195 - wine_type_loss: 0.3836 - wine_quality_root_mean_squared_error: 1.5535 - wine_type_accuracy: 0.9051 - val_loss: 2.3769 - val_wine_quality_loss: 2.0628 - val_wine_type_loss: 0.3141 - val_wine_quality_root_mean_squared_error: 1.4362 - val_wine_type_accuracy: 0.9417\n",
            "Epoch 5/180\n",
            "99/99 [==============================] - 1s 6ms/step - loss: 2.2994 - wine_quality_loss: 2.0069 - wine_type_loss: 0.2925 - wine_quality_root_mean_squared_error: 1.4161 - wine_type_accuracy: 0.9481 - val_loss: 2.0677 - val_wine_quality_loss: 1.8264 - val_wine_type_loss: 0.2413 - val_wine_quality_root_mean_squared_error: 1.3514 - val_wine_type_accuracy: 0.9683\n",
            "Epoch 6/180\n",
            "99/99 [==============================] - 1s 7ms/step - loss: 2.0936 - wine_quality_loss: 1.8719 - wine_type_loss: 0.2217 - wine_quality_root_mean_squared_error: 1.3669 - wine_type_accuracy: 0.9695 - val_loss: 1.8239 - val_wine_quality_loss: 1.6390 - val_wine_type_loss: 0.1850 - val_wine_quality_root_mean_squared_error: 1.2802 - val_wine_type_accuracy: 0.9823\n",
            "Epoch 7/180\n",
            "99/99 [==============================] - 1s 6ms/step - loss: 1.8113 - wine_quality_loss: 1.6429 - wine_type_loss: 0.1684 - wine_quality_root_mean_squared_error: 1.2810 - wine_type_accuracy: 0.9809 - val_loss: 1.6476 - val_wine_quality_loss: 1.5025 - val_wine_type_loss: 0.1451 - val_wine_quality_root_mean_squared_error: 1.2258 - val_wine_type_accuracy: 0.9848\n",
            "Epoch 8/180\n",
            "99/99 [==============================] - 1s 6ms/step - loss: 1.5664 - wine_quality_loss: 1.4283 - wine_type_loss: 0.1380 - wine_quality_root_mean_squared_error: 1.1946 - wine_type_accuracy: 0.9833 - val_loss: 1.5145 - val_wine_quality_loss: 1.3976 - val_wine_type_loss: 0.1169 - val_wine_quality_root_mean_squared_error: 1.1822 - val_wine_type_accuracy: 0.9861\n",
            "Epoch 9/180\n",
            "99/99 [==============================] - 1s 6ms/step - loss: 1.4411 - wine_quality_loss: 1.3274 - wine_type_loss: 0.1138 - wine_quality_root_mean_squared_error: 1.1512 - wine_type_accuracy: 0.9851 - val_loss: 1.4072 - val_wine_quality_loss: 1.3087 - val_wine_type_loss: 0.0986 - val_wine_quality_root_mean_squared_error: 1.1440 - val_wine_type_accuracy: 0.9873\n",
            "Epoch 10/180\n",
            "99/99 [==============================] - 1s 6ms/step - loss: 1.3750 - wine_quality_loss: 1.2855 - wine_type_loss: 0.0895 - wine_quality_root_mean_squared_error: 1.1334 - wine_type_accuracy: 0.9875 - val_loss: 1.3031 - val_wine_quality_loss: 1.2195 - val_wine_type_loss: 0.0836 - val_wine_quality_root_mean_squared_error: 1.1043 - val_wine_type_accuracy: 0.9886\n",
            "Epoch 11/180\n",
            "99/99 [==============================] - 1s 6ms/step - loss: 1.2909 - wine_quality_loss: 1.2075 - wine_type_loss: 0.0835 - wine_quality_root_mean_squared_error: 1.0983 - wine_type_accuracy: 0.9864 - val_loss: 1.2052 - val_wine_quality_loss: 1.1315 - val_wine_type_loss: 0.0737 - val_wine_quality_root_mean_squared_error: 1.0637 - val_wine_type_accuracy: 0.9899\n",
            "Epoch 12/180\n",
            "99/99 [==============================] - 1s 7ms/step - loss: 1.1371 - wine_quality_loss: 1.0662 - wine_type_loss: 0.0709 - wine_quality_root_mean_squared_error: 1.0323 - wine_type_accuracy: 0.9863 - val_loss: 1.1190 - val_wine_quality_loss: 1.0534 - val_wine_type_loss: 0.0657 - val_wine_quality_root_mean_squared_error: 1.0263 - val_wine_type_accuracy: 0.9911\n",
            "Epoch 13/180\n",
            "99/99 [==============================] - 1s 7ms/step - loss: 1.0816 - wine_quality_loss: 1.0178 - wine_type_loss: 0.0638 - wine_quality_root_mean_squared_error: 1.0087 - wine_type_accuracy: 0.9877 - val_loss: 1.0593 - val_wine_quality_loss: 0.9997 - val_wine_type_loss: 0.0596 - val_wine_quality_root_mean_squared_error: 0.9999 - val_wine_type_accuracy: 0.9924\n",
            "Epoch 14/180\n",
            "99/99 [==============================] - 1s 6ms/step - loss: 0.9758 - wine_quality_loss: 0.9104 - wine_type_loss: 0.0654 - wine_quality_root_mean_squared_error: 0.9540 - wine_type_accuracy: 0.9863 - val_loss: 0.9900 - val_wine_quality_loss: 0.9350 - val_wine_type_loss: 0.0550 - val_wine_quality_root_mean_squared_error: 0.9670 - val_wine_type_accuracy: 0.9924\n",
            "Epoch 15/180\n",
            "99/99 [==============================] - 1s 7ms/step - loss: 0.9525 - wine_quality_loss: 0.9030 - wine_type_loss: 0.0495 - wine_quality_root_mean_squared_error: 0.9494 - wine_type_accuracy: 0.9900 - val_loss: 0.9239 - val_wine_quality_loss: 0.8724 - val_wine_type_loss: 0.0516 - val_wine_quality_root_mean_squared_error: 0.9340 - val_wine_type_accuracy: 0.9937\n",
            "Epoch 16/180\n",
            "99/99 [==============================] - 1s 6ms/step - loss: 0.9109 - wine_quality_loss: 0.8545 - wine_type_loss: 0.0564 - wine_quality_root_mean_squared_error: 0.9242 - wine_type_accuracy: 0.9869 - val_loss: 0.8698 - val_wine_quality_loss: 0.8215 - val_wine_type_loss: 0.0484 - val_wine_quality_root_mean_squared_error: 0.9063 - val_wine_type_accuracy: 0.9937\n",
            "Epoch 17/180\n",
            "99/99 [==============================] - 1s 6ms/step - loss: 0.8388 - wine_quality_loss: 0.7882 - wine_type_loss: 0.0506 - wine_quality_root_mean_squared_error: 0.8876 - wine_type_accuracy: 0.9880 - val_loss: 0.8189 - val_wine_quality_loss: 0.7732 - val_wine_type_loss: 0.0457 - val_wine_quality_root_mean_squared_error: 0.8793 - val_wine_type_accuracy: 0.9937\n",
            "Epoch 18/180\n",
            "99/99 [==============================] - 1s 6ms/step - loss: 0.7846 - wine_quality_loss: 0.7322 - wine_type_loss: 0.0524 - wine_quality_root_mean_squared_error: 0.8555 - wine_type_accuracy: 0.9878 - val_loss: 0.7700 - val_wine_quality_loss: 0.7264 - val_wine_type_loss: 0.0437 - val_wine_quality_root_mean_squared_error: 0.8523 - val_wine_type_accuracy: 0.9937\n",
            "Epoch 19/180\n",
            "99/99 [==============================] - 1s 6ms/step - loss: 0.8089 - wine_quality_loss: 0.7525 - wine_type_loss: 0.0564 - wine_quality_root_mean_squared_error: 0.8672 - wine_type_accuracy: 0.9889 - val_loss: 0.7271 - val_wine_quality_loss: 0.6850 - val_wine_type_loss: 0.0421 - val_wine_quality_root_mean_squared_error: 0.8276 - val_wine_type_accuracy: 0.9937\n",
            "Epoch 20/180\n",
            "99/99 [==============================] - 1s 6ms/step - loss: 0.6909 - wine_quality_loss: 0.6512 - wine_type_loss: 0.0397 - wine_quality_root_mean_squared_error: 0.8065 - wine_type_accuracy: 0.9888 - val_loss: 0.6841 - val_wine_quality_loss: 0.6437 - val_wine_type_loss: 0.0405 - val_wine_quality_root_mean_squared_error: 0.8023 - val_wine_type_accuracy: 0.9937\n",
            "Epoch 21/180\n",
            "99/99 [==============================] - 1s 6ms/step - loss: 0.7197 - wine_quality_loss: 0.6780 - wine_type_loss: 0.0417 - wine_quality_root_mean_squared_error: 0.8219 - wine_type_accuracy: 0.9912 - val_loss: 0.6498 - val_wine_quality_loss: 0.6104 - val_wine_type_loss: 0.0394 - val_wine_quality_root_mean_squared_error: 0.7813 - val_wine_type_accuracy: 0.9937\n",
            "Epoch 22/180\n",
            "99/99 [==============================] - 1s 6ms/step - loss: 0.6127 - wine_quality_loss: 0.5706 - wine_type_loss: 0.0421 - wine_quality_root_mean_squared_error: 0.7549 - wine_type_accuracy: 0.9898 - val_loss: 0.6288 - val_wine_quality_loss: 0.5906 - val_wine_type_loss: 0.0382 - val_wine_quality_root_mean_squared_error: 0.7685 - val_wine_type_accuracy: 0.9937\n",
            "Epoch 23/180\n",
            "99/99 [==============================] - 1s 6ms/step - loss: 0.6225 - wine_quality_loss: 0.5859 - wine_type_loss: 0.0366 - wine_quality_root_mean_squared_error: 0.7651 - wine_type_accuracy: 0.9902 - val_loss: 0.6008 - val_wine_quality_loss: 0.5637 - val_wine_type_loss: 0.0371 - val_wine_quality_root_mean_squared_error: 0.7508 - val_wine_type_accuracy: 0.9937\n",
            "Epoch 24/180\n",
            "99/99 [==============================] - 1s 6ms/step - loss: 0.5848 - wine_quality_loss: 0.5419 - wine_type_loss: 0.0428 - wine_quality_root_mean_squared_error: 0.7361 - wine_type_accuracy: 0.9897 - val_loss: 0.5613 - val_wine_quality_loss: 0.5249 - val_wine_type_loss: 0.0363 - val_wine_quality_root_mean_squared_error: 0.7245 - val_wine_type_accuracy: 0.9949\n",
            "Epoch 25/180\n",
            "99/99 [==============================] - 1s 6ms/step - loss: 0.5665 - wine_quality_loss: 0.5285 - wine_type_loss: 0.0380 - wine_quality_root_mean_squared_error: 0.7269 - wine_type_accuracy: 0.9921 - val_loss: 0.5479 - val_wine_quality_loss: 0.5124 - val_wine_type_loss: 0.0355 - val_wine_quality_root_mean_squared_error: 0.7158 - val_wine_type_accuracy: 0.9949\n",
            "Epoch 26/180\n",
            "99/99 [==============================] - 1s 6ms/step - loss: 0.5468 - wine_quality_loss: 0.5095 - wine_type_loss: 0.0372 - wine_quality_root_mean_squared_error: 0.7137 - wine_type_accuracy: 0.9899 - val_loss: 0.5135 - val_wine_quality_loss: 0.4787 - val_wine_type_loss: 0.0349 - val_wine_quality_root_mean_squared_error: 0.6919 - val_wine_type_accuracy: 0.9949\n",
            "Epoch 27/180\n",
            "99/99 [==============================] - 1s 6ms/step - loss: 0.5087 - wine_quality_loss: 0.4733 - wine_type_loss: 0.0354 - wine_quality_root_mean_squared_error: 0.6877 - wine_type_accuracy: 0.9921 - val_loss: 0.5026 - val_wine_quality_loss: 0.4683 - val_wine_type_loss: 0.0344 - val_wine_quality_root_mean_squared_error: 0.6843 - val_wine_type_accuracy: 0.9949\n",
            "Epoch 28/180\n",
            "99/99 [==============================] - 1s 6ms/step - loss: 0.4938 - wine_quality_loss: 0.4520 - wine_type_loss: 0.0418 - wine_quality_root_mean_squared_error: 0.6722 - wine_type_accuracy: 0.9897 - val_loss: 0.4787 - val_wine_quality_loss: 0.4449 - val_wine_type_loss: 0.0339 - val_wine_quality_root_mean_squared_error: 0.6670 - val_wine_type_accuracy: 0.9949\n",
            "Epoch 29/180\n",
            "99/99 [==============================] - 1s 7ms/step - loss: 0.4640 - wine_quality_loss: 0.4299 - wine_type_loss: 0.0341 - wine_quality_root_mean_squared_error: 0.6555 - wine_type_accuracy: 0.9915 - val_loss: 0.4639 - val_wine_quality_loss: 0.4305 - val_wine_type_loss: 0.0334 - val_wine_quality_root_mean_squared_error: 0.6561 - val_wine_type_accuracy: 0.9949\n",
            "Epoch 30/180\n",
            "99/99 [==============================] - 1s 7ms/step - loss: 0.4706 - wine_quality_loss: 0.4343 - wine_type_loss: 0.0364 - wine_quality_root_mean_squared_error: 0.6588 - wine_type_accuracy: 0.9905 - val_loss: 0.4474 - val_wine_quality_loss: 0.4145 - val_wine_type_loss: 0.0329 - val_wine_quality_root_mean_squared_error: 0.6438 - val_wine_type_accuracy: 0.9949\n",
            "Epoch 31/180\n",
            "99/99 [==============================] - 1s 6ms/step - loss: 0.4561 - wine_quality_loss: 0.4245 - wine_type_loss: 0.0315 - wine_quality_root_mean_squared_error: 0.6515 - wine_type_accuracy: 0.9942 - val_loss: 0.4308 - val_wine_quality_loss: 0.3983 - val_wine_type_loss: 0.0325 - val_wine_quality_root_mean_squared_error: 0.6311 - val_wine_type_accuracy: 0.9949\n",
            "Epoch 32/180\n",
            "99/99 [==============================] - 1s 7ms/step - loss: 0.4288 - wine_quality_loss: 0.3877 - wine_type_loss: 0.0411 - wine_quality_root_mean_squared_error: 0.6222 - wine_type_accuracy: 0.9902 - val_loss: 0.4283 - val_wine_quality_loss: 0.3962 - val_wine_type_loss: 0.0322 - val_wine_quality_root_mean_squared_error: 0.6294 - val_wine_type_accuracy: 0.9949\n",
            "Epoch 33/180\n",
            "99/99 [==============================] - 1s 7ms/step - loss: 0.4198 - wine_quality_loss: 0.3807 - wine_type_loss: 0.0392 - wine_quality_root_mean_squared_error: 0.6169 - wine_type_accuracy: 0.9928 - val_loss: 0.4175 - val_wine_quality_loss: 0.3857 - val_wine_type_loss: 0.0318 - val_wine_quality_root_mean_squared_error: 0.6210 - val_wine_type_accuracy: 0.9949\n",
            "Epoch 34/180\n",
            "99/99 [==============================] - 1s 7ms/step - loss: 0.3957 - wine_quality_loss: 0.3714 - wine_type_loss: 0.0243 - wine_quality_root_mean_squared_error: 0.6094 - wine_type_accuracy: 0.9951 - val_loss: 0.4050 - val_wine_quality_loss: 0.3735 - val_wine_type_loss: 0.0315 - val_wine_quality_root_mean_squared_error: 0.6111 - val_wine_type_accuracy: 0.9949\n",
            "Epoch 35/180\n",
            "99/99 [==============================] - 1s 6ms/step - loss: 0.3792 - wine_quality_loss: 0.3553 - wine_type_loss: 0.0239 - wine_quality_root_mean_squared_error: 0.5959 - wine_type_accuracy: 0.9967 - val_loss: 0.3966 - val_wine_quality_loss: 0.3654 - val_wine_type_loss: 0.0313 - val_wine_quality_root_mean_squared_error: 0.6044 - val_wine_type_accuracy: 0.9949\n",
            "Epoch 36/180\n",
            "99/99 [==============================] - 1s 6ms/step - loss: 0.3978 - wine_quality_loss: 0.3662 - wine_type_loss: 0.0316 - wine_quality_root_mean_squared_error: 0.6051 - wine_type_accuracy: 0.9926 - val_loss: 0.3949 - val_wine_quality_loss: 0.3640 - val_wine_type_loss: 0.0309 - val_wine_quality_root_mean_squared_error: 0.6033 - val_wine_type_accuracy: 0.9949\n",
            "Epoch 37/180\n",
            "99/99 [==============================] - 1s 7ms/step - loss: 0.3951 - wine_quality_loss: 0.3605 - wine_type_loss: 0.0347 - wine_quality_root_mean_squared_error: 0.6002 - wine_type_accuracy: 0.9927 - val_loss: 0.3878 - val_wine_quality_loss: 0.3570 - val_wine_type_loss: 0.0308 - val_wine_quality_root_mean_squared_error: 0.5975 - val_wine_type_accuracy: 0.9949\n",
            "Epoch 38/180\n",
            "99/99 [==============================] - 1s 6ms/step - loss: 0.3900 - wine_quality_loss: 0.3545 - wine_type_loss: 0.0354 - wine_quality_root_mean_squared_error: 0.5953 - wine_type_accuracy: 0.9930 - val_loss: 0.3925 - val_wine_quality_loss: 0.3619 - val_wine_type_loss: 0.0306 - val_wine_quality_root_mean_squared_error: 0.6016 - val_wine_type_accuracy: 0.9949\n",
            "Epoch 39/180\n",
            "99/99 [==============================] - 1s 6ms/step - loss: 0.4008 - wine_quality_loss: 0.3583 - wine_type_loss: 0.0425 - wine_quality_root_mean_squared_error: 0.5985 - wine_type_accuracy: 0.9916 - val_loss: 0.3809 - val_wine_quality_loss: 0.3504 - val_wine_type_loss: 0.0305 - val_wine_quality_root_mean_squared_error: 0.5919 - val_wine_type_accuracy: 0.9949\n",
            "Epoch 40/180\n",
            "99/99 [==============================] - 1s 6ms/step - loss: 0.3812 - wine_quality_loss: 0.3493 - wine_type_loss: 0.0319 - wine_quality_root_mean_squared_error: 0.5910 - wine_type_accuracy: 0.9955 - val_loss: 0.3713 - val_wine_quality_loss: 0.3410 - val_wine_type_loss: 0.0303 - val_wine_quality_root_mean_squared_error: 0.5839 - val_wine_type_accuracy: 0.9949\n",
            "Epoch 41/180\n",
            "99/99 [==============================] - 1s 6ms/step - loss: 0.3794 - wine_quality_loss: 0.3391 - wine_type_loss: 0.0403 - wine_quality_root_mean_squared_error: 0.5823 - wine_type_accuracy: 0.9940 - val_loss: 0.3691 - val_wine_quality_loss: 0.3389 - val_wine_type_loss: 0.0302 - val_wine_quality_root_mean_squared_error: 0.5821 - val_wine_type_accuracy: 0.9949\n",
            "Epoch 42/180\n",
            "99/99 [==============================] - 1s 7ms/step - loss: 0.3768 - wine_quality_loss: 0.3320 - wine_type_loss: 0.0448 - wine_quality_root_mean_squared_error: 0.5761 - wine_type_accuracy: 0.9931 - val_loss: 0.3766 - val_wine_quality_loss: 0.3466 - val_wine_type_loss: 0.0300 - val_wine_quality_root_mean_squared_error: 0.5887 - val_wine_type_accuracy: 0.9949\n",
            "Epoch 43/180\n",
            "99/99 [==============================] - 1s 7ms/step - loss: 0.3669 - wine_quality_loss: 0.3402 - wine_type_loss: 0.0267 - wine_quality_root_mean_squared_error: 0.5830 - wine_type_accuracy: 0.9966 - val_loss: 0.3634 - val_wine_quality_loss: 0.3336 - val_wine_type_loss: 0.0298 - val_wine_quality_root_mean_squared_error: 0.5776 - val_wine_type_accuracy: 0.9949\n",
            "Epoch 44/180\n",
            "99/99 [==============================] - 1s 7ms/step - loss: 0.3647 - wine_quality_loss: 0.3368 - wine_type_loss: 0.0279 - wine_quality_root_mean_squared_error: 0.5803 - wine_type_accuracy: 0.9956 - val_loss: 0.3604 - val_wine_quality_loss: 0.3306 - val_wine_type_loss: 0.0298 - val_wine_quality_root_mean_squared_error: 0.5750 - val_wine_type_accuracy: 0.9949\n",
            "Epoch 45/180\n",
            "99/99 [==============================] - 1s 6ms/step - loss: 0.3365 - wine_quality_loss: 0.3132 - wine_type_loss: 0.0233 - wine_quality_root_mean_squared_error: 0.5594 - wine_type_accuracy: 0.9960 - val_loss: 0.3572 - val_wine_quality_loss: 0.3277 - val_wine_type_loss: 0.0295 - val_wine_quality_root_mean_squared_error: 0.5725 - val_wine_type_accuracy: 0.9949\n",
            "Epoch 46/180\n",
            "99/99 [==============================] - 1s 7ms/step - loss: 0.3737 - wine_quality_loss: 0.3457 - wine_type_loss: 0.0280 - wine_quality_root_mean_squared_error: 0.5878 - wine_type_accuracy: 0.9960 - val_loss: 0.3602 - val_wine_quality_loss: 0.3309 - val_wine_type_loss: 0.0293 - val_wine_quality_root_mean_squared_error: 0.5752 - val_wine_type_accuracy: 0.9949\n",
            "Epoch 47/180\n",
            "99/99 [==============================] - 1s 6ms/step - loss: 0.3485 - wine_quality_loss: 0.3231 - wine_type_loss: 0.0253 - wine_quality_root_mean_squared_error: 0.5684 - wine_type_accuracy: 0.9962 - val_loss: 0.3523 - val_wine_quality_loss: 0.3232 - val_wine_type_loss: 0.0292 - val_wine_quality_root_mean_squared_error: 0.5685 - val_wine_type_accuracy: 0.9949\n",
            "Epoch 48/180\n",
            "99/99 [==============================] - 1s 6ms/step - loss: 0.3755 - wine_quality_loss: 0.3294 - wine_type_loss: 0.0461 - wine_quality_root_mean_squared_error: 0.5738 - wine_type_accuracy: 0.9919 - val_loss: 0.3609 - val_wine_quality_loss: 0.3318 - val_wine_type_loss: 0.0291 - val_wine_quality_root_mean_squared_error: 0.5760 - val_wine_type_accuracy: 0.9949\n",
            "Epoch 49/180\n",
            "99/99 [==============================] - 1s 7ms/step - loss: 0.3511 - wine_quality_loss: 0.3207 - wine_type_loss: 0.0304 - wine_quality_root_mean_squared_error: 0.5662 - wine_type_accuracy: 0.9947 - val_loss: 0.3511 - val_wine_quality_loss: 0.3221 - val_wine_type_loss: 0.0289 - val_wine_quality_root_mean_squared_error: 0.5676 - val_wine_type_accuracy: 0.9949\n",
            "Epoch 50/180\n",
            "99/99 [==============================] - 1s 7ms/step - loss: 0.3454 - wine_quality_loss: 0.3195 - wine_type_loss: 0.0259 - wine_quality_root_mean_squared_error: 0.5652 - wine_type_accuracy: 0.9946 - val_loss: 0.3489 - val_wine_quality_loss: 0.3200 - val_wine_type_loss: 0.0289 - val_wine_quality_root_mean_squared_error: 0.5656 - val_wine_type_accuracy: 0.9949\n",
            "Epoch 51/180\n",
            "99/99 [==============================] - 1s 7ms/step - loss: 0.3564 - wine_quality_loss: 0.3266 - wine_type_loss: 0.0299 - wine_quality_root_mean_squared_error: 0.5713 - wine_type_accuracy: 0.9952 - val_loss: 0.3497 - val_wine_quality_loss: 0.3209 - val_wine_type_loss: 0.0289 - val_wine_quality_root_mean_squared_error: 0.5664 - val_wine_type_accuracy: 0.9949\n",
            "Epoch 52/180\n",
            "99/99 [==============================] - 1s 7ms/step - loss: 0.3519 - wine_quality_loss: 0.3177 - wine_type_loss: 0.0342 - wine_quality_root_mean_squared_error: 0.5636 - wine_type_accuracy: 0.9944 - val_loss: 0.3536 - val_wine_quality_loss: 0.3249 - val_wine_type_loss: 0.0287 - val_wine_quality_root_mean_squared_error: 0.5700 - val_wine_type_accuracy: 0.9949\n",
            "Epoch 53/180\n",
            "99/99 [==============================] - 1s 7ms/step - loss: 0.3337 - wine_quality_loss: 0.3111 - wine_type_loss: 0.0226 - wine_quality_root_mean_squared_error: 0.5578 - wine_type_accuracy: 0.9972 - val_loss: 0.3525 - val_wine_quality_loss: 0.3240 - val_wine_type_loss: 0.0285 - val_wine_quality_root_mean_squared_error: 0.5692 - val_wine_type_accuracy: 0.9937\n",
            "Epoch 54/180\n",
            "99/99 [==============================] - 1s 6ms/step - loss: 0.3393 - wine_quality_loss: 0.3057 - wine_type_loss: 0.0337 - wine_quality_root_mean_squared_error: 0.5527 - wine_type_accuracy: 0.9951 - val_loss: 0.3505 - val_wine_quality_loss: 0.3221 - val_wine_type_loss: 0.0284 - val_wine_quality_root_mean_squared_error: 0.5675 - val_wine_type_accuracy: 0.9949\n",
            "Epoch 55/180\n",
            "99/99 [==============================] - 1s 7ms/step - loss: 0.3268 - wine_quality_loss: 0.3070 - wine_type_loss: 0.0198 - wine_quality_root_mean_squared_error: 0.5540 - wine_type_accuracy: 0.9972 - val_loss: 0.3562 - val_wine_quality_loss: 0.3278 - val_wine_type_loss: 0.0284 - val_wine_quality_root_mean_squared_error: 0.5725 - val_wine_type_accuracy: 0.9949\n",
            "Epoch 56/180\n",
            "99/99 [==============================] - 1s 6ms/step - loss: 0.3380 - wine_quality_loss: 0.3165 - wine_type_loss: 0.0216 - wine_quality_root_mean_squared_error: 0.5622 - wine_type_accuracy: 0.9958 - val_loss: 0.3461 - val_wine_quality_loss: 0.3177 - val_wine_type_loss: 0.0283 - val_wine_quality_root_mean_squared_error: 0.5637 - val_wine_type_accuracy: 0.9937\n",
            "Epoch 57/180\n",
            "99/99 [==============================] - 1s 8ms/step - loss: 0.3372 - wine_quality_loss: 0.3051 - wine_type_loss: 0.0321 - wine_quality_root_mean_squared_error: 0.5522 - wine_type_accuracy: 0.9941 - val_loss: 0.3461 - val_wine_quality_loss: 0.3178 - val_wine_type_loss: 0.0283 - val_wine_quality_root_mean_squared_error: 0.5637 - val_wine_type_accuracy: 0.9937\n",
            "Epoch 58/180\n",
            "99/99 [==============================] - 1s 7ms/step - loss: 0.3385 - wine_quality_loss: 0.3021 - wine_type_loss: 0.0363 - wine_quality_root_mean_squared_error: 0.5496 - wine_type_accuracy: 0.9948 - val_loss: 0.3476 - val_wine_quality_loss: 0.3192 - val_wine_type_loss: 0.0283 - val_wine_quality_root_mean_squared_error: 0.5650 - val_wine_type_accuracy: 0.9949\n",
            "Epoch 59/180\n",
            "99/99 [==============================] - 1s 7ms/step - loss: 0.3400 - wine_quality_loss: 0.3149 - wine_type_loss: 0.0251 - wine_quality_root_mean_squared_error: 0.5610 - wine_type_accuracy: 0.9947 - val_loss: 0.3446 - val_wine_quality_loss: 0.3162 - val_wine_type_loss: 0.0284 - val_wine_quality_root_mean_squared_error: 0.5623 - val_wine_type_accuracy: 0.9949\n",
            "Epoch 60/180\n",
            "99/99 [==============================] - 1s 7ms/step - loss: 0.3493 - wine_quality_loss: 0.3079 - wine_type_loss: 0.0414 - wine_quality_root_mean_squared_error: 0.5548 - wine_type_accuracy: 0.9937 - val_loss: 0.3500 - val_wine_quality_loss: 0.3219 - val_wine_type_loss: 0.0281 - val_wine_quality_root_mean_squared_error: 0.5674 - val_wine_type_accuracy: 0.9937\n",
            "Epoch 61/180\n",
            "99/99 [==============================] - 1s 6ms/step - loss: 0.3333 - wine_quality_loss: 0.3064 - wine_type_loss: 0.0269 - wine_quality_root_mean_squared_error: 0.5534 - wine_type_accuracy: 0.9953 - val_loss: 0.3434 - val_wine_quality_loss: 0.3154 - val_wine_type_loss: 0.0280 - val_wine_quality_root_mean_squared_error: 0.5616 - val_wine_type_accuracy: 0.9937\n",
            "Epoch 62/180\n",
            "99/99 [==============================] - 1s 7ms/step - loss: 0.3172 - wine_quality_loss: 0.2968 - wine_type_loss: 0.0204 - wine_quality_root_mean_squared_error: 0.5447 - wine_type_accuracy: 0.9958 - val_loss: 0.3493 - val_wine_quality_loss: 0.3215 - val_wine_type_loss: 0.0278 - val_wine_quality_root_mean_squared_error: 0.5670 - val_wine_type_accuracy: 0.9937\n",
            "Epoch 63/180\n",
            "99/99 [==============================] - 1s 6ms/step - loss: 0.3303 - wine_quality_loss: 0.3113 - wine_type_loss: 0.0190 - wine_quality_root_mean_squared_error: 0.5579 - wine_type_accuracy: 0.9967 - val_loss: 0.3411 - val_wine_quality_loss: 0.3134 - val_wine_type_loss: 0.0277 - val_wine_quality_root_mean_squared_error: 0.5598 - val_wine_type_accuracy: 0.9937\n",
            "Epoch 64/180\n",
            "99/99 [==============================] - 1s 6ms/step - loss: 0.3356 - wine_quality_loss: 0.3068 - wine_type_loss: 0.0287 - wine_quality_root_mean_squared_error: 0.5539 - wine_type_accuracy: 0.9953 - val_loss: 0.3580 - val_wine_quality_loss: 0.3303 - val_wine_type_loss: 0.0277 - val_wine_quality_root_mean_squared_error: 0.5747 - val_wine_type_accuracy: 0.9937\n",
            "Epoch 65/180\n",
            "99/99 [==============================] - 1s 6ms/step - loss: 0.3247 - wine_quality_loss: 0.3048 - wine_type_loss: 0.0199 - wine_quality_root_mean_squared_error: 0.5520 - wine_type_accuracy: 0.9970 - val_loss: 0.3454 - val_wine_quality_loss: 0.3178 - val_wine_type_loss: 0.0276 - val_wine_quality_root_mean_squared_error: 0.5637 - val_wine_type_accuracy: 0.9937\n",
            "Epoch 66/180\n",
            "99/99 [==============================] - 1s 7ms/step - loss: 0.3229 - wine_quality_loss: 0.2997 - wine_type_loss: 0.0232 - wine_quality_root_mean_squared_error: 0.5473 - wine_type_accuracy: 0.9956 - val_loss: 0.3427 - val_wine_quality_loss: 0.3152 - val_wine_type_loss: 0.0275 - val_wine_quality_root_mean_squared_error: 0.5614 - val_wine_type_accuracy: 0.9937\n",
            "Epoch 67/180\n",
            "99/99 [==============================] - 1s 7ms/step - loss: 0.3359 - wine_quality_loss: 0.3101 - wine_type_loss: 0.0258 - wine_quality_root_mean_squared_error: 0.5567 - wine_type_accuracy: 0.9949 - val_loss: 0.3405 - val_wine_quality_loss: 0.3131 - val_wine_type_loss: 0.0274 - val_wine_quality_root_mean_squared_error: 0.5595 - val_wine_type_accuracy: 0.9937\n",
            "Epoch 68/180\n",
            "99/99 [==============================] - 1s 7ms/step - loss: 0.3149 - wine_quality_loss: 0.2930 - wine_type_loss: 0.0219 - wine_quality_root_mean_squared_error: 0.5412 - wine_type_accuracy: 0.9964 - val_loss: 0.3428 - val_wine_quality_loss: 0.3156 - val_wine_type_loss: 0.0272 - val_wine_quality_root_mean_squared_error: 0.5618 - val_wine_type_accuracy: 0.9937\n",
            "Epoch 69/180\n",
            "99/99 [==============================] - 1s 7ms/step - loss: 0.3243 - wine_quality_loss: 0.2983 - wine_type_loss: 0.0260 - wine_quality_root_mean_squared_error: 0.5461 - wine_type_accuracy: 0.9958 - val_loss: 0.3501 - val_wine_quality_loss: 0.3227 - val_wine_type_loss: 0.0273 - val_wine_quality_root_mean_squared_error: 0.5681 - val_wine_type_accuracy: 0.9937\n",
            "Epoch 70/180\n",
            "99/99 [==============================] - 1s 6ms/step - loss: 0.3324 - wine_quality_loss: 0.3023 - wine_type_loss: 0.0301 - wine_quality_root_mean_squared_error: 0.5497 - wine_type_accuracy: 0.9939 - val_loss: 0.3445 - val_wine_quality_loss: 0.3173 - val_wine_type_loss: 0.0272 - val_wine_quality_root_mean_squared_error: 0.5633 - val_wine_type_accuracy: 0.9937\n",
            "Epoch 71/180\n",
            "99/99 [==============================] - 1s 6ms/step - loss: 0.3238 - wine_quality_loss: 0.3012 - wine_type_loss: 0.0226 - wine_quality_root_mean_squared_error: 0.5486 - wine_type_accuracy: 0.9956 - val_loss: 0.3487 - val_wine_quality_loss: 0.3216 - val_wine_type_loss: 0.0272 - val_wine_quality_root_mean_squared_error: 0.5671 - val_wine_type_accuracy: 0.9937\n",
            "Epoch 72/180\n",
            "99/99 [==============================] - 1s 6ms/step - loss: 0.3288 - wine_quality_loss: 0.3017 - wine_type_loss: 0.0271 - wine_quality_root_mean_squared_error: 0.5491 - wine_type_accuracy: 0.9952 - val_loss: 0.3416 - val_wine_quality_loss: 0.3145 - val_wine_type_loss: 0.0271 - val_wine_quality_root_mean_squared_error: 0.5608 - val_wine_type_accuracy: 0.9937\n",
            "Epoch 73/180\n",
            "99/99 [==============================] - 1s 7ms/step - loss: 0.3129 - wine_quality_loss: 0.2894 - wine_type_loss: 0.0235 - wine_quality_root_mean_squared_error: 0.5378 - wine_type_accuracy: 0.9939 - val_loss: 0.3395 - val_wine_quality_loss: 0.3124 - val_wine_type_loss: 0.0271 - val_wine_quality_root_mean_squared_error: 0.5589 - val_wine_type_accuracy: 0.9937\n",
            "Epoch 74/180\n",
            "99/99 [==============================] - 1s 6ms/step - loss: 0.3097 - wine_quality_loss: 0.2890 - wine_type_loss: 0.0207 - wine_quality_root_mean_squared_error: 0.5375 - wine_type_accuracy: 0.9958 - val_loss: 0.3422 - val_wine_quality_loss: 0.3154 - val_wine_type_loss: 0.0269 - val_wine_quality_root_mean_squared_error: 0.5616 - val_wine_type_accuracy: 0.9937\n",
            "Epoch 75/180\n",
            "99/99 [==============================] - 1s 7ms/step - loss: 0.3114 - wine_quality_loss: 0.2832 - wine_type_loss: 0.0281 - wine_quality_root_mean_squared_error: 0.5321 - wine_type_accuracy: 0.9942 - val_loss: 0.3454 - val_wine_quality_loss: 0.3185 - val_wine_type_loss: 0.0268 - val_wine_quality_root_mean_squared_error: 0.5644 - val_wine_type_accuracy: 0.9937\n",
            "Epoch 76/180\n",
            "99/99 [==============================] - 1s 6ms/step - loss: 0.3327 - wine_quality_loss: 0.3042 - wine_type_loss: 0.0285 - wine_quality_root_mean_squared_error: 0.5515 - wine_type_accuracy: 0.9935 - val_loss: 0.3375 - val_wine_quality_loss: 0.3108 - val_wine_type_loss: 0.0267 - val_wine_quality_root_mean_squared_error: 0.5575 - val_wine_type_accuracy: 0.9937\n",
            "Epoch 77/180\n",
            "99/99 [==============================] - 1s 7ms/step - loss: 0.3154 - wine_quality_loss: 0.2946 - wine_type_loss: 0.0208 - wine_quality_root_mean_squared_error: 0.5427 - wine_type_accuracy: 0.9963 - val_loss: 0.3389 - val_wine_quality_loss: 0.3123 - val_wine_type_loss: 0.0266 - val_wine_quality_root_mean_squared_error: 0.5589 - val_wine_type_accuracy: 0.9937\n",
            "Epoch 78/180\n",
            "99/99 [==============================] - 1s 6ms/step - loss: 0.3178 - wine_quality_loss: 0.2895 - wine_type_loss: 0.0283 - wine_quality_root_mean_squared_error: 0.5380 - wine_type_accuracy: 0.9955 - val_loss: 0.3396 - val_wine_quality_loss: 0.3129 - val_wine_type_loss: 0.0266 - val_wine_quality_root_mean_squared_error: 0.5594 - val_wine_type_accuracy: 0.9949\n",
            "Epoch 79/180\n",
            "99/99 [==============================] - 1s 6ms/step - loss: 0.3133 - wine_quality_loss: 0.2874 - wine_type_loss: 0.0259 - wine_quality_root_mean_squared_error: 0.5361 - wine_type_accuracy: 0.9961 - val_loss: 0.3411 - val_wine_quality_loss: 0.3146 - val_wine_type_loss: 0.0265 - val_wine_quality_root_mean_squared_error: 0.5609 - val_wine_type_accuracy: 0.9949\n",
            "Epoch 80/180\n",
            "99/99 [==============================] - 1s 6ms/step - loss: 0.2961 - wine_quality_loss: 0.2802 - wine_type_loss: 0.0159 - wine_quality_root_mean_squared_error: 0.5293 - wine_type_accuracy: 0.9972 - val_loss: 0.3378 - val_wine_quality_loss: 0.3114 - val_wine_type_loss: 0.0264 - val_wine_quality_root_mean_squared_error: 0.5581 - val_wine_type_accuracy: 0.9937\n",
            "Epoch 81/180\n",
            "99/99 [==============================] - 1s 6ms/step - loss: 0.2964 - wine_quality_loss: 0.2770 - wine_type_loss: 0.0193 - wine_quality_root_mean_squared_error: 0.5262 - wine_type_accuracy: 0.9965 - val_loss: 0.3394 - val_wine_quality_loss: 0.3130 - val_wine_type_loss: 0.0263 - val_wine_quality_root_mean_squared_error: 0.5595 - val_wine_type_accuracy: 0.9949\n",
            "Epoch 82/180\n",
            "99/99 [==============================] - 1s 6ms/step - loss: 0.3043 - wine_quality_loss: 0.2846 - wine_type_loss: 0.0198 - wine_quality_root_mean_squared_error: 0.5334 - wine_type_accuracy: 0.9961 - val_loss: 0.3378 - val_wine_quality_loss: 0.3114 - val_wine_type_loss: 0.0264 - val_wine_quality_root_mean_squared_error: 0.5580 - val_wine_type_accuracy: 0.9949\n",
            "Epoch 83/180\n",
            "99/99 [==============================] - 1s 6ms/step - loss: 0.3126 - wine_quality_loss: 0.2850 - wine_type_loss: 0.0276 - wine_quality_root_mean_squared_error: 0.5337 - wine_type_accuracy: 0.9954 - val_loss: 0.3391 - val_wine_quality_loss: 0.3128 - val_wine_type_loss: 0.0263 - val_wine_quality_root_mean_squared_error: 0.5593 - val_wine_type_accuracy: 0.9949\n",
            "Epoch 84/180\n",
            "99/99 [==============================] - 1s 6ms/step - loss: 0.3215 - wine_quality_loss: 0.2906 - wine_type_loss: 0.0310 - wine_quality_root_mean_squared_error: 0.5387 - wine_type_accuracy: 0.9944 - val_loss: 0.3402 - val_wine_quality_loss: 0.3139 - val_wine_type_loss: 0.0263 - val_wine_quality_root_mean_squared_error: 0.5603 - val_wine_type_accuracy: 0.9949\n",
            "Epoch 85/180\n",
            "99/99 [==============================] - 1s 6ms/step - loss: 0.2980 - wine_quality_loss: 0.2809 - wine_type_loss: 0.0171 - wine_quality_root_mean_squared_error: 0.5298 - wine_type_accuracy: 0.9972 - val_loss: 0.3459 - val_wine_quality_loss: 0.3195 - val_wine_type_loss: 0.0264 - val_wine_quality_root_mean_squared_error: 0.5653 - val_wine_type_accuracy: 0.9949\n",
            "Epoch 86/180\n",
            "99/99 [==============================] - 1s 6ms/step - loss: 0.2988 - wine_quality_loss: 0.2821 - wine_type_loss: 0.0168 - wine_quality_root_mean_squared_error: 0.5310 - wine_type_accuracy: 0.9970 - val_loss: 0.3412 - val_wine_quality_loss: 0.3150 - val_wine_type_loss: 0.0262 - val_wine_quality_root_mean_squared_error: 0.5612 - val_wine_type_accuracy: 0.9949\n",
            "Epoch 87/180\n",
            "99/99 [==============================] - 1s 6ms/step - loss: 0.3087 - wine_quality_loss: 0.2884 - wine_type_loss: 0.0203 - wine_quality_root_mean_squared_error: 0.5370 - wine_type_accuracy: 0.9972 - val_loss: 0.3368 - val_wine_quality_loss: 0.3105 - val_wine_type_loss: 0.0263 - val_wine_quality_root_mean_squared_error: 0.5572 - val_wine_type_accuracy: 0.9949\n",
            "Epoch 88/180\n",
            "99/99 [==============================] - 1s 6ms/step - loss: 0.3101 - wine_quality_loss: 0.2850 - wine_type_loss: 0.0251 - wine_quality_root_mean_squared_error: 0.5338 - wine_type_accuracy: 0.9951 - val_loss: 0.3375 - val_wine_quality_loss: 0.3114 - val_wine_type_loss: 0.0261 - val_wine_quality_root_mean_squared_error: 0.5580 - val_wine_type_accuracy: 0.9949\n",
            "Epoch 89/180\n",
            "99/99 [==============================] - 1s 7ms/step - loss: 0.2937 - wine_quality_loss: 0.2729 - wine_type_loss: 0.0208 - wine_quality_root_mean_squared_error: 0.5223 - wine_type_accuracy: 0.9969 - val_loss: 0.3443 - val_wine_quality_loss: 0.3182 - val_wine_type_loss: 0.0261 - val_wine_quality_root_mean_squared_error: 0.5641 - val_wine_type_accuracy: 0.9949\n",
            "Epoch 90/180\n",
            "99/99 [==============================] - 1s 7ms/step - loss: 0.3125 - wine_quality_loss: 0.2907 - wine_type_loss: 0.0218 - wine_quality_root_mean_squared_error: 0.5391 - wine_type_accuracy: 0.9952 - val_loss: 0.3501 - val_wine_quality_loss: 0.3241 - val_wine_type_loss: 0.0260 - val_wine_quality_root_mean_squared_error: 0.5693 - val_wine_type_accuracy: 0.9949\n",
            "Epoch 91/180\n",
            "99/99 [==============================] - 1s 7ms/step - loss: 0.3049 - wine_quality_loss: 0.2896 - wine_type_loss: 0.0153 - wine_quality_root_mean_squared_error: 0.5380 - wine_type_accuracy: 0.9966 - val_loss: 0.3425 - val_wine_quality_loss: 0.3167 - val_wine_type_loss: 0.0258 - val_wine_quality_root_mean_squared_error: 0.5628 - val_wine_type_accuracy: 0.9949\n",
            "Epoch 92/180\n",
            "99/99 [==============================] - 1s 6ms/step - loss: 0.2976 - wine_quality_loss: 0.2787 - wine_type_loss: 0.0188 - wine_quality_root_mean_squared_error: 0.5278 - wine_type_accuracy: 0.9966 - val_loss: 0.3371 - val_wine_quality_loss: 0.3113 - val_wine_type_loss: 0.0258 - val_wine_quality_root_mean_squared_error: 0.5580 - val_wine_type_accuracy: 0.9949\n",
            "Epoch 93/180\n",
            "99/99 [==============================] - 1s 8ms/step - loss: 0.2994 - wine_quality_loss: 0.2850 - wine_type_loss: 0.0145 - wine_quality_root_mean_squared_error: 0.5337 - wine_type_accuracy: 0.9974 - val_loss: 0.3386 - val_wine_quality_loss: 0.3128 - val_wine_type_loss: 0.0258 - val_wine_quality_root_mean_squared_error: 0.5593 - val_wine_type_accuracy: 0.9949\n",
            "Epoch 94/180\n",
            "99/99 [==============================] - 1s 7ms/step - loss: 0.3018 - wine_quality_loss: 0.2779 - wine_type_loss: 0.0239 - wine_quality_root_mean_squared_error: 0.5271 - wine_type_accuracy: 0.9959 - val_loss: 0.3451 - val_wine_quality_loss: 0.3192 - val_wine_type_loss: 0.0258 - val_wine_quality_root_mean_squared_error: 0.5650 - val_wine_type_accuracy: 0.9949\n",
            "Epoch 95/180\n",
            "99/99 [==============================] - 1s 7ms/step - loss: 0.3078 - wine_quality_loss: 0.2855 - wine_type_loss: 0.0223 - wine_quality_root_mean_squared_error: 0.5343 - wine_type_accuracy: 0.9953 - val_loss: 0.3392 - val_wine_quality_loss: 0.3135 - val_wine_type_loss: 0.0257 - val_wine_quality_root_mean_squared_error: 0.5599 - val_wine_type_accuracy: 0.9949\n",
            "Epoch 96/180\n",
            "99/99 [==============================] - 1s 6ms/step - loss: 0.2980 - wine_quality_loss: 0.2728 - wine_type_loss: 0.0252 - wine_quality_root_mean_squared_error: 0.5221 - wine_type_accuracy: 0.9959 - val_loss: 0.3361 - val_wine_quality_loss: 0.3105 - val_wine_type_loss: 0.0256 - val_wine_quality_root_mean_squared_error: 0.5572 - val_wine_type_accuracy: 0.9949\n",
            "Epoch 97/180\n",
            "99/99 [==============================] - 1s 7ms/step - loss: 0.3091 - wine_quality_loss: 0.2850 - wine_type_loss: 0.0240 - wine_quality_root_mean_squared_error: 0.5338 - wine_type_accuracy: 0.9946 - val_loss: 0.3401 - val_wine_quality_loss: 0.3143 - val_wine_type_loss: 0.0258 - val_wine_quality_root_mean_squared_error: 0.5606 - val_wine_type_accuracy: 0.9949\n",
            "Epoch 98/180\n",
            "99/99 [==============================] - 1s 6ms/step - loss: 0.2998 - wine_quality_loss: 0.2832 - wine_type_loss: 0.0166 - wine_quality_root_mean_squared_error: 0.5321 - wine_type_accuracy: 0.9969 - val_loss: 0.3354 - val_wine_quality_loss: 0.3098 - val_wine_type_loss: 0.0256 - val_wine_quality_root_mean_squared_error: 0.5566 - val_wine_type_accuracy: 0.9949\n",
            "Epoch 99/180\n",
            "99/99 [==============================] - 1s 7ms/step - loss: 0.3074 - wine_quality_loss: 0.2826 - wine_type_loss: 0.0248 - wine_quality_root_mean_squared_error: 0.5315 - wine_type_accuracy: 0.9947 - val_loss: 0.3347 - val_wine_quality_loss: 0.3091 - val_wine_type_loss: 0.0256 - val_wine_quality_root_mean_squared_error: 0.5560 - val_wine_type_accuracy: 0.9949\n",
            "Epoch 100/180\n",
            "99/99 [==============================] - 1s 7ms/step - loss: 0.2936 - wine_quality_loss: 0.2803 - wine_type_loss: 0.0133 - wine_quality_root_mean_squared_error: 0.5293 - wine_type_accuracy: 0.9979 - val_loss: 0.3332 - val_wine_quality_loss: 0.3077 - val_wine_type_loss: 0.0255 - val_wine_quality_root_mean_squared_error: 0.5547 - val_wine_type_accuracy: 0.9949\n",
            "Epoch 101/180\n",
            "99/99 [==============================] - 1s 6ms/step - loss: 0.3068 - wine_quality_loss: 0.2796 - wine_type_loss: 0.0271 - wine_quality_root_mean_squared_error: 0.5286 - wine_type_accuracy: 0.9950 - val_loss: 0.3412 - val_wine_quality_loss: 0.3157 - val_wine_type_loss: 0.0255 - val_wine_quality_root_mean_squared_error: 0.5619 - val_wine_type_accuracy: 0.9949\n",
            "Epoch 102/180\n",
            "99/99 [==============================] - 1s 7ms/step - loss: 0.3032 - wine_quality_loss: 0.2749 - wine_type_loss: 0.0283 - wine_quality_root_mean_squared_error: 0.5241 - wine_type_accuracy: 0.9936 - val_loss: 0.3388 - val_wine_quality_loss: 0.3133 - val_wine_type_loss: 0.0255 - val_wine_quality_root_mean_squared_error: 0.5597 - val_wine_type_accuracy: 0.9949\n",
            "Epoch 103/180\n",
            "99/99 [==============================] - 1s 7ms/step - loss: 0.2992 - wine_quality_loss: 0.2809 - wine_type_loss: 0.0184 - wine_quality_root_mean_squared_error: 0.5299 - wine_type_accuracy: 0.9961 - val_loss: 0.3390 - val_wine_quality_loss: 0.3134 - val_wine_type_loss: 0.0256 - val_wine_quality_root_mean_squared_error: 0.5598 - val_wine_type_accuracy: 0.9949\n",
            "Epoch 104/180\n",
            "99/99 [==============================] - 1s 6ms/step - loss: 0.3055 - wine_quality_loss: 0.2885 - wine_type_loss: 0.0170 - wine_quality_root_mean_squared_error: 0.5370 - wine_type_accuracy: 0.9963 - val_loss: 0.3399 - val_wine_quality_loss: 0.3146 - val_wine_type_loss: 0.0254 - val_wine_quality_root_mean_squared_error: 0.5609 - val_wine_type_accuracy: 0.9949\n",
            "Epoch 105/180\n",
            "99/99 [==============================] - 1s 7ms/step - loss: 0.3040 - wine_quality_loss: 0.2783 - wine_type_loss: 0.0257 - wine_quality_root_mean_squared_error: 0.5274 - wine_type_accuracy: 0.9954 - val_loss: 0.3392 - val_wine_quality_loss: 0.3138 - val_wine_type_loss: 0.0253 - val_wine_quality_root_mean_squared_error: 0.5602 - val_wine_type_accuracy: 0.9949\n",
            "Epoch 106/180\n",
            "99/99 [==============================] - 1s 7ms/step - loss: 0.3028 - wine_quality_loss: 0.2825 - wine_type_loss: 0.0203 - wine_quality_root_mean_squared_error: 0.5314 - wine_type_accuracy: 0.9971 - val_loss: 0.3405 - val_wine_quality_loss: 0.3152 - val_wine_type_loss: 0.0253 - val_wine_quality_root_mean_squared_error: 0.5614 - val_wine_type_accuracy: 0.9949\n",
            "Epoch 107/180\n",
            "99/99 [==============================] - 1s 8ms/step - loss: 0.2870 - wine_quality_loss: 0.2736 - wine_type_loss: 0.0134 - wine_quality_root_mean_squared_error: 0.5231 - wine_type_accuracy: 0.9971 - val_loss: 0.3380 - val_wine_quality_loss: 0.3129 - val_wine_type_loss: 0.0251 - val_wine_quality_root_mean_squared_error: 0.5593 - val_wine_type_accuracy: 0.9949\n",
            "Epoch 108/180\n",
            "99/99 [==============================] - 1s 6ms/step - loss: 0.3010 - wine_quality_loss: 0.2843 - wine_type_loss: 0.0167 - wine_quality_root_mean_squared_error: 0.5331 - wine_type_accuracy: 0.9978 - val_loss: 0.3388 - val_wine_quality_loss: 0.3136 - val_wine_type_loss: 0.0252 - val_wine_quality_root_mean_squared_error: 0.5600 - val_wine_type_accuracy: 0.9949\n",
            "Epoch 109/180\n",
            "99/99 [==============================] - 1s 7ms/step - loss: 0.2860 - wine_quality_loss: 0.2748 - wine_type_loss: 0.0112 - wine_quality_root_mean_squared_error: 0.5242 - wine_type_accuracy: 0.9975 - val_loss: 0.3378 - val_wine_quality_loss: 0.3127 - val_wine_type_loss: 0.0252 - val_wine_quality_root_mean_squared_error: 0.5592 - val_wine_type_accuracy: 0.9949\n",
            "Epoch 110/180\n",
            "99/99 [==============================] - 1s 6ms/step - loss: 0.2815 - wine_quality_loss: 0.2666 - wine_type_loss: 0.0149 - wine_quality_root_mean_squared_error: 0.5159 - wine_type_accuracy: 0.9970 - val_loss: 0.3364 - val_wine_quality_loss: 0.3112 - val_wine_type_loss: 0.0252 - val_wine_quality_root_mean_squared_error: 0.5578 - val_wine_type_accuracy: 0.9949\n",
            "Epoch 111/180\n",
            "99/99 [==============================] - 1s 6ms/step - loss: 0.2910 - wine_quality_loss: 0.2701 - wine_type_loss: 0.0209 - wine_quality_root_mean_squared_error: 0.5196 - wine_type_accuracy: 0.9941 - val_loss: 0.3413 - val_wine_quality_loss: 0.3162 - val_wine_type_loss: 0.0250 - val_wine_quality_root_mean_squared_error: 0.5624 - val_wine_type_accuracy: 0.9949\n",
            "Epoch 112/180\n",
            "99/99 [==============================] - 1s 8ms/step - loss: 0.2897 - wine_quality_loss: 0.2631 - wine_type_loss: 0.0266 - wine_quality_root_mean_squared_error: 0.5127 - wine_type_accuracy: 0.9947 - val_loss: 0.3346 - val_wine_quality_loss: 0.3095 - val_wine_type_loss: 0.0250 - val_wine_quality_root_mean_squared_error: 0.5564 - val_wine_type_accuracy: 0.9949\n",
            "Epoch 113/180\n",
            "99/99 [==============================] - 1s 6ms/step - loss: 0.3010 - wine_quality_loss: 0.2751 - wine_type_loss: 0.0259 - wine_quality_root_mean_squared_error: 0.5245 - wine_type_accuracy: 0.9951 - val_loss: 0.3381 - val_wine_quality_loss: 0.3131 - val_wine_type_loss: 0.0251 - val_wine_quality_root_mean_squared_error: 0.5595 - val_wine_type_accuracy: 0.9949\n",
            "Epoch 114/180\n",
            "99/99 [==============================] - 1s 7ms/step - loss: 0.2947 - wine_quality_loss: 0.2707 - wine_type_loss: 0.0240 - wine_quality_root_mean_squared_error: 0.5202 - wine_type_accuracy: 0.9955 - val_loss: 0.3408 - val_wine_quality_loss: 0.3158 - val_wine_type_loss: 0.0251 - val_wine_quality_root_mean_squared_error: 0.5619 - val_wine_type_accuracy: 0.9949\n",
            "Epoch 115/180\n",
            "99/99 [==============================] - 1s 6ms/step - loss: 0.2846 - wine_quality_loss: 0.2716 - wine_type_loss: 0.0130 - wine_quality_root_mean_squared_error: 0.5210 - wine_type_accuracy: 0.9972 - val_loss: 0.3403 - val_wine_quality_loss: 0.3152 - val_wine_type_loss: 0.0250 - val_wine_quality_root_mean_squared_error: 0.5614 - val_wine_type_accuracy: 0.9949\n",
            "Epoch 116/180\n",
            "99/99 [==============================] - 1s 6ms/step - loss: 0.2790 - wine_quality_loss: 0.2663 - wine_type_loss: 0.0127 - wine_quality_root_mean_squared_error: 0.5160 - wine_type_accuracy: 0.9969 - val_loss: 0.3385 - val_wine_quality_loss: 0.3136 - val_wine_type_loss: 0.0249 - val_wine_quality_root_mean_squared_error: 0.5600 - val_wine_type_accuracy: 0.9949\n",
            "Epoch 117/180\n",
            "99/99 [==============================] - 1s 7ms/step - loss: 0.2824 - wine_quality_loss: 0.2668 - wine_type_loss: 0.0156 - wine_quality_root_mean_squared_error: 0.5164 - wine_type_accuracy: 0.9965 - val_loss: 0.3358 - val_wine_quality_loss: 0.3109 - val_wine_type_loss: 0.0249 - val_wine_quality_root_mean_squared_error: 0.5576 - val_wine_type_accuracy: 0.9949\n",
            "Epoch 118/180\n",
            "99/99 [==============================] - 1s 6ms/step - loss: 0.2958 - wine_quality_loss: 0.2837 - wine_type_loss: 0.0121 - wine_quality_root_mean_squared_error: 0.5325 - wine_type_accuracy: 0.9974 - val_loss: 0.3391 - val_wine_quality_loss: 0.3142 - val_wine_type_loss: 0.0249 - val_wine_quality_root_mean_squared_error: 0.5605 - val_wine_type_accuracy: 0.9949\n",
            "Epoch 119/180\n",
            "99/99 [==============================] - 1s 6ms/step - loss: 0.2901 - wine_quality_loss: 0.2729 - wine_type_loss: 0.0172 - wine_quality_root_mean_squared_error: 0.5224 - wine_type_accuracy: 0.9965 - val_loss: 0.3335 - val_wine_quality_loss: 0.3086 - val_wine_type_loss: 0.0249 - val_wine_quality_root_mean_squared_error: 0.5555 - val_wine_type_accuracy: 0.9949\n",
            "Epoch 120/180\n",
            "99/99 [==============================] - 1s 6ms/step - loss: 0.2795 - wine_quality_loss: 0.2669 - wine_type_loss: 0.0125 - wine_quality_root_mean_squared_error: 0.5166 - wine_type_accuracy: 0.9973 - val_loss: 0.3344 - val_wine_quality_loss: 0.3095 - val_wine_type_loss: 0.0249 - val_wine_quality_root_mean_squared_error: 0.5563 - val_wine_type_accuracy: 0.9949\n",
            "Epoch 121/180\n",
            "99/99 [==============================] - 1s 6ms/step - loss: 0.2994 - wine_quality_loss: 0.2778 - wine_type_loss: 0.0216 - wine_quality_root_mean_squared_error: 0.5269 - wine_type_accuracy: 0.9948 - val_loss: 0.3382 - val_wine_quality_loss: 0.3133 - val_wine_type_loss: 0.0249 - val_wine_quality_root_mean_squared_error: 0.5598 - val_wine_type_accuracy: 0.9949\n",
            "Epoch 122/180\n",
            "99/99 [==============================] - 1s 6ms/step - loss: 0.2969 - wine_quality_loss: 0.2768 - wine_type_loss: 0.0202 - wine_quality_root_mean_squared_error: 0.5260 - wine_type_accuracy: 0.9956 - val_loss: 0.3427 - val_wine_quality_loss: 0.3179 - val_wine_type_loss: 0.0248 - val_wine_quality_root_mean_squared_error: 0.5639 - val_wine_type_accuracy: 0.9949\n",
            "Epoch 123/180\n",
            "99/99 [==============================] - 1s 7ms/step - loss: 0.2875 - wine_quality_loss: 0.2717 - wine_type_loss: 0.0158 - wine_quality_root_mean_squared_error: 0.5213 - wine_type_accuracy: 0.9976 - val_loss: 0.3383 - val_wine_quality_loss: 0.3135 - val_wine_type_loss: 0.0248 - val_wine_quality_root_mean_squared_error: 0.5599 - val_wine_type_accuracy: 0.9949\n",
            "Epoch 124/180\n",
            "99/99 [==============================] - 1s 7ms/step - loss: 0.2770 - wine_quality_loss: 0.2642 - wine_type_loss: 0.0129 - wine_quality_root_mean_squared_error: 0.5139 - wine_type_accuracy: 0.9968 - val_loss: 0.3352 - val_wine_quality_loss: 0.3105 - val_wine_type_loss: 0.0247 - val_wine_quality_root_mean_squared_error: 0.5572 - val_wine_type_accuracy: 0.9949\n",
            "Epoch 125/180\n",
            "99/99 [==============================] - 1s 7ms/step - loss: 0.2854 - wine_quality_loss: 0.2711 - wine_type_loss: 0.0144 - wine_quality_root_mean_squared_error: 0.5206 - wine_type_accuracy: 0.9964 - val_loss: 0.3422 - val_wine_quality_loss: 0.3175 - val_wine_type_loss: 0.0247 - val_wine_quality_root_mean_squared_error: 0.5635 - val_wine_type_accuracy: 0.9949\n",
            "Epoch 126/180\n",
            "99/99 [==============================] - 1s 7ms/step - loss: 0.3036 - wine_quality_loss: 0.2785 - wine_type_loss: 0.0251 - wine_quality_root_mean_squared_error: 0.5275 - wine_type_accuracy: 0.9951 - val_loss: 0.3397 - val_wine_quality_loss: 0.3149 - val_wine_type_loss: 0.0248 - val_wine_quality_root_mean_squared_error: 0.5612 - val_wine_type_accuracy: 0.9949\n",
            "Epoch 127/180\n",
            "99/99 [==============================] - 1s 8ms/step - loss: 0.2851 - wine_quality_loss: 0.2655 - wine_type_loss: 0.0195 - wine_quality_root_mean_squared_error: 0.5152 - wine_type_accuracy: 0.9963 - val_loss: 0.3374 - val_wine_quality_loss: 0.3127 - val_wine_type_loss: 0.0248 - val_wine_quality_root_mean_squared_error: 0.5592 - val_wine_type_accuracy: 0.9949\n",
            "Epoch 128/180\n",
            "99/99 [==============================] - 1s 8ms/step - loss: 0.2924 - wine_quality_loss: 0.2747 - wine_type_loss: 0.0177 - wine_quality_root_mean_squared_error: 0.5241 - wine_type_accuracy: 0.9957 - val_loss: 0.3364 - val_wine_quality_loss: 0.3118 - val_wine_type_loss: 0.0246 - val_wine_quality_root_mean_squared_error: 0.5584 - val_wine_type_accuracy: 0.9949\n",
            "Epoch 129/180\n",
            "99/99 [==============================] - 1s 7ms/step - loss: 0.2905 - wine_quality_loss: 0.2720 - wine_type_loss: 0.0184 - wine_quality_root_mean_squared_error: 0.5215 - wine_type_accuracy: 0.9967 - val_loss: 0.3389 - val_wine_quality_loss: 0.3143 - val_wine_type_loss: 0.0246 - val_wine_quality_root_mean_squared_error: 0.5607 - val_wine_type_accuracy: 0.9949\n",
            "Epoch 130/180\n",
            "99/99 [==============================] - 1s 7ms/step - loss: 0.2955 - wine_quality_loss: 0.2717 - wine_type_loss: 0.0238 - wine_quality_root_mean_squared_error: 0.5212 - wine_type_accuracy: 0.9951 - val_loss: 0.3443 - val_wine_quality_loss: 0.3197 - val_wine_type_loss: 0.0246 - val_wine_quality_root_mean_squared_error: 0.5654 - val_wine_type_accuracy: 0.9949\n",
            "Epoch 131/180\n",
            "99/99 [==============================] - 1s 7ms/step - loss: 0.2846 - wine_quality_loss: 0.2661 - wine_type_loss: 0.0184 - wine_quality_root_mean_squared_error: 0.5158 - wine_type_accuracy: 0.9954 - val_loss: 0.3370 - val_wine_quality_loss: 0.3124 - val_wine_type_loss: 0.0246 - val_wine_quality_root_mean_squared_error: 0.5589 - val_wine_type_accuracy: 0.9949\n",
            "Epoch 132/180\n",
            "99/99 [==============================] - 1s 7ms/step - loss: 0.2875 - wine_quality_loss: 0.2690 - wine_type_loss: 0.0185 - wine_quality_root_mean_squared_error: 0.5185 - wine_type_accuracy: 0.9964 - val_loss: 0.3445 - val_wine_quality_loss: 0.3198 - val_wine_type_loss: 0.0247 - val_wine_quality_root_mean_squared_error: 0.5655 - val_wine_type_accuracy: 0.9949\n",
            "Epoch 133/180\n",
            "99/99 [==============================] - 1s 7ms/step - loss: 0.2761 - wine_quality_loss: 0.2604 - wine_type_loss: 0.0158 - wine_quality_root_mean_squared_error: 0.5102 - wine_type_accuracy: 0.9969 - val_loss: 0.3462 - val_wine_quality_loss: 0.3215 - val_wine_type_loss: 0.0247 - val_wine_quality_root_mean_squared_error: 0.5670 - val_wine_type_accuracy: 0.9949\n",
            "Epoch 134/180\n",
            "99/99 [==============================] - 1s 7ms/step - loss: 0.2879 - wine_quality_loss: 0.2646 - wine_type_loss: 0.0233 - wine_quality_root_mean_squared_error: 0.5142 - wine_type_accuracy: 0.9949 - val_loss: 0.3353 - val_wine_quality_loss: 0.3106 - val_wine_type_loss: 0.0247 - val_wine_quality_root_mean_squared_error: 0.5573 - val_wine_type_accuracy: 0.9949\n",
            "Epoch 135/180\n",
            "99/99 [==============================] - 1s 7ms/step - loss: 0.2939 - wine_quality_loss: 0.2622 - wine_type_loss: 0.0317 - wine_quality_root_mean_squared_error: 0.5118 - wine_type_accuracy: 0.9937 - val_loss: 0.3327 - val_wine_quality_loss: 0.3080 - val_wine_type_loss: 0.0247 - val_wine_quality_root_mean_squared_error: 0.5550 - val_wine_type_accuracy: 0.9949\n",
            "Epoch 136/180\n",
            "99/99 [==============================] - 1s 8ms/step - loss: 0.2626 - wine_quality_loss: 0.2529 - wine_type_loss: 0.0097 - wine_quality_root_mean_squared_error: 0.5028 - wine_type_accuracy: 0.9980 - val_loss: 0.3457 - val_wine_quality_loss: 0.3210 - val_wine_type_loss: 0.0247 - val_wine_quality_root_mean_squared_error: 0.5666 - val_wine_type_accuracy: 0.9949\n",
            "Epoch 137/180\n",
            "99/99 [==============================] - 1s 7ms/step - loss: 0.2840 - wine_quality_loss: 0.2649 - wine_type_loss: 0.0191 - wine_quality_root_mean_squared_error: 0.5145 - wine_type_accuracy: 0.9966 - val_loss: 0.3397 - val_wine_quality_loss: 0.3150 - val_wine_type_loss: 0.0247 - val_wine_quality_root_mean_squared_error: 0.5613 - val_wine_type_accuracy: 0.9949\n",
            "Epoch 138/180\n",
            "99/99 [==============================] - 1s 7ms/step - loss: 0.2870 - wine_quality_loss: 0.2725 - wine_type_loss: 0.0145 - wine_quality_root_mean_squared_error: 0.5220 - wine_type_accuracy: 0.9962 - val_loss: 0.3345 - val_wine_quality_loss: 0.3100 - val_wine_type_loss: 0.0245 - val_wine_quality_root_mean_squared_error: 0.5567 - val_wine_type_accuracy: 0.9949\n",
            "Epoch 139/180\n",
            "99/99 [==============================] - 1s 8ms/step - loss: 0.2760 - wine_quality_loss: 0.2635 - wine_type_loss: 0.0125 - wine_quality_root_mean_squared_error: 0.5132 - wine_type_accuracy: 0.9970 - val_loss: 0.3348 - val_wine_quality_loss: 0.3104 - val_wine_type_loss: 0.0244 - val_wine_quality_root_mean_squared_error: 0.5571 - val_wine_type_accuracy: 0.9949\n",
            "Epoch 140/180\n",
            "99/99 [==============================] - 1s 7ms/step - loss: 0.2637 - wine_quality_loss: 0.2501 - wine_type_loss: 0.0136 - wine_quality_root_mean_squared_error: 0.4999 - wine_type_accuracy: 0.9974 - val_loss: 0.3393 - val_wine_quality_loss: 0.3148 - val_wine_type_loss: 0.0245 - val_wine_quality_root_mean_squared_error: 0.5611 - val_wine_type_accuracy: 0.9949\n",
            "Epoch 141/180\n",
            "99/99 [==============================] - 1s 7ms/step - loss: 0.2857 - wine_quality_loss: 0.2735 - wine_type_loss: 0.0122 - wine_quality_root_mean_squared_error: 0.5227 - wine_type_accuracy: 0.9974 - val_loss: 0.3495 - val_wine_quality_loss: 0.3251 - val_wine_type_loss: 0.0244 - val_wine_quality_root_mean_squared_error: 0.5702 - val_wine_type_accuracy: 0.9949\n",
            "Epoch 142/180\n",
            "99/99 [==============================] - 1s 7ms/step - loss: 0.2817 - wine_quality_loss: 0.2612 - wine_type_loss: 0.0206 - wine_quality_root_mean_squared_error: 0.5109 - wine_type_accuracy: 0.9953 - val_loss: 0.3440 - val_wine_quality_loss: 0.3195 - val_wine_type_loss: 0.0245 - val_wine_quality_root_mean_squared_error: 0.5652 - val_wine_type_accuracy: 0.9949\n",
            "Epoch 143/180\n",
            "99/99 [==============================] - 1s 7ms/step - loss: 0.2819 - wine_quality_loss: 0.2628 - wine_type_loss: 0.0191 - wine_quality_root_mean_squared_error: 0.5125 - wine_type_accuracy: 0.9956 - val_loss: 0.3378 - val_wine_quality_loss: 0.3133 - val_wine_type_loss: 0.0245 - val_wine_quality_root_mean_squared_error: 0.5597 - val_wine_type_accuracy: 0.9949\n",
            "Epoch 144/180\n",
            "99/99 [==============================] - 1s 7ms/step - loss: 0.2679 - wine_quality_loss: 0.2577 - wine_type_loss: 0.0102 - wine_quality_root_mean_squared_error: 0.5074 - wine_type_accuracy: 0.9979 - val_loss: 0.3459 - val_wine_quality_loss: 0.3215 - val_wine_type_loss: 0.0244 - val_wine_quality_root_mean_squared_error: 0.5670 - val_wine_type_accuracy: 0.9949\n",
            "Epoch 145/180\n",
            "99/99 [==============================] - 1s 7ms/step - loss: 0.2878 - wine_quality_loss: 0.2666 - wine_type_loss: 0.0212 - wine_quality_root_mean_squared_error: 0.5163 - wine_type_accuracy: 0.9952 - val_loss: 0.3414 - val_wine_quality_loss: 0.3169 - val_wine_type_loss: 0.0245 - val_wine_quality_root_mean_squared_error: 0.5629 - val_wine_type_accuracy: 0.9949\n",
            "Epoch 146/180\n",
            "99/99 [==============================] - 1s 7ms/step - loss: 0.2940 - wine_quality_loss: 0.2696 - wine_type_loss: 0.0244 - wine_quality_root_mean_squared_error: 0.5190 - wine_type_accuracy: 0.9951 - val_loss: 0.3376 - val_wine_quality_loss: 0.3130 - val_wine_type_loss: 0.0246 - val_wine_quality_root_mean_squared_error: 0.5594 - val_wine_type_accuracy: 0.9949\n",
            "Epoch 147/180\n",
            "99/99 [==============================] - 1s 7ms/step - loss: 0.2797 - wine_quality_loss: 0.2611 - wine_type_loss: 0.0186 - wine_quality_root_mean_squared_error: 0.5108 - wine_type_accuracy: 0.9959 - val_loss: 0.3402 - val_wine_quality_loss: 0.3155 - val_wine_type_loss: 0.0246 - val_wine_quality_root_mean_squared_error: 0.5617 - val_wine_type_accuracy: 0.9949\n",
            "Epoch 148/180\n",
            "99/99 [==============================] - 1s 8ms/step - loss: 0.2650 - wine_quality_loss: 0.2541 - wine_type_loss: 0.0109 - wine_quality_root_mean_squared_error: 0.5040 - wine_type_accuracy: 0.9975 - val_loss: 0.3364 - val_wine_quality_loss: 0.3118 - val_wine_type_loss: 0.0246 - val_wine_quality_root_mean_squared_error: 0.5584 - val_wine_type_accuracy: 0.9949\n",
            "Epoch 149/180\n",
            "99/99 [==============================] - 1s 7ms/step - loss: 0.2709 - wine_quality_loss: 0.2601 - wine_type_loss: 0.0108 - wine_quality_root_mean_squared_error: 0.5099 - wine_type_accuracy: 0.9981 - val_loss: 0.3354 - val_wine_quality_loss: 0.3108 - val_wine_type_loss: 0.0245 - val_wine_quality_root_mean_squared_error: 0.5575 - val_wine_type_accuracy: 0.9949\n",
            "Epoch 150/180\n",
            "99/99 [==============================] - 1s 7ms/step - loss: 0.2762 - wine_quality_loss: 0.2617 - wine_type_loss: 0.0145 - wine_quality_root_mean_squared_error: 0.5115 - wine_type_accuracy: 0.9972 - val_loss: 0.3331 - val_wine_quality_loss: 0.3085 - val_wine_type_loss: 0.0246 - val_wine_quality_root_mean_squared_error: 0.5554 - val_wine_type_accuracy: 0.9949\n",
            "Epoch 151/180\n",
            "99/99 [==============================] - 1s 8ms/step - loss: 0.2818 - wine_quality_loss: 0.2605 - wine_type_loss: 0.0213 - wine_quality_root_mean_squared_error: 0.5103 - wine_type_accuracy: 0.9961 - val_loss: 0.3384 - val_wine_quality_loss: 0.3139 - val_wine_type_loss: 0.0245 - val_wine_quality_root_mean_squared_error: 0.5603 - val_wine_type_accuracy: 0.9949\n",
            "Epoch 152/180\n",
            "99/99 [==============================] - 1s 7ms/step - loss: 0.2677 - wine_quality_loss: 0.2566 - wine_type_loss: 0.0110 - wine_quality_root_mean_squared_error: 0.5065 - wine_type_accuracy: 0.9982 - val_loss: 0.3348 - val_wine_quality_loss: 0.3104 - val_wine_type_loss: 0.0245 - val_wine_quality_root_mean_squared_error: 0.5571 - val_wine_type_accuracy: 0.9949\n",
            "Epoch 153/180\n",
            "99/99 [==============================] - 1s 7ms/step - loss: 0.2724 - wine_quality_loss: 0.2511 - wine_type_loss: 0.0212 - wine_quality_root_mean_squared_error: 0.5011 - wine_type_accuracy: 0.9959 - val_loss: 0.3354 - val_wine_quality_loss: 0.3109 - val_wine_type_loss: 0.0245 - val_wine_quality_root_mean_squared_error: 0.5576 - val_wine_type_accuracy: 0.9949\n",
            "Epoch 154/180\n",
            "99/99 [==============================] - 1s 7ms/step - loss: 0.2676 - wine_quality_loss: 0.2572 - wine_type_loss: 0.0105 - wine_quality_root_mean_squared_error: 0.5071 - wine_type_accuracy: 0.9986 - val_loss: 0.3344 - val_wine_quality_loss: 0.3100 - val_wine_type_loss: 0.0244 - val_wine_quality_root_mean_squared_error: 0.5568 - val_wine_type_accuracy: 0.9949\n",
            "Epoch 155/180\n",
            "99/99 [==============================] - 1s 7ms/step - loss: 0.2777 - wine_quality_loss: 0.2584 - wine_type_loss: 0.0194 - wine_quality_root_mean_squared_error: 0.5082 - wine_type_accuracy: 0.9960 - val_loss: 0.3423 - val_wine_quality_loss: 0.3179 - val_wine_type_loss: 0.0244 - val_wine_quality_root_mean_squared_error: 0.5638 - val_wine_type_accuracy: 0.9949\n",
            "Epoch 156/180\n",
            "99/99 [==============================] - 1s 7ms/step - loss: 0.2763 - wine_quality_loss: 0.2608 - wine_type_loss: 0.0155 - wine_quality_root_mean_squared_error: 0.5105 - wine_type_accuracy: 0.9966 - val_loss: 0.3415 - val_wine_quality_loss: 0.3170 - val_wine_type_loss: 0.0245 - val_wine_quality_root_mean_squared_error: 0.5631 - val_wine_type_accuracy: 0.9949\n",
            "Epoch 157/180\n",
            "99/99 [==============================] - 1s 7ms/step - loss: 0.2717 - wine_quality_loss: 0.2576 - wine_type_loss: 0.0141 - wine_quality_root_mean_squared_error: 0.5074 - wine_type_accuracy: 0.9955 - val_loss: 0.3431 - val_wine_quality_loss: 0.3185 - val_wine_type_loss: 0.0246 - val_wine_quality_root_mean_squared_error: 0.5644 - val_wine_type_accuracy: 0.9962\n",
            "Epoch 158/180\n",
            "99/99 [==============================] - 1s 7ms/step - loss: 0.2665 - wine_quality_loss: 0.2567 - wine_type_loss: 0.0098 - wine_quality_root_mean_squared_error: 0.5066 - wine_type_accuracy: 0.9981 - val_loss: 0.3367 - val_wine_quality_loss: 0.3123 - val_wine_type_loss: 0.0245 - val_wine_quality_root_mean_squared_error: 0.5588 - val_wine_type_accuracy: 0.9949\n",
            "Epoch 159/180\n",
            "99/99 [==============================] - 1s 7ms/step - loss: 0.2689 - wine_quality_loss: 0.2539 - wine_type_loss: 0.0150 - wine_quality_root_mean_squared_error: 0.5038 - wine_type_accuracy: 0.9968 - val_loss: 0.3627 - val_wine_quality_loss: 0.3382 - val_wine_type_loss: 0.0246 - val_wine_quality_root_mean_squared_error: 0.5815 - val_wine_type_accuracy: 0.9962\n",
            "Epoch 160/180\n",
            "99/99 [==============================] - 1s 7ms/step - loss: 0.2805 - wine_quality_loss: 0.2682 - wine_type_loss: 0.0123 - wine_quality_root_mean_squared_error: 0.5178 - wine_type_accuracy: 0.9969 - val_loss: 0.3378 - val_wine_quality_loss: 0.3133 - val_wine_type_loss: 0.0245 - val_wine_quality_root_mean_squared_error: 0.5597 - val_wine_type_accuracy: 0.9962\n",
            "Epoch 161/180\n",
            "99/99 [==============================] - 1s 7ms/step - loss: 0.2700 - wine_quality_loss: 0.2469 - wine_type_loss: 0.0231 - wine_quality_root_mean_squared_error: 0.4968 - wine_type_accuracy: 0.9955 - val_loss: 0.3405 - val_wine_quality_loss: 0.3159 - val_wine_type_loss: 0.0246 - val_wine_quality_root_mean_squared_error: 0.5621 - val_wine_type_accuracy: 0.9962\n",
            "Epoch 162/180\n",
            "99/99 [==============================] - 1s 7ms/step - loss: 0.2630 - wine_quality_loss: 0.2470 - wine_type_loss: 0.0160 - wine_quality_root_mean_squared_error: 0.4967 - wine_type_accuracy: 0.9966 - val_loss: 0.3370 - val_wine_quality_loss: 0.3125 - val_wine_type_loss: 0.0245 - val_wine_quality_root_mean_squared_error: 0.5590 - val_wine_type_accuracy: 0.9962\n",
            "Epoch 163/180\n",
            "99/99 [==============================] - 1s 7ms/step - loss: 0.2709 - wine_quality_loss: 0.2559 - wine_type_loss: 0.0151 - wine_quality_root_mean_squared_error: 0.5058 - wine_type_accuracy: 0.9970 - val_loss: 0.3451 - val_wine_quality_loss: 0.3206 - val_wine_type_loss: 0.0245 - val_wine_quality_root_mean_squared_error: 0.5662 - val_wine_type_accuracy: 0.9962\n",
            "Epoch 164/180\n",
            "99/99 [==============================] - 1s 7ms/step - loss: 0.2835 - wine_quality_loss: 0.2657 - wine_type_loss: 0.0178 - wine_quality_root_mean_squared_error: 0.5154 - wine_type_accuracy: 0.9960 - val_loss: 0.3385 - val_wine_quality_loss: 0.3140 - val_wine_type_loss: 0.0245 - val_wine_quality_root_mean_squared_error: 0.5603 - val_wine_type_accuracy: 0.9962\n",
            "Epoch 165/180\n",
            "99/99 [==============================] - 1s 7ms/step - loss: 0.2728 - wine_quality_loss: 0.2588 - wine_type_loss: 0.0140 - wine_quality_root_mean_squared_error: 0.5086 - wine_type_accuracy: 0.9969 - val_loss: 0.3421 - val_wine_quality_loss: 0.3176 - val_wine_type_loss: 0.0245 - val_wine_quality_root_mean_squared_error: 0.5636 - val_wine_type_accuracy: 0.9962\n",
            "Epoch 166/180\n",
            "99/99 [==============================] - 1s 7ms/step - loss: 0.2743 - wine_quality_loss: 0.2565 - wine_type_loss: 0.0178 - wine_quality_root_mean_squared_error: 0.5065 - wine_type_accuracy: 0.9963 - val_loss: 0.3387 - val_wine_quality_loss: 0.3142 - val_wine_type_loss: 0.0245 - val_wine_quality_root_mean_squared_error: 0.5606 - val_wine_type_accuracy: 0.9962\n",
            "Epoch 167/180\n",
            "99/99 [==============================] - 1s 6ms/step - loss: 0.2867 - wine_quality_loss: 0.2614 - wine_type_loss: 0.0254 - wine_quality_root_mean_squared_error: 0.5111 - wine_type_accuracy: 0.9947 - val_loss: 0.3463 - val_wine_quality_loss: 0.3217 - val_wine_type_loss: 0.0246 - val_wine_quality_root_mean_squared_error: 0.5672 - val_wine_type_accuracy: 0.9962\n",
            "Epoch 168/180\n",
            "99/99 [==============================] - 1s 7ms/step - loss: 0.2660 - wine_quality_loss: 0.2521 - wine_type_loss: 0.0139 - wine_quality_root_mean_squared_error: 0.5020 - wine_type_accuracy: 0.9962 - val_loss: 0.3386 - val_wine_quality_loss: 0.3141 - val_wine_type_loss: 0.0245 - val_wine_quality_root_mean_squared_error: 0.5605 - val_wine_type_accuracy: 0.9962\n",
            "Epoch 169/180\n",
            "99/99 [==============================] - 1s 8ms/step - loss: 0.2607 - wine_quality_loss: 0.2508 - wine_type_loss: 0.0098 - wine_quality_root_mean_squared_error: 0.5008 - wine_type_accuracy: 0.9981 - val_loss: 0.3411 - val_wine_quality_loss: 0.3167 - val_wine_type_loss: 0.0244 - val_wine_quality_root_mean_squared_error: 0.5628 - val_wine_type_accuracy: 0.9962\n",
            "Epoch 170/180\n",
            "99/99 [==============================] - 1s 7ms/step - loss: 0.2770 - wine_quality_loss: 0.2581 - wine_type_loss: 0.0189 - wine_quality_root_mean_squared_error: 0.5079 - wine_type_accuracy: 0.9949 - val_loss: 0.3412 - val_wine_quality_loss: 0.3166 - val_wine_type_loss: 0.0245 - val_wine_quality_root_mean_squared_error: 0.5627 - val_wine_type_accuracy: 0.9962\n",
            "Epoch 171/180\n",
            "99/99 [==============================] - 1s 7ms/step - loss: 0.2768 - wine_quality_loss: 0.2678 - wine_type_loss: 0.0090 - wine_quality_root_mean_squared_error: 0.5175 - wine_type_accuracy: 0.9981 - val_loss: 0.3396 - val_wine_quality_loss: 0.3152 - val_wine_type_loss: 0.0244 - val_wine_quality_root_mean_squared_error: 0.5614 - val_wine_type_accuracy: 0.9962\n",
            "Epoch 172/180\n",
            "99/99 [==============================] - 1s 7ms/step - loss: 0.2859 - wine_quality_loss: 0.2698 - wine_type_loss: 0.0161 - wine_quality_root_mean_squared_error: 0.5192 - wine_type_accuracy: 0.9965 - val_loss: 0.3323 - val_wine_quality_loss: 0.3078 - val_wine_type_loss: 0.0245 - val_wine_quality_root_mean_squared_error: 0.5548 - val_wine_type_accuracy: 0.9962\n",
            "Epoch 173/180\n",
            "99/99 [==============================] - 1s 7ms/step - loss: 0.2643 - wine_quality_loss: 0.2458 - wine_type_loss: 0.0185 - wine_quality_root_mean_squared_error: 0.4958 - wine_type_accuracy: 0.9961 - val_loss: 0.3368 - val_wine_quality_loss: 0.3124 - val_wine_type_loss: 0.0244 - val_wine_quality_root_mean_squared_error: 0.5589 - val_wine_type_accuracy: 0.9962\n",
            "Epoch 174/180\n",
            "99/99 [==============================] - 1s 7ms/step - loss: 0.2745 - wine_quality_loss: 0.2550 - wine_type_loss: 0.0195 - wine_quality_root_mean_squared_error: 0.5049 - wine_type_accuracy: 0.9948 - val_loss: 0.3452 - val_wine_quality_loss: 0.3208 - val_wine_type_loss: 0.0244 - val_wine_quality_root_mean_squared_error: 0.5664 - val_wine_type_accuracy: 0.9962\n",
            "Epoch 175/180\n",
            "99/99 [==============================] - 1s 7ms/step - loss: 0.2661 - wine_quality_loss: 0.2509 - wine_type_loss: 0.0152 - wine_quality_root_mean_squared_error: 0.5009 - wine_type_accuracy: 0.9970 - val_loss: 0.3390 - val_wine_quality_loss: 0.3144 - val_wine_type_loss: 0.0245 - val_wine_quality_root_mean_squared_error: 0.5607 - val_wine_type_accuracy: 0.9962\n",
            "Epoch 176/180\n",
            "99/99 [==============================] - 1s 7ms/step - loss: 0.2644 - wine_quality_loss: 0.2527 - wine_type_loss: 0.0116 - wine_quality_root_mean_squared_error: 0.5027 - wine_type_accuracy: 0.9971 - val_loss: 0.3460 - val_wine_quality_loss: 0.3215 - val_wine_type_loss: 0.0246 - val_wine_quality_root_mean_squared_error: 0.5670 - val_wine_type_accuracy: 0.9962\n",
            "Epoch 177/180\n",
            "99/99 [==============================] - 1s 7ms/step - loss: 0.2694 - wine_quality_loss: 0.2475 - wine_type_loss: 0.0218 - wine_quality_root_mean_squared_error: 0.4974 - wine_type_accuracy: 0.9953 - val_loss: 0.3384 - val_wine_quality_loss: 0.3138 - val_wine_type_loss: 0.0246 - val_wine_quality_root_mean_squared_error: 0.5602 - val_wine_type_accuracy: 0.9962\n",
            "Epoch 178/180\n",
            "99/99 [==============================] - 1s 6ms/step - loss: 0.2623 - wine_quality_loss: 0.2478 - wine_type_loss: 0.0144 - wine_quality_root_mean_squared_error: 0.4977 - wine_type_accuracy: 0.9972 - val_loss: 0.3351 - val_wine_quality_loss: 0.3105 - val_wine_type_loss: 0.0246 - val_wine_quality_root_mean_squared_error: 0.5572 - val_wine_type_accuracy: 0.9962\n",
            "Epoch 179/180\n",
            "99/99 [==============================] - 1s 6ms/step - loss: 0.2583 - wine_quality_loss: 0.2464 - wine_type_loss: 0.0119 - wine_quality_root_mean_squared_error: 0.4962 - wine_type_accuracy: 0.9974 - val_loss: 0.3356 - val_wine_quality_loss: 0.3109 - val_wine_type_loss: 0.0246 - val_wine_quality_root_mean_squared_error: 0.5576 - val_wine_type_accuracy: 0.9962\n",
            "Epoch 180/180\n",
            "99/99 [==============================] - 1s 7ms/step - loss: 0.2661 - wine_quality_loss: 0.2492 - wine_type_loss: 0.0170 - wine_quality_root_mean_squared_error: 0.4991 - wine_type_accuracy: 0.9963 - val_loss: 0.3360 - val_wine_quality_loss: 0.3114 - val_wine_type_loss: 0.0247 - val_wine_quality_root_mean_squared_error: 0.5580 - val_wine_type_accuracy: 0.9962\n"
          ],
          "name": "stdout"
        }
      ]
    },
    {
      "cell_type": "code",
      "metadata": {
        "deletable": false,
        "editable": false,
        "nbgrader": {
          "cell_type": "code",
          "checksum": "fadad8896eda9c8c2115970724b15508",
          "grade": true,
          "grade_id": "cell-eb4d5b41bef8f0ab",
          "locked": true,
          "points": 1,
          "schema_version": 3,
          "solution": false,
          "task": false
        },
        "id": "kDj0bzZfJPdy"
      },
      "source": [
        "utils.test_history(history)"
      ],
      "execution_count": null,
      "outputs": []
    },
    {
      "cell_type": "code",
      "metadata": {
        "colab": {
          "base_uri": "https://localhost:8080/"
        },
        "id": "CubF2J2gSf6q",
        "outputId": "478792bd-6d36-43c8-ef41-c25999d1fd37"
      },
      "source": [
        "# Gather the training metrics\n",
        "loss, wine_quality_loss, wine_type_loss, wine_quality_rmse, wine_type_accuracy = model.evaluate(x=norm_val_X, y=val_Y)\n",
        "\n",
        "print()\n",
        "print(f'loss: {loss}')\n",
        "print(f'wine_quality_loss: {wine_quality_loss}')\n",
        "print(f'wine_type_loss: {wine_type_loss}')\n",
        "print(f'wine_quality_rmse: {wine_quality_rmse}')\n",
        "print(f'wine_type_accuracy: {wine_type_accuracy}')\n",
        "\n",
        "# EXPECTED VALUES\n",
        "# ~ 0.30 - 0.38\n",
        "# ~ 0.30 - 0.38\n",
        "# ~ 0.018 - 0.030\n",
        "# ~ 0.50 - 0.62\n",
        "# ~ 0.97 - 1.0\n",
        "\n",
        "# Example:\n",
        "#0.3657050132751465\n",
        "#0.3463745415210724\n",
        "#0.019330406561493874\n",
        "#0.5885359048843384\n",
        "#0.9974651336669922"
      ],
      "execution_count": null,
      "outputs": [
        {
          "output_type": "stream",
          "text": [
            "25/25 [==============================] - 0s 3ms/step - loss: 0.3360 - wine_quality_loss: 0.3114 - wine_type_loss: 0.0247 - wine_quality_root_mean_squared_error: 0.5580 - wine_type_accuracy: 0.9962\n",
            "\n",
            "loss: 0.3360350430011749\n",
            "wine_quality_loss: 0.31136199831962585\n",
            "wine_type_loss: 0.024673061445355415\n",
            "wine_quality_rmse: 0.5579981803894043\n",
            "wine_type_accuracy: 0.9961977005004883\n"
          ],
          "name": "stdout"
        }
      ]
    },
    {
      "cell_type": "markdown",
      "metadata": {
        "id": "gPtTGAP4usnm"
      },
      "source": [
        "## Analyze the Model Performance\n",
        "\n",
        "Note that the model has two outputs. The output at index 0 is quality and index 1 is wine type\n",
        "\n",
        "So, round the quality predictions to the nearest integer."
      ]
    },
    {
      "cell_type": "code",
      "metadata": {
        "id": "tBq9PEeAaW-Y"
      },
      "source": [
        "predictions = model.predict(norm_test_X)\n",
        "quality_pred = predictions[0]\n",
        "type_pred = predictions[1]"
      ],
      "execution_count": null,
      "outputs": []
    },
    {
      "cell_type": "code",
      "metadata": {
        "colab": {
          "base_uri": "https://localhost:8080/"
        },
        "id": "YLhgTR4xTIxj",
        "outputId": "27bce16b-4251-413e-dd84-2c9265ad8ba6"
      },
      "source": [
        "print(quality_pred[0])\n",
        "\n",
        "# EXPECTED OUTPUT\n",
        "# 5.6 - 6.0"
      ],
      "execution_count": null,
      "outputs": [
        {
          "output_type": "stream",
          "text": [
            "[5.6268682]\n"
          ],
          "name": "stdout"
        }
      ]
    },
    {
      "cell_type": "code",
      "metadata": {
        "colab": {
          "base_uri": "https://localhost:8080/"
        },
        "id": "MPi-eYfGTUXi",
        "outputId": "bb485c91-674d-4e32-99e9-b6caa2c5a008"
      },
      "source": [
        "print(type_pred[0])\n",
        "print(type_pred[944])\n",
        "\n",
        "# EXPECTED OUTPUT\n",
        "# A number close to zero\n",
        "# A number close to or equal to 1"
      ],
      "execution_count": null,
      "outputs": [
        {
          "output_type": "stream",
          "text": [
            "[6.83568e-05]\n",
            "[0.99999464]\n"
          ],
          "name": "stdout"
        }
      ]
    },
    {
      "cell_type": "markdown",
      "metadata": {
        "id": "Kohk-9C6vt_s"
      },
      "source": [
        "### Plot Utilities\n",
        "\n",
        "We define a few utilities to visualize the model performance."
      ]
    },
    {
      "cell_type": "code",
      "metadata": {
        "id": "62gEOFUhn6aQ"
      },
      "source": [
        "def plot_metrics(metric_name, title, ylim=5):\n",
        "    plt.title(title)\n",
        "    plt.ylim(0,ylim)\n",
        "    plt.plot(history.history[metric_name],color='blue',label=metric_name)\n",
        "    plt.plot(history.history['val_' + metric_name],color='green',label='val_' + metric_name)\n"
      ],
      "execution_count": null,
      "outputs": []
    },
    {
      "cell_type": "code",
      "metadata": {
        "id": "6rfgSx7uz5dj"
      },
      "source": [
        "def plot_confusion_matrix(y_true, y_pred, title='', labels=[0,1]):\n",
        "    cm = confusion_matrix(y_true, y_pred)\n",
        "    fig = plt.figure()\n",
        "    ax = fig.add_subplot(111)\n",
        "    cax = ax.matshow(cm)\n",
        "    plt.title('Confusion matrix of the classifier')\n",
        "    fig.colorbar(cax)\n",
        "    ax.set_xticklabels([''] + labels)\n",
        "    ax.set_yticklabels([''] + labels)\n",
        "    plt.xlabel('Predicted')\n",
        "    plt.ylabel('True')\n",
        "    fmt = 'd'\n",
        "    thresh = cm.max() / 2.\n",
        "    for i, j in itertools.product(range(cm.shape[0]), range(cm.shape[1])):\n",
        "          plt.text(j, i, format(cm[i, j], fmt),\n",
        "                  horizontalalignment=\"center\",\n",
        "                  color=\"black\" if cm[i, j] > thresh else \"white\")\n",
        "    plt.show()"
      ],
      "execution_count": null,
      "outputs": []
    },
    {
      "cell_type": "code",
      "metadata": {
        "id": "dfVLIqi017Vf"
      },
      "source": [
        "def plot_diff(y_true, y_pred, title = '' ):\n",
        "    plt.scatter(y_true, y_pred)\n",
        "    plt.title(title)\n",
        "    plt.xlabel('True Values')\n",
        "    plt.ylabel('Predictions')\n",
        "    plt.axis('equal')\n",
        "    plt.axis('square')\n",
        "    plt.plot([-100, 100], [-100, 100])\n",
        "    return plt"
      ],
      "execution_count": null,
      "outputs": []
    },
    {
      "cell_type": "markdown",
      "metadata": {
        "id": "8sd1jdFbwE0I"
      },
      "source": [
        "### Plots for Metrics"
      ]
    },
    {
      "cell_type": "code",
      "metadata": {
        "colab": {
          "base_uri": "https://localhost:8080/",
          "height": 281
        },
        "id": "f3MwZ5J1pOfj",
        "outputId": "bf2be825-192a-43d5-c6d6-c5a2c1ff3d22"
      },
      "source": [
        "plot_metrics('wine_quality_root_mean_squared_error', 'RMSE', ylim=2)"
      ],
      "execution_count": null,
      "outputs": [
        {
          "output_type": "display_data",
          "data": {
            "image/png": "[encoded data removed]",
            "text/plain": [
              "<Figure size 432x288 with 1 Axes>"
            ]
          },
          "metadata": {
            "tags": [],
            "needs_background": "light"
          }
        }
      ]
    },
    {
      "cell_type": "code",
      "metadata": {
        "colab": {
          "base_uri": "https://localhost:8080/",
          "height": 281
        },
        "id": "QIAxEezCppnd",
        "outputId": "bacdffeb-ad54-47c0-e9a0-80bc3337d095"
      },
      "source": [
        "plot_metrics('wine_type_loss', 'Wine Type Loss', ylim=0.2)"
      ],
      "execution_count": null,
      "outputs": [
        {
          "output_type": "display_data",
          "data": {
            "image/png": "[encoded data removed]",
            "text/plain": [
              "<Figure size 432x288 with 1 Axes>"
            ]
          },
          "metadata": {
            "tags": [],
            "needs_background": "light"
          }
        }
      ]
    },
    {
      "cell_type": "markdown",
      "metadata": {
        "id": "uYV9AOAMwI9p"
      },
      "source": [
        "### Plots for Confusion Matrix\n",
        "\n",
        "Plot the confusion matrices for wine type. You can see that the model performs well for prediction of wine type from the confusion matrix and the loss metrics."
      ]
    },
    {
      "cell_type": "code",
      "metadata": {
        "colab": {
          "base_uri": "https://localhost:8080/",
          "height": 289
        },
        "id": "C3hvTYxIaf3n",
        "outputId": "68dae439-c714-486e-a8a0-97bf72a91d7b"
      },
      "source": [
        "plot_confusion_matrix(test_Y[1], np.round(type_pred), title='Wine Type', labels = [0, 1])"
      ],
      "execution_count": null,
      "outputs": [
        {
          "output_type": "display_data",
          "data": {
            "image/png": "[encoded data removed]",
            "text/plain": [
              "<Figure size 432x288 with 2 Axes>"
            ]
          },
          "metadata": {
            "tags": [],
            "needs_background": "light"
          }
        }
      ]
    },
    {
      "cell_type": "code",
      "metadata": {
        "colab": {
          "base_uri": "https://localhost:8080/",
          "height": 295
        },
        "id": "GW91ym8P2I5y",
        "outputId": "d31bfd78-f5d7-4f07-dda1-098bd08052ad"
      },
      "source": [
        "scatter_plot = plot_diff(test_Y[0], quality_pred, title='Type')"
      ],
      "execution_count": null,
      "outputs": [
        {
          "output_type": "display_data",
          "data": {
            "image/png": "[encoded data removed]",
            "text/plain": [
              "<Figure size 432x288 with 1 Axes>"
            ]
          },
          "metadata": {
            "tags": [],
            "needs_background": "light"
          }
        }
      ]
    },
    {
      "cell_type": "code",
      "metadata": {
        "id": "P4bm1eUYOWUZ"
      },
      "source": [
        ""
      ],
      "execution_count": null,
      "outputs": []
    }
  ]
}