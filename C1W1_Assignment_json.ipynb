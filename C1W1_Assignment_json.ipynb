{
  "nbformat": 4,
  "nbformat_minor": 0,
  "metadata": {
    "colab": {
      "name": "C1W1_Assignment.json",
      "provenance": [],
      "collapsed_sections": [
        "8sd1jdFbwE0I",
        "uYV9AOAMwI9p"
      ],
      "include_colab_link": true
    },
    "kernelspec": {
      "display_name": "Python 3",
      "language": "python",
      "name": "python3"
    },
    "language_info": {
      "codemirror_mode": {
        "name": "ipython",
        "version": 3
      },
      "file_extension": ".py",
      "mimetype": "text/x-python",
      "name": "python",
      "nbconvert_exporter": "python",
      "pygments_lexer": "ipython3",
      "version": "3.7.6"
    },
    "accelerator": "GPU"
  },
  "cells": [
    {
      "cell_type": "markdown",
      "metadata": {
        "id": "view-in-github",
        "colab_type": "text"
      },
      "source": [
        "<a href=\"https://colab.research.google.com/github/quicksilverTrx/advanced_tf_course_1/blob/main/C1W1_Assignment_json.ipynb\" target=\"_parent\"><img src=\"https://colab.research.google.com/assets/colab-badge.svg\" alt=\"Open In Colab\"/></a>"
      ]
    },
    {
      "cell_type": "markdown",
      "metadata": {
        "id": "ZL_6GK8qX35J"
      },
      "source": [
        "\n",
        "\n",
        "# Week 1: Multiple Output Models using the Keras Functional API\n",
        "\n",
        "Welcome to the first programming assignment of the course! Your task will be to use the Keras functional API to train a model to predict two outputs. For this lab, you will use the **[Wine Quality Dataset](https://archive.ics.uci.edu/ml/datasets/Wine+Quality)** from the **UCI machine learning repository**. It has separate datasets for red wine and white wine.\n",
        "\n",
        "Normally, the wines are classified into one of the quality ratings specified in the attributes. In this exercise, you will combine the two datasets to predict the wine quality and whether the wine is red or white solely from the attributes. \n",
        "\n",
        "You will model wine quality estimations as a regression problem and wine type detection as a binary classification problem.\n",
        "\n",
        "#### Please complete sections that are marked **(TODO)**"
      ]
    },
    {
      "cell_type": "markdown",
      "metadata": {
        "id": "obdcD6urYBY9"
      },
      "source": [
        "## Imports"
      ]
    },
    {
      "cell_type": "code",
      "metadata": {
        "colab": {
          "base_uri": "https://localhost:8080/"
        },
        "id": "BLIiwoDHJYgq",
        "outputId": "84facc34-c81e-489d-b7b4-23062248a82e"
      },
      "source": [
        "!pip install utils"
      ],
      "execution_count": 1,
      "outputs": [
        {
          "output_type": "stream",
          "text": [
            "Collecting utils\n",
            "  Downloading https://files.pythonhosted.org/packages/55/e6/c2d2b2703e7debc8b501caae0e6f7ead148fd0faa3c8131292a599930029/utils-1.0.1-py2.py3-none-any.whl\n",
            "Installing collected packages: utils\n",
            "Successfully installed utils-1.0.1\n"
          ],
          "name": "stdout"
        }
      ]
    },
    {
      "cell_type": "code",
      "metadata": {
        "id": "t8N3pcTQ5oQI"
      },
      "source": [
        "import tensorflow as tf\n",
        "from tensorflow.keras.models import Model\n",
        "from tensorflow.keras.layers import Dense, Input\n",
        "\n",
        "import numpy as np\n",
        "import matplotlib.pyplot as plt\n",
        "import pandas as pd\n",
        "from sklearn.model_selection import train_test_split\n",
        "from sklearn.metrics import confusion_matrix\n",
        "import itertools\n",
        "\n",
        "import utils"
      ],
      "execution_count": 2,
      "outputs": []
    },
    {
      "cell_type": "markdown",
      "metadata": {
        "id": "gQMERzWQYpgm"
      },
      "source": [
        "## Load Dataset\n",
        "\n",
        "\n",
        "You will now download the dataset from the [UCI Machine Learning Repository](https://archive.ics.uci.edu/ml/index.php). \n",
        "\n",
        "### Pre-process the white wine dataset (TODO)\n",
        "You will add a new column named `is_red` in your dataframe to indicate if the wine is white or red. \n",
        "- In the white wine dataset, you will fill the column `is_red` with  zeros (0)."
      ]
    },
    {
      "cell_type": "code",
      "metadata": {
        "deletable": false,
        "id": "2qYAjKXCd4RH",
        "nbgrader": {
          "cell_type": "code",
          "checksum": "cb9f284ba6255170fe04a309a407d72d",
          "grade": false,
          "grade_id": "cell-e5bfa0f152d9a21f",
          "locked": false,
          "schema_version": 3,
          "solution": true,
          "task": false
        }
      },
      "source": [
        "# Please uncomment all lines in this cell and replace those marked with `# YOUR CODE HERE`.\n",
        "# You can select all lines in this code cell with Ctrl+A (Windows/Linux) or Cmd+A (Mac), then press Ctrl+/ (Windows/Linux) or Cmd+/ (Mac) to uncomment.\n",
        "\n",
        "\n",
        "\n",
        "# URL of the white wine dataset\n",
        "URL = 'http://archive.ics.uci.edu/ml/machine-learning-databases/wine-quality/winequality-white.csv'\n",
        "\n",
        "# load the dataset from the URL\n",
        "white_df = pd.read_csv(URL, sep=\";\")\n",
        "\n",
        "# fill the `is_red` column with zeros.\n",
        "white_df['is_red'] = 0 # YOUR CODE HERE\n",
        "\n",
        "# keep only the first of duplicate items\n",
        "white_df = white_df.drop_duplicates(keep='first')\n"
      ],
      "execution_count": 3,
      "outputs": []
    },
    {
      "cell_type": "code",
      "metadata": {
        "colab": {
          "base_uri": "https://localhost:8080/"
        },
        "id": "vdzsSX5gKkaA",
        "outputId": "a669bd6e-fe63-4311-c50a-99856bf97550"
      },
      "source": [
        "white_df.columns"
      ],
      "execution_count": 4,
      "outputs": [
        {
          "output_type": "execute_result",
          "data": {
            "text/plain": [
              "Index(['fixed acidity', 'volatile acidity', 'citric acid', 'residual sugar',\n",
              "       'chlorides', 'free sulfur dioxide', 'total sulfur dioxide', 'density',\n",
              "       'pH', 'sulphates', 'alcohol', 'quality', 'is_red'],\n",
              "      dtype='object')"
            ]
          },
          "metadata": {
            "tags": []
          },
          "execution_count": 4
        }
      ]
    },
    {
      "cell_type": "code",
      "metadata": {
        "deletable": false,
        "editable": false,
        "nbgrader": {
          "cell_type": "code",
          "checksum": "defe38d6ec58fd31cd67b89e46c4373f",
          "grade": true,
          "grade_id": "cell-30575e713b55fc51",
          "locked": true,
          "points": 1,
          "schema_version": 3,
          "solution": false,
          "task": false
        },
        "colab": {
          "base_uri": "https://localhost:8080/",
          "height": 195
        },
        "id": "-JI7ZMl9JPdn",
        "outputId": "c41f0558-c539-4ba4-e7a0-7bcfecd39d3e"
      },
      "source": [
        "# You can click `File -> Open` in the menu above and open the `utils.py` file \n",
        "# in case you want to inspect the unit tests being used for each graded function.\n",
        "\n",
        "utils.test_white_df(white_df)\n"
      ],
      "execution_count": 9,
      "outputs": [
        {
          "output_type": "error",
          "ename": "AttributeError",
          "evalue": "ignored",
          "traceback": [
            "\u001b[0;31m---------------------------------------------------------------------------\u001b[0m",
            "\u001b[0;31mAttributeError\u001b[0m                            Traceback (most recent call last)",
            "\u001b[0;32m<ipython-input-9-8e54b75f4c04>\u001b[0m in \u001b[0;36m<module>\u001b[0;34m()\u001b[0m\n\u001b[1;32m      2\u001b[0m \u001b[0;31m# in case you want to inspect the unit tests being used for each graded function.\u001b[0m\u001b[0;34m\u001b[0m\u001b[0;34m\u001b[0m\u001b[0;34m\u001b[0m\u001b[0m\n\u001b[1;32m      3\u001b[0m \u001b[0;34m\u001b[0m\u001b[0m\n\u001b[0;32m----> 4\u001b[0;31m \u001b[0mutils\u001b[0m\u001b[0;34m.\u001b[0m\u001b[0mtest_white_df\u001b[0m\u001b[0;34m(\u001b[0m\u001b[0mwhite_df\u001b[0m\u001b[0;34m)\u001b[0m\u001b[0;34m\u001b[0m\u001b[0;34m\u001b[0m\u001b[0m\n\u001b[0m",
            "\u001b[0;31mAttributeError\u001b[0m: module 'utils' has no attribute 'test_white_df'"
          ]
        }
      ]
    },
    {
      "cell_type": "code",
      "metadata": {
        "colab": {
          "base_uri": "https://localhost:8080/"
        },
        "id": "OQHK0ohBQRCk",
        "outputId": "d9145eaa-ba29-461e-c9f7-3565051de9e9"
      },
      "source": [
        "print(white_df.alcohol[0])\n",
        "print(white_df.alcohol[100])\n",
        "\n",
        "# EXPECTED OUTPUT\n",
        "# 8.8\n",
        "# 9.1"
      ],
      "execution_count": 5,
      "outputs": [
        {
          "output_type": "stream",
          "text": [
            "8.8\n",
            "9.1\n"
          ],
          "name": "stdout"
        }
      ]
    },
    {
      "cell_type": "markdown",
      "metadata": {
        "id": "nKBCv5V9JPdn"
      },
      "source": [
        "### Pre-process the red wine dataset (TODO)\n",
        "- In the red wine dataset, you will fill in the column `is_red` with ones (1)."
      ]
    },
    {
      "cell_type": "code",
      "metadata": {
        "deletable": false,
        "id": "8y3QxKwBed8v",
        "nbgrader": {
          "cell_type": "code",
          "checksum": "be72275f78e2c2d0038dde9aa63f8d4f",
          "grade": false,
          "grade_id": "cell-e47a40f306593274",
          "locked": false,
          "schema_version": 3,
          "solution": true,
          "task": false
        }
      },
      "source": [
        "# Please uncomment all lines in this cell and replace those marked with `# YOUR CODE HERE`.\n",
        "# You can select all lines in this code cell with Ctrl+A (Windows/Linux) or Cmd+A (Mac), then press Ctrl+/ (Windows/Linux) or Cmd+/ (Mac) to uncomment.\n",
        "\n",
        "\n",
        "\n",
        "# URL of the red wine dataset\n",
        "URL = 'http://archive.ics.uci.edu/ml/machine-learning-databases/wine-quality/winequality-red.csv'\n",
        "\n",
        "# load the dataset from the URL\n",
        "red_df = pd.read_csv(URL, sep=\";\")\n",
        "\n",
        "# fill the `is_red` column with ones.\n",
        "red_df[\"is_red\"] = 1# YOUR CODE HERE\n",
        "\n",
        "# keep only the first of duplicate items\n",
        "red_df = red_df.drop_duplicates(keep='first')\n"
      ],
      "execution_count": 6,
      "outputs": []
    },
    {
      "cell_type": "code",
      "metadata": {
        "deletable": false,
        "editable": false,
        "nbgrader": {
          "cell_type": "code",
          "checksum": "d8e0c91b0fd668b63ba74a8f2f958b59",
          "grade": true,
          "grade_id": "cell-2a75937adcc0c25b",
          "locked": true,
          "points": 1,
          "schema_version": 3,
          "solution": false,
          "task": false
        },
        "id": "Zw_Ypif8JPdo"
      },
      "source": [
        "utils.test_red_df(red_df)\n"
      ],
      "execution_count": null,
      "outputs": []
    },
    {
      "cell_type": "code",
      "metadata": {
        "colab": {
          "base_uri": "https://localhost:8080/"
        },
        "id": "zsB3LUzNQpo_",
        "outputId": "2e6504b9-7f8f-4c14-f036-4d9864b53d7e"
      },
      "source": [
        "print(red_df.alcohol[0])\n",
        "print(red_df.alcohol[100])\n",
        "\n",
        "# EXPECTED OUTPUT\n",
        "# 9.4\n",
        "# 10.2"
      ],
      "execution_count": 7,
      "outputs": [
        {
          "output_type": "stream",
          "text": [
            "9.4\n",
            "10.2\n"
          ],
          "name": "stdout"
        }
      ]
    },
    {
      "cell_type": "markdown",
      "metadata": {
        "id": "2G8B-NYuM6-f"
      },
      "source": [
        "### Concatenate the datasets\n",
        "\n",
        "Next, concatenate the red and white wine dataframes."
      ]
    },
    {
      "cell_type": "code",
      "metadata": {
        "colab": {
          "base_uri": "https://localhost:8080/"
        },
        "id": "9ZAOQVwGLEtF",
        "outputId": "d050e173-7ef0-42b7-a1ee-2252df64f89b"
      },
      "source": [
        "red_df.columns"
      ],
      "execution_count": 8,
      "outputs": [
        {
          "output_type": "execute_result",
          "data": {
            "text/plain": [
              "Index(['fixed acidity', 'volatile acidity', 'citric acid', 'residual sugar',\n",
              "       'chlorides', 'free sulfur dioxide', 'total sulfur dioxide', 'density',\n",
              "       'pH', 'sulphates', 'alcohol', 'quality', 'is_red'],\n",
              "      dtype='object')"
            ]
          },
          "metadata": {
            "tags": []
          },
          "execution_count": 8
        }
      ]
    },
    {
      "cell_type": "code",
      "metadata": {
        "id": "YpQrOjJbfN3m"
      },
      "source": [
        "df = pd.concat([red_df, white_df], ignore_index=True)"
      ],
      "execution_count": 9,
      "outputs": []
    },
    {
      "cell_type": "code",
      "metadata": {
        "colab": {
          "base_uri": "https://localhost:8080/"
        },
        "id": "Se2dTmThQyjb",
        "outputId": "11d523fd-0f86-40d7-e341-60469352105a"
      },
      "source": [
        "print(df.alcohol[0])\n",
        "print(df.alcohol[100])\n",
        "\n",
        "# EXPECTED OUTPUT\n",
        "# 9.4\n",
        "# 9.5"
      ],
      "execution_count": 10,
      "outputs": [
        {
          "output_type": "stream",
          "text": [
            "9.4\n",
            "9.5\n"
          ],
          "name": "stdout"
        }
      ]
    },
    {
      "cell_type": "code",
      "metadata": {
        "id": "wx6y3rPpQv4k"
      },
      "source": [
        "# NOTE: In a real-world scenario, you should shuffle the data.\n",
        "# YOU ARE NOT going to do that here because we want to test\n",
        "# with deterministic data. But if you want the code to do it,\n",
        "# it's in the commented line below:\n",
        "\n",
        "#df = df.iloc[np.random.permutation(len(df))]"
      ],
      "execution_count": null,
      "outputs": []
    },
    {
      "cell_type": "markdown",
      "metadata": {
        "id": "-EqIcbg5M_n1"
      },
      "source": [
        "This will chart the quality of the wines."
      ]
    },
    {
      "cell_type": "code",
      "metadata": {
        "colab": {
          "base_uri": "https://localhost:8080/",
          "height": 265
        },
        "id": "IsvK0-Sgy17C",
        "outputId": "bf62ed6b-f198-44de-a7cb-a522c61d3133"
      },
      "source": [
        "df['quality'].hist(bins=20);"
      ],
      "execution_count": 11,
      "outputs": [
        {
          "output_type": "display_data",
          "data": {
            "image/png": "[encoded data removed]",
            "text/plain": [
              "<Figure size 432x288 with 1 Axes>"
            ]
          },
          "metadata": {
            "tags": [],
            "needs_background": "light"
          }
        }
      ]
    },
    {
      "cell_type": "markdown",
      "metadata": {
        "id": "Nut1rmYLzf-p"
      },
      "source": [
        "### Imbalanced data (TODO)\n",
        "You can see from the plot above that the wine quality dataset is imbalanced. \n",
        "- Since there are very few observations with quality equal to 3, 4, 8 and 9, you can drop these observations from your dataset. \n",
        "- You can do this by removing data belonging to all classes except those > 4 and < 8."
      ]
    },
    {
      "cell_type": "code",
      "metadata": {
        "deletable": false,
        "id": "doH9_-gnf3sz",
        "nbgrader": {
          "cell_type": "code",
          "checksum": "d9ba9fc3a3ca02ccc567be33652b80fe",
          "grade": false,
          "grade_id": "cell-6a3e9db696f6827b",
          "locked": false,
          "schema_version": 3,
          "solution": true,
          "task": false
        }
      },
      "source": [
        "# Please uncomment all lines in this cell and replace those marked with `# YOUR CODE HERE`.\n",
        "# You can select all lines in this code cell with Ctrl+A (Windows/Linux) or Cmd+A (Mac), then press Ctrl+/ (Windows/Linux) or Cmd+/ (Mac) to uncomment.\n",
        "\n",
        "\n",
        "\n",
        "# get data with wine quality greater than 4 and less than 8\n",
        "df = df[(df['quality'] > 4) & (df['quality'] < 8 )]\n",
        "\n",
        "# reset index and drop the old one\n",
        "df = df.reset_index(drop=True)"
      ],
      "execution_count": 12,
      "outputs": []
    },
    {
      "cell_type": "code",
      "metadata": {
        "deletable": false,
        "editable": false,
        "nbgrader": {
          "cell_type": "code",
          "checksum": "281e1d86a4803560ed5892cd7eda4c01",
          "grade": true,
          "grade_id": "cell-aed3da719d4682c7",
          "locked": true,
          "points": 1,
          "schema_version": 3,
          "solution": false,
          "task": false
        },
        "colab": {
          "base_uri": "https://localhost:8080/",
          "height": 178
        },
        "id": "02EtbC3YJPdq",
        "outputId": "8a72dd6d-ae05-4819-aca7-c46460d050f2"
      },
      "source": [
        "utils.test_df_drop(df)\n",
        "\n"
      ],
      "execution_count": 13,
      "outputs": [
        {
          "output_type": "error",
          "ename": "AttributeError",
          "evalue": "ignored",
          "traceback": [
            "\u001b[0;31m---------------------------------------------------------------------------\u001b[0m",
            "\u001b[0;31mAttributeError\u001b[0m                            Traceback (most recent call last)",
            "\u001b[0;32m<ipython-input-13-02ac41180da9>\u001b[0m in \u001b[0;36m<module>\u001b[0;34m()\u001b[0m\n\u001b[0;32m----> 1\u001b[0;31m \u001b[0mutils\u001b[0m\u001b[0;34m.\u001b[0m\u001b[0mtest_df_drop\u001b[0m\u001b[0;34m(\u001b[0m\u001b[0mdf\u001b[0m\u001b[0;34m)\u001b[0m\u001b[0;34m\u001b[0m\u001b[0;34m\u001b[0m\u001b[0m\n\u001b[0m\u001b[1;32m      2\u001b[0m \u001b[0;34m\u001b[0m\u001b[0m\n",
            "\u001b[0;31mAttributeError\u001b[0m: module 'utils' has no attribute 'test_df_drop'"
          ]
        }
      ]
    },
    {
      "cell_type": "code",
      "metadata": {
        "colab": {
          "base_uri": "https://localhost:8080/"
        },
        "id": "xNR1iAlMRPXO",
        "outputId": "bc9caa70-c4d8-40a3-8ab2-e536cbab464d"
      },
      "source": [
        "print(df.alcohol[0])\n",
        "print(df.alcohol[100])\n",
        "\n",
        "# EXPECTED OUTPUT\n",
        "# 9.4\n",
        "# 10.9"
      ],
      "execution_count": 20,
      "outputs": [
        {
          "output_type": "stream",
          "text": [
            "9.4\n",
            "10.9\n"
          ],
          "name": "stdout"
        }
      ]
    },
    {
      "cell_type": "markdown",
      "metadata": {
        "id": "cwhuRpnVRTzG"
      },
      "source": [
        "You can plot again to see the new range of data and quality"
      ]
    },
    {
      "cell_type": "code",
      "metadata": {
        "colab": {
          "base_uri": "https://localhost:8080/",
          "height": 265
        },
        "id": "857ygzZiLgGg",
        "outputId": "aee70add-0309-4524-ba7f-4a1721a063d2"
      },
      "source": [
        "df['quality'].hist(bins=20);"
      ],
      "execution_count": 14,
      "outputs": [
        {
          "output_type": "display_data",
          "data": {
            "image/png": "[encoded data removed]",
            "text/plain": [
              "<Figure size 432x288 with 1 Axes>"
            ]
          },
          "metadata": {
            "tags": [],
            "needs_background": "light"
          }
        }
      ]
    },
    {
      "cell_type": "markdown",
      "metadata": {
        "id": "n3k0vqSsp84t"
      },
      "source": [
        "### Train Test Split (TODO)\n",
        "\n",
        "Next, you can split the datasets into training, test and validation datasets.\n",
        "- The data frame should be split 80:20 into `train` and `test` sets.\n",
        "- The resulting `train` should then be split 80:20 into `train` and `val` sets.\n",
        "- The `train_test_split` parameter `test_size` takes a float value that ranges between 0. and 1, and represents the proportion of the dataset that is allocated to the test set.  The rest of the data is allocated to the training set."
      ]
    },
    {
      "cell_type": "code",
      "metadata": {
        "deletable": false,
        "id": "PAVIf2-fgRVY",
        "nbgrader": {
          "cell_type": "code",
          "checksum": "7f5738f4fb51d65adc9a8acbdf2b9970",
          "grade": false,
          "grade_id": "cell-91946cadf745206b",
          "locked": false,
          "schema_version": 3,
          "solution": true,
          "task": false
        }
      },
      "source": [
        "# Please uncomment all lines in this cell and replace those marked with `# YOUR CODE HERE`.\n",
        "# You can select all lines in this code cell with Ctrl+A (Windows/Linux) or Cmd+A (Mac), then press Ctrl+/ (Windows/Linux) or Cmd+/ (Mac) to uncomment.\n",
        "\n",
        "\n",
        "\n",
        "# Please do not change the random_state parameter. This is needed for grading.\n",
        "\n",
        "# split df into 80:20 train and test sets\n",
        "train, test = train_test_split(df, test_size=.2, random_state = 1)\n",
        "                               \n",
        "# split train into 80:20 train and val sets\n",
        "train, val = train_test_split(train, test_size=.2, random_state = 1)"
      ],
      "execution_count": 15,
      "outputs": []
    },
    {
      "cell_type": "code",
      "metadata": {
        "deletable": false,
        "editable": false,
        "id": "57h9LcEzRWpk",
        "nbgrader": {
          "cell_type": "code",
          "checksum": "42adbe9e66efac7c7a5f8cd73ac92f22",
          "grade": true,
          "grade_id": "cell-64b8b38cd0b965f6",
          "locked": true,
          "points": 1,
          "schema_version": 3,
          "solution": false,
          "task": false
        }
      },
      "source": [
        "utils.test_data_sizes(train.size, test.size, val.size)\n",
        "\n"
      ],
      "execution_count": null,
      "outputs": []
    },
    {
      "cell_type": "markdown",
      "metadata": {
        "id": "RwTNu4KFqG-K"
      },
      "source": [
        "Here's where you can explore the training stats. You can pop the labels 'is_red' and 'quality' from the data as these will be used as the labels\n"
      ]
    },
    {
      "cell_type": "code",
      "metadata": {
        "id": "Y_afyhhHM6WQ"
      },
      "source": [
        "train_stats = train.describe()\n",
        "train_stats.pop('is_red')\n",
        "train_stats.pop('quality')\n",
        "train_stats = train_stats.transpose()"
      ],
      "execution_count": 16,
      "outputs": []
    },
    {
      "cell_type": "markdown",
      "metadata": {
        "id": "ahvbYm4fNqSt"
      },
      "source": [
        "Explore the training stats!"
      ]
    },
    {
      "cell_type": "code",
      "metadata": {
        "colab": {
          "base_uri": "https://localhost:8080/",
          "height": 301
        },
        "id": "n_gAtPjZ0otF",
        "outputId": "96e60804-9223-491e-8c00-590fe2e04c2d"
      },
      "source": [
        "train.describe()"
      ],
      "execution_count": 26,
      "outputs": [
        {
          "output_type": "execute_result",
          "data": {
            "text/html": [
              "<div>\n",
              "<style scoped>\n",
              "    .dataframe tbody tr th:only-of-type {\n",
              "        vertical-align: middle;\n",
              "    }\n",
              "\n",
              "    .dataframe tbody tr th {\n",
              "        vertical-align: top;\n",
              "    }\n",
              "\n",
              "    .dataframe thead th {\n",
              "        text-align: right;\n",
              "    }\n",
              "</style>\n",
              "<table border=\"1\" class=\"dataframe\">\n",
              "  <thead>\n",
              "    <tr style=\"text-align: right;\">\n",
              "      <th></th>\n",
              "      <th>fixed acidity</th>\n",
              "      <th>volatile acidity</th>\n",
              "      <th>citric acid</th>\n",
              "      <th>residual sugar</th>\n",
              "      <th>chlorides</th>\n",
              "      <th>free sulfur dioxide</th>\n",
              "      <th>total sulfur dioxide</th>\n",
              "      <th>density</th>\n",
              "      <th>pH</th>\n",
              "      <th>sulphates</th>\n",
              "      <th>alcohol</th>\n",
              "      <th>quality</th>\n",
              "      <th>is_red</th>\n",
              "    </tr>\n",
              "  </thead>\n",
              "  <tbody>\n",
              "    <tr>\n",
              "      <th>count</th>\n",
              "      <td>3155.000000</td>\n",
              "      <td>3155.000000</td>\n",
              "      <td>3155.000000</td>\n",
              "      <td>3155.000000</td>\n",
              "      <td>3155.000000</td>\n",
              "      <td>3155.000000</td>\n",
              "      <td>3155.000000</td>\n",
              "      <td>3155.000000</td>\n",
              "      <td>3155.000000</td>\n",
              "      <td>3155.000000</td>\n",
              "      <td>3155.000000</td>\n",
              "      <td>3155.000000</td>\n",
              "      <td>3155.000000</td>\n",
              "    </tr>\n",
              "    <tr>\n",
              "      <th>mean</th>\n",
              "      <td>7.221616</td>\n",
              "      <td>0.338929</td>\n",
              "      <td>0.321569</td>\n",
              "      <td>5.155911</td>\n",
              "      <td>0.056976</td>\n",
              "      <td>30.388590</td>\n",
              "      <td>115.062282</td>\n",
              "      <td>0.994633</td>\n",
              "      <td>3.223201</td>\n",
              "      <td>0.534051</td>\n",
              "      <td>10.504466</td>\n",
              "      <td>5.813629</td>\n",
              "      <td>0.255784</td>\n",
              "    </tr>\n",
              "    <tr>\n",
              "      <th>std</th>\n",
              "      <td>1.325297</td>\n",
              "      <td>0.162476</td>\n",
              "      <td>0.147970</td>\n",
              "      <td>4.639632</td>\n",
              "      <td>0.036802</td>\n",
              "      <td>17.236784</td>\n",
              "      <td>56.706617</td>\n",
              "      <td>0.003005</td>\n",
              "      <td>0.161272</td>\n",
              "      <td>0.149149</td>\n",
              "      <td>1.154654</td>\n",
              "      <td>0.701121</td>\n",
              "      <td>0.436370</td>\n",
              "    </tr>\n",
              "    <tr>\n",
              "      <th>min</th>\n",
              "      <td>3.800000</td>\n",
              "      <td>0.080000</td>\n",
              "      <td>0.000000</td>\n",
              "      <td>0.600000</td>\n",
              "      <td>0.012000</td>\n",
              "      <td>1.000000</td>\n",
              "      <td>6.000000</td>\n",
              "      <td>0.987110</td>\n",
              "      <td>2.720000</td>\n",
              "      <td>0.220000</td>\n",
              "      <td>8.500000</td>\n",
              "      <td>5.000000</td>\n",
              "      <td>0.000000</td>\n",
              "    </tr>\n",
              "    <tr>\n",
              "      <th>25%</th>\n",
              "      <td>6.400000</td>\n",
              "      <td>0.230000</td>\n",
              "      <td>0.250000</td>\n",
              "      <td>1.800000</td>\n",
              "      <td>0.038000</td>\n",
              "      <td>17.000000</td>\n",
              "      <td>75.000000</td>\n",
              "      <td>0.992320</td>\n",
              "      <td>3.110000</td>\n",
              "      <td>0.430000</td>\n",
              "      <td>9.500000</td>\n",
              "      <td>5.000000</td>\n",
              "      <td>0.000000</td>\n",
              "    </tr>\n",
              "    <tr>\n",
              "      <th>50%</th>\n",
              "      <td>7.000000</td>\n",
              "      <td>0.290000</td>\n",
              "      <td>0.310000</td>\n",
              "      <td>2.800000</td>\n",
              "      <td>0.047000</td>\n",
              "      <td>28.000000</td>\n",
              "      <td>117.000000</td>\n",
              "      <td>0.994810</td>\n",
              "      <td>3.210000</td>\n",
              "      <td>0.510000</td>\n",
              "      <td>10.300000</td>\n",
              "      <td>6.000000</td>\n",
              "      <td>0.000000</td>\n",
              "    </tr>\n",
              "    <tr>\n",
              "      <th>75%</th>\n",
              "      <td>7.700000</td>\n",
              "      <td>0.400000</td>\n",
              "      <td>0.400000</td>\n",
              "      <td>7.650000</td>\n",
              "      <td>0.066000</td>\n",
              "      <td>41.000000</td>\n",
              "      <td>156.000000</td>\n",
              "      <td>0.996800</td>\n",
              "      <td>3.330000</td>\n",
              "      <td>0.600000</td>\n",
              "      <td>11.300000</td>\n",
              "      <td>6.000000</td>\n",
              "      <td>1.000000</td>\n",
              "    </tr>\n",
              "    <tr>\n",
              "      <th>max</th>\n",
              "      <td>15.600000</td>\n",
              "      <td>1.240000</td>\n",
              "      <td>1.660000</td>\n",
              "      <td>65.800000</td>\n",
              "      <td>0.611000</td>\n",
              "      <td>131.000000</td>\n",
              "      <td>344.000000</td>\n",
              "      <td>1.038980</td>\n",
              "      <td>4.010000</td>\n",
              "      <td>1.950000</td>\n",
              "      <td>14.000000</td>\n",
              "      <td>7.000000</td>\n",
              "      <td>1.000000</td>\n",
              "    </tr>\n",
              "  </tbody>\n",
              "</table>\n",
              "</div>"
            ],
            "text/plain": [
              "       fixed acidity  volatile acidity  ...      quality       is_red\n",
              "count    3155.000000       3155.000000  ...  3155.000000  3155.000000\n",
              "mean        7.221616          0.338929  ...     5.813629     0.255784\n",
              "std         1.325297          0.162476  ...     0.701121     0.436370\n",
              "min         3.800000          0.080000  ...     5.000000     0.000000\n",
              "25%         6.400000          0.230000  ...     5.000000     0.000000\n",
              "50%         7.000000          0.290000  ...     6.000000     0.000000\n",
              "75%         7.700000          0.400000  ...     6.000000     1.000000\n",
              "max        15.600000          1.240000  ...     7.000000     1.000000\n",
              "\n",
              "[8 rows x 13 columns]"
            ]
          },
          "metadata": {
            "tags": []
          },
          "execution_count": 26
        }
      ]
    },
    {
      "cell_type": "markdown",
      "metadata": {
        "id": "bGPvt9jir_HC"
      },
      "source": [
        "### Get the labels (TODO)\n",
        "\n",
        "The features and labels are currently in the same dataframe.\n",
        "- You will want to store the label columns `is_red` and `quality` separately from the feature columns.  \n",
        "- The following function, `format_output`, gets these two columns from the dataframe (it's given to you).\n",
        "- `format_output` also formats the data into numpy arrays. \n",
        "- Please use the `format_output` and apply it to the `train`, `val` and `test` sets to get dataframes for the labels."
      ]
    },
    {
      "cell_type": "code",
      "metadata": {
        "id": "Z_fs14XQqZVP"
      },
      "source": [
        "def format_output(data):\n",
        "    is_red = data.pop('is_red')\n",
        "    is_red = np.array(is_red)\n",
        "    quality = data.pop('quality')\n",
        "    quality = np.array(quality)\n",
        "    return (quality, is_red)"
      ],
      "execution_count": 17,
      "outputs": []
    },
    {
      "cell_type": "code",
      "metadata": {
        "deletable": false,
        "id": "8L3ZZe1fQicm",
        "nbgrader": {
          "cell_type": "code",
          "checksum": "7a86809e54895a816434c48dc903f55d",
          "grade": false,
          "grade_id": "cell-5c30fa2c2a354b0f",
          "locked": false,
          "schema_version": 3,
          "solution": true,
          "task": false
        }
      },
      "source": [
        "# Please uncomment all lines in this cell and replace those marked with `# YOUR CODE HERE`.\n",
        "# You can select all lines in this code cell with Ctrl+A (Windows/Linux) or Cmd+A (Mac), then press Ctrl+/ (Windows/Linux) or Cmd+/ (Mac) to uncomment.\n",
        "\n",
        "\n",
        "\n",
        "# format the output of the train set\n",
        "train_Y = format_output(train)\n",
        "\n",
        "# format the output of the val set\n",
        "val_Y = format_output(val)\n",
        "    \n",
        "# format the output of the test set\n",
        "test_Y = format_output(test)"
      ],
      "execution_count": 18,
      "outputs": []
    },
    {
      "cell_type": "code",
      "metadata": {
        "colab": {
          "base_uri": "https://localhost:8080/"
        },
        "id": "xmBHodcpbLfM",
        "outputId": "2c743d06-641b-4f1b-a216-bd22d800ab32"
      },
      "source": [
        "train_Y"
      ],
      "execution_count": 19,
      "outputs": [
        {
          "output_type": "execute_result",
          "data": {
            "text/plain": [
              "(array([5, 6, 5, ..., 6, 5, 5]), array([1, 0, 0, ..., 1, 1, 0]))"
            ]
          },
          "metadata": {
            "tags": []
          },
          "execution_count": 19
        }
      ]
    },
    {
      "cell_type": "code",
      "metadata": {
        "deletable": false,
        "editable": false,
        "nbgrader": {
          "cell_type": "code",
          "checksum": "359cabbafaed14ec9bbc1e57a7b6f32c",
          "grade": true,
          "grade_id": "cell-4977d8befb80f56b",
          "locked": true,
          "points": 1,
          "schema_version": 3,
          "solution": false,
          "task": false
        },
        "colab": {
          "base_uri": "https://localhost:8080/",
          "height": 162
        },
        "id": "QzjhNxojJPdu",
        "outputId": "8ea6b512-94e1-4970-bcf5-1c2e13e1bd04"
      },
      "source": [
        "utils.test_format_output(df, train_Y, val_Y, test_Y)"
      ],
      "execution_count": 29,
      "outputs": [
        {
          "output_type": "error",
          "ename": "AttributeError",
          "evalue": "ignored",
          "traceback": [
            "\u001b[0;31m---------------------------------------------------------------------------\u001b[0m",
            "\u001b[0;31mAttributeError\u001b[0m                            Traceback (most recent call last)",
            "\u001b[0;32m<ipython-input-29-8710fc094fd1>\u001b[0m in \u001b[0;36m<module>\u001b[0;34m()\u001b[0m\n\u001b[0;32m----> 1\u001b[0;31m \u001b[0mutils\u001b[0m\u001b[0;34m.\u001b[0m\u001b[0mtest_format_output\u001b[0m\u001b[0;34m(\u001b[0m\u001b[0mdf\u001b[0m\u001b[0;34m,\u001b[0m \u001b[0mtrain_Y\u001b[0m\u001b[0;34m,\u001b[0m \u001b[0mval_Y\u001b[0m\u001b[0;34m,\u001b[0m \u001b[0mtest_Y\u001b[0m\u001b[0;34m)\u001b[0m\u001b[0;34m\u001b[0m\u001b[0;34m\u001b[0m\u001b[0m\n\u001b[0m",
            "\u001b[0;31mAttributeError\u001b[0m: module 'utils' has no attribute 'test_format_output'"
          ]
        }
      ]
    },
    {
      "cell_type": "markdown",
      "metadata": {
        "id": "DNWmUnG6JPdu"
      },
      "source": [
        "Notice that after you get the labels, the `train`, `val` and `test` dataframes no longer contain the label columns, and contain just the feature columns.\n",
        "- This is because you used `.pop` in the `format_output` function."
      ]
    },
    {
      "cell_type": "code",
      "metadata": {
        "colab": {
          "base_uri": "https://localhost:8080/",
          "height": 195
        },
        "id": "Zq7VcL2LJPdv",
        "outputId": "de189ba8-ca0f-4d35-e1c6-212eb6d4d51c"
      },
      "source": [
        "train.head()"
      ],
      "execution_count": 20,
      "outputs": [
        {
          "output_type": "execute_result",
          "data": {
            "text/html": [
              "<div>\n",
              "<style scoped>\n",
              "    .dataframe tbody tr th:only-of-type {\n",
              "        vertical-align: middle;\n",
              "    }\n",
              "\n",
              "    .dataframe tbody tr th {\n",
              "        vertical-align: top;\n",
              "    }\n",
              "\n",
              "    .dataframe thead th {\n",
              "        text-align: right;\n",
              "    }\n",
              "</style>\n",
              "<table border=\"1\" class=\"dataframe\">\n",
              "  <thead>\n",
              "    <tr style=\"text-align: right;\">\n",
              "      <th></th>\n",
              "      <th>fixed acidity</th>\n",
              "      <th>volatile acidity</th>\n",
              "      <th>citric acid</th>\n",
              "      <th>residual sugar</th>\n",
              "      <th>chlorides</th>\n",
              "      <th>free sulfur dioxide</th>\n",
              "      <th>total sulfur dioxide</th>\n",
              "      <th>density</th>\n",
              "      <th>pH</th>\n",
              "      <th>sulphates</th>\n",
              "      <th>alcohol</th>\n",
              "    </tr>\n",
              "  </thead>\n",
              "  <tbody>\n",
              "    <tr>\n",
              "      <th>225</th>\n",
              "      <td>7.5</td>\n",
              "      <td>0.65</td>\n",
              "      <td>0.18</td>\n",
              "      <td>7.0</td>\n",
              "      <td>0.088</td>\n",
              "      <td>27.0</td>\n",
              "      <td>94.0</td>\n",
              "      <td>0.99915</td>\n",
              "      <td>3.38</td>\n",
              "      <td>0.77</td>\n",
              "      <td>9.4</td>\n",
              "    </tr>\n",
              "    <tr>\n",
              "      <th>3557</th>\n",
              "      <td>6.3</td>\n",
              "      <td>0.27</td>\n",
              "      <td>0.29</td>\n",
              "      <td>12.2</td>\n",
              "      <td>0.044</td>\n",
              "      <td>59.0</td>\n",
              "      <td>196.0</td>\n",
              "      <td>0.99782</td>\n",
              "      <td>3.14</td>\n",
              "      <td>0.40</td>\n",
              "      <td>8.8</td>\n",
              "    </tr>\n",
              "    <tr>\n",
              "      <th>3825</th>\n",
              "      <td>8.8</td>\n",
              "      <td>0.27</td>\n",
              "      <td>0.25</td>\n",
              "      <td>5.0</td>\n",
              "      <td>0.024</td>\n",
              "      <td>52.0</td>\n",
              "      <td>99.0</td>\n",
              "      <td>0.99250</td>\n",
              "      <td>2.87</td>\n",
              "      <td>0.49</td>\n",
              "      <td>11.4</td>\n",
              "    </tr>\n",
              "    <tr>\n",
              "      <th>1740</th>\n",
              "      <td>6.4</td>\n",
              "      <td>0.45</td>\n",
              "      <td>0.07</td>\n",
              "      <td>1.1</td>\n",
              "      <td>0.030</td>\n",
              "      <td>10.0</td>\n",
              "      <td>131.0</td>\n",
              "      <td>0.99050</td>\n",
              "      <td>2.97</td>\n",
              "      <td>0.28</td>\n",
              "      <td>10.8</td>\n",
              "    </tr>\n",
              "    <tr>\n",
              "      <th>1221</th>\n",
              "      <td>7.2</td>\n",
              "      <td>0.53</td>\n",
              "      <td>0.13</td>\n",
              "      <td>2.0</td>\n",
              "      <td>0.058</td>\n",
              "      <td>18.0</td>\n",
              "      <td>22.0</td>\n",
              "      <td>0.99573</td>\n",
              "      <td>3.21</td>\n",
              "      <td>0.68</td>\n",
              "      <td>9.9</td>\n",
              "    </tr>\n",
              "  </tbody>\n",
              "</table>\n",
              "</div>"
            ],
            "text/plain": [
              "      fixed acidity  volatile acidity  citric acid  ...    pH  sulphates  alcohol\n",
              "225             7.5              0.65         0.18  ...  3.38       0.77      9.4\n",
              "3557            6.3              0.27         0.29  ...  3.14       0.40      8.8\n",
              "3825            8.8              0.27         0.25  ...  2.87       0.49     11.4\n",
              "1740            6.4              0.45         0.07  ...  2.97       0.28     10.8\n",
              "1221            7.2              0.53         0.13  ...  3.21       0.68      9.9\n",
              "\n",
              "[5 rows x 11 columns]"
            ]
          },
          "metadata": {
            "tags": []
          },
          "execution_count": 20
        }
      ]
    },
    {
      "cell_type": "markdown",
      "metadata": {
        "id": "hEdbrruAsN1D"
      },
      "source": [
        "### Normalize the data (TODO)\n",
        "\n",
        "Next, you can normalize the data, x, using the formula:\n",
        "$$x_{norm} = \\frac{x - \\mu}{\\sigma}$$\n",
        "- The `norm` function is defined for you.\n",
        "- Please apply the `norm` function to normalize the dataframes that contains the feature columns of `train`, `val` and `test` sets."
      ]
    },
    {
      "cell_type": "code",
      "metadata": {
        "id": "WWiZPAHCLjUs"
      },
      "source": [
        "def norm(x):\n",
        "    return (x - train_stats['mean']) / train_stats['std']"
      ],
      "execution_count": 21,
      "outputs": []
    },
    {
      "cell_type": "code",
      "metadata": {
        "deletable": false,
        "id": "JEaOi2I2Lk69",
        "nbgrader": {
          "cell_type": "code",
          "checksum": "6bc0cdcb563d192f271067aa3373ff32",
          "grade": false,
          "grade_id": "cell-d8416d975c371095",
          "locked": false,
          "schema_version": 3,
          "solution": true,
          "task": false
        }
      },
      "source": [
        "# Please uncomment all lines in this cell and replace those marked with `# YOUR CODE HERE`.\n",
        "# You can select all lines in this code cell with Ctrl+A (Windows/Linux) or Cmd+A (Mac), then press Ctrl+/ (Windows/Linux) or Cmd+/ (Mac) to uncomment.\n",
        "\n",
        "\n",
        "\n",
        "# normalize the train set\n",
        "norm_train_X = norm(train)\n",
        "    \n",
        "# normalize the val set\n",
        "norm_val_X = norm(val)\n",
        "    \n",
        "# normalize the test set\n",
        "norm_test_X = norm(test)"
      ],
      "execution_count": 22,
      "outputs": []
    },
    {
      "cell_type": "code",
      "metadata": {
        "deletable": false,
        "editable": false,
        "nbgrader": {
          "cell_type": "code",
          "checksum": "4f567db45bf40191601780379cc100b8",
          "grade": true,
          "grade_id": "cell-97fad979d157529b",
          "locked": true,
          "points": 1,
          "schema_version": 3,
          "solution": false,
          "task": false
        },
        "colab": {
          "base_uri": "https://localhost:8080/",
          "height": 162
        },
        "id": "cuLugW5lJPdw",
        "outputId": "d2d360d9-5373-4eab-f8ca-1befb6b6bb1e"
      },
      "source": [
        "utils.test_norm(norm_train_X, norm_val_X, norm_test_X, train, val, test)\n"
      ],
      "execution_count": 36,
      "outputs": [
        {
          "output_type": "error",
          "ename": "AttributeError",
          "evalue": "ignored",
          "traceback": [
            "\u001b[0;31m---------------------------------------------------------------------------\u001b[0m",
            "\u001b[0;31mAttributeError\u001b[0m                            Traceback (most recent call last)",
            "\u001b[0;32m<ipython-input-36-67372534a214>\u001b[0m in \u001b[0;36m<module>\u001b[0;34m()\u001b[0m\n\u001b[0;32m----> 1\u001b[0;31m \u001b[0mutils\u001b[0m\u001b[0;34m.\u001b[0m\u001b[0mtest_norm\u001b[0m\u001b[0;34m(\u001b[0m\u001b[0mnorm_train_X\u001b[0m\u001b[0;34m,\u001b[0m \u001b[0mnorm_val_X\u001b[0m\u001b[0;34m,\u001b[0m \u001b[0mnorm_test_X\u001b[0m\u001b[0;34m,\u001b[0m \u001b[0mtrain\u001b[0m\u001b[0;34m,\u001b[0m \u001b[0mval\u001b[0m\u001b[0;34m,\u001b[0m \u001b[0mtest\u001b[0m\u001b[0;34m)\u001b[0m\u001b[0;34m\u001b[0m\u001b[0;34m\u001b[0m\u001b[0m\n\u001b[0m",
            "\u001b[0;31mAttributeError\u001b[0m: module 'utils' has no attribute 'test_norm'"
          ]
        }
      ]
    },
    {
      "cell_type": "markdown",
      "metadata": {
        "id": "hzykDwQhsaPO"
      },
      "source": [
        "## Define the Model (TODO)\n",
        "\n",
        "Define the model using the functional API. The base model will be 2 `Dense` layers of 128 neurons each, and have the `'relu'` activation.\n",
        "- Check out the documentation for [tf.keras.layers.Dense](https://www.tensorflow.org/api_docs/python/tf/keras/layers/Dense)"
      ]
    },
    {
      "cell_type": "code",
      "metadata": {
        "deletable": false,
        "id": "Rhcns3oTFkM6",
        "nbgrader": {
          "cell_type": "code",
          "checksum": "74b031247e569526552bf13a034a1c07",
          "grade": false,
          "grade_id": "cell-73fceedad1fe351c",
          "locked": false,
          "schema_version": 3,
          "solution": true,
          "task": false
        }
      },
      "source": [
        "# Please uncomment all lines in this cell and replace those marked with `# YOUR CODE HERE`.\n",
        "# You can select all lines in this code cell with Ctrl+A (Windows/Linux) or Cmd+A (Mac), then press Ctrl+/ (Windows/Linux) or Cmd+/ (Mac) to uncomment.\n",
        "\n",
        "\n",
        "\n",
        "def base_model(inputs):\n",
        "    \n",
        "    # connect a Dense layer with 128 neurons and a relu activation\n",
        "    x = Dense(128,activation='relu')(inputs)\n",
        "    \n",
        "    # connect another Dense layer with 128 neurons and a relu activation\n",
        "    x = Dense(128,activation='relu')(x)# YOUR CODE HERE\n",
        "    return x\n",
        "  "
      ],
      "execution_count": 23,
      "outputs": []
    },
    {
      "cell_type": "code",
      "metadata": {
        "deletable": false,
        "editable": false,
        "nbgrader": {
          "cell_type": "code",
          "checksum": "9255924b3def80f679616e4c851a43e1",
          "grade": true,
          "grade_id": "cell-54f742a133353d75",
          "locked": true,
          "points": 1,
          "schema_version": 3,
          "solution": false,
          "task": false
        },
        "id": "UcbxiSzWJPdw"
      },
      "source": [
        "utils.test_base_model(base_model)"
      ],
      "execution_count": null,
      "outputs": []
    },
    {
      "cell_type": "markdown",
      "metadata": {
        "id": "xem_fcVws6Kz"
      },
      "source": [
        "# Define output layers of the model (TODO)\n",
        "\n",
        "You will add output layers to the base model. \n",
        "- The model will need two outputs.\n",
        "\n",
        "One output layer will predict wine quality, which is a numeric value.\n",
        "- Define a `Dense` layer with 1 neuron.\n",
        "- Since this is a regression output, the activation can be left as its default value `None`.\n",
        "\n",
        "The other output layer will predict the wine type, which is either red `1` or not red `0` (white).\n",
        "- Define a `Dense` layer with 1 neuron.\n",
        "- Since there are two possible categories, you can use a sigmoid activation for binary classification.\n",
        "\n",
        "Define the `Model`\n",
        "- Define the `Model` object, and set the following parameters:\n",
        "  - `inputs`: pass in the inputs to the model as a list.\n",
        "  - `outputs`: pass in a list of the outputs that you just defined: wine quality, then wine type.\n",
        "  - **Note**: please list the wine quality before wine type in the outputs, as this will affect the calculated loss if you choose the other order."
      ]
    },
    {
      "cell_type": "code",
      "metadata": {
        "deletable": false,
        "id": "n5UGF8PMVLPt",
        "nbgrader": {
          "cell_type": "code",
          "checksum": "76d35b90d20cdcbb22986cd8211057de",
          "grade": false,
          "grade_id": "cell-19e285f482f021fb",
          "locked": false,
          "schema_version": 3,
          "solution": true,
          "task": false
        }
      },
      "source": [
        "# Please uncomment all lines in this cell and replace those marked with `# YOUR CODE HERE`.\n",
        "# You can select all lines in this code cell with Ctrl+A (Windows/Linux) or Cmd+A (Mac), then press Ctrl+/ (Windows/Linux) or Cmd+/ (Mac) to uncomment.\n",
        "\n",
        "\n",
        "\n",
        "def final_model(inputs):\n",
        "    \n",
        "    # get the base model\n",
        "    x = base_model(inputs)\n",
        "\n",
        "    # connect the output Dense layer for regression\n",
        "    wine_quality = Dense(units='1', name='wine_quality')(x)\n",
        "\n",
        "    # connect the output Dense layer for classification. this will use a sigmoid activation.\n",
        "    wine_type = Dense(units='1', activation='sigmoid', name='wine_type')(x)\n",
        "\n",
        "    # define the model using the input and output layers\n",
        "    model = Model(inputs=inputs, outputs=[wine_quality,wine_type])\n",
        "\n",
        "    return model"
      ],
      "execution_count": 24,
      "outputs": []
    },
    {
      "cell_type": "code",
      "metadata": {
        "deletable": false,
        "editable": false,
        "nbgrader": {
          "cell_type": "code",
          "checksum": "89cbf89d8ab5e2e59ecf7f63f517520a",
          "grade": true,
          "grade_id": "cell-40d050f855c817d1",
          "locked": true,
          "points": 1,
          "schema_version": 3,
          "solution": false,
          "task": false
        },
        "id": "lJ-pfu08JPdx"
      },
      "source": [
        "utils.test_final_model(final_model)"
      ],
      "execution_count": null,
      "outputs": []
    },
    {
      "cell_type": "markdown",
      "metadata": {
        "id": "5R0BMTsltZyu"
      },
      "source": [
        "## Compiling the Model\n",
        "\n",
        "Next, compile the model. When setting the loss parameter of `model.compile`, you're setting the loss for each of the two outputs (wine quality and wine type).\n",
        "\n",
        "To set more than one loss, use a dictionary of key-value pairs.\n",
        "- You can look at the docs for the losses [here](https://www.tensorflow.org/api_docs/python/tf/keras/losses#functions).\n",
        "    - **Note**: For the desired spelling, please look at the \"Functions\" section of the documentation and not the \"classes\" section on that same page.\n",
        "- wine_type: Since you will be performing binary classification on wine type, you should use the binary crossentropy loss function for it.  Please pass this in as a string.  \n",
        "  - **Hint**, this should be all lowercase.  In the documentation, you'll see this under the \"Functions\" section, not the \"Classes\" section.\n",
        "- wine_quality: since this is a regression output, use the mean squared error.  Please pass it in as a string, all lowercase.\n",
        "  - **Hint**: You may notice that there are two aliases for mean squared error.  Please use the shorter name.\n",
        "\n",
        "\n",
        "You will also set the metric for each of the two outputs.  Again, to set metrics for two or more outputs, use a dictionary with key value pairs.\n",
        "- The metrics documentation is linked [here](https://www.tensorflow.org/api_docs/python/tf/keras/metrics).\n",
        "- For the wine type, please set it to accuracy as a string, all lowercase.\n",
        "- For wine quality, please use the root mean squared error.  Instead of a string, you'll set it to an instance of the class [RootMeanSquaredError](https://www.tensorflow.org/api_docs/python/tf/keras/metrics/RootMeanSquaredError), which belongs to the tf.keras.metrics module.\n",
        "\n",
        "**Note**: If you see the error message \n",
        ">Exception: wine quality loss function is incorrect.\n",
        "\n",
        "- Please also check your other losses and metrics, as the error may be caused by the other three key-value pairs and not the wine quality loss."
      ]
    },
    {
      "cell_type": "code",
      "metadata": {
        "colab": {
          "base_uri": "https://localhost:8080/"
        },
        "id": "ka7tj7xKkWZH",
        "outputId": "6d67e0d7-af55-4d37-d7d3-678990a52803"
      },
      "source": [
        "inputss"
      ],
      "execution_count": 50,
      "outputs": [
        {
          "output_type": "execute_result",
          "data": {
            "text/plain": [
              "<KerasTensor: shape=(None, 11) dtype=float32 (created by layer 'input_3')>"
            ]
          },
          "metadata": {
            "tags": []
          },
          "execution_count": 50
        }
      ]
    },
    {
      "cell_type": "code",
      "metadata": {
        "deletable": false,
        "id": "LK11duUbUjmh",
        "nbgrader": {
          "cell_type": "code",
          "checksum": "22f45067ca69eb2ccadb43874dbcc27b",
          "grade": false,
          "grade_id": "cell-81afdc4dcca51d5e",
          "locked": false,
          "schema_version": 3,
          "solution": true,
          "task": false
        }
      },
      "source": [
        "# Please uncomment all lines in this cell and replace those marked with `# YOUR CODE HERE`.\n",
        "# You can select all lines in this code cell with Ctrl+A (Windows/Linux) or Cmd+A (Mac), then press Ctrl+/ (Windows/Linux) or Cmd+/ (Mac) to uncomment.\n",
        "\n",
        "\n",
        "\n",
        "inputss = tf.keras.layers.Input(shape=(11,))\n",
        "rms = tf.keras.optimizers.RMSprop(lr=0.0001)\n",
        "model = final_model(inputss)\n",
        "\n",
        "model.compile(optimizer=rms, \n",
        "              loss = {'wine_type' :\"binary_crossentropy\" , # YOUR CODE HERE,\n",
        "                      'wine_quality' :\"MeanSquaredError\" # YOUR CODE HERE\n",
        "                     },\n",
        "              metrics = {'wine_type' : \"accuracy\", # YOUR CODE HERE,\n",
        "                         'wine_quality':  tf.keras.metrics.RootMeanSquaredError()# YOUR CODE HERE\n",
        "                       }\n",
        "             )\n"
      ],
      "execution_count": 34,
      "outputs": []
    },
    {
      "cell_type": "code",
      "metadata": {
        "deletable": false,
        "editable": false,
        "nbgrader": {
          "cell_type": "code",
          "checksum": "88e02238ea5e456ff65e835cc8158054",
          "grade": true,
          "grade_id": "cell-2eeeba02391c4632",
          "locked": true,
          "points": 1,
          "schema_version": 3,
          "solution": false,
          "task": false
        },
        "colab": {
          "base_uri": "https://localhost:8080/",
          "height": 162
        },
        "id": "hOVVhi91JPdy",
        "outputId": "359ddc66-dd58-430b-8432-84064ba6b8e8"
      },
      "source": [
        "utils.test_model_compile(model)"
      ],
      "execution_count": 32,
      "outputs": [
        {
          "output_type": "error",
          "ename": "AttributeError",
          "evalue": "ignored",
          "traceback": [
            "\u001b[0;31m---------------------------------------------------------------------------\u001b[0m",
            "\u001b[0;31mAttributeError\u001b[0m                            Traceback (most recent call last)",
            "\u001b[0;32m<ipython-input-32-9a25711e305e>\u001b[0m in \u001b[0;36m<module>\u001b[0;34m()\u001b[0m\n\u001b[0;32m----> 1\u001b[0;31m \u001b[0mutils\u001b[0m\u001b[0;34m.\u001b[0m\u001b[0mtest_model_compile\u001b[0m\u001b[0;34m(\u001b[0m\u001b[0mmodel\u001b[0m\u001b[0;34m)\u001b[0m\u001b[0;34m\u001b[0m\u001b[0;34m\u001b[0m\u001b[0m\n\u001b[0m",
            "\u001b[0;31mAttributeError\u001b[0m: module 'utils' has no attribute 'test_model_compile'"
          ]
        }
      ]
    },
    {
      "cell_type": "markdown",
      "metadata": {
        "id": "90MpAMpWuKm-"
      },
      "source": [
        "## Training the Model\n",
        "\n",
        "Fit the model to the training inputs and outputs. \n",
        "- Check the documentation for [model.fit](https://www.tensorflow.org/api_docs/python/tf/keras/Model#fit).\n",
        "- Remember to use the normalized training set as inputs. \n",
        "- For the validation data, please use the normalized validation set."
      ]
    },
    {
      "cell_type": "code",
      "metadata": {
        "colab": {
          "base_uri": "https://localhost:8080/"
        },
        "deletable": false,
        "id": "_eiZkle4XwiY",
        "nbgrader": {
          "cell_type": "code",
          "checksum": "2ca7664be03bfd6fd3651ae44d17b793",
          "grade": false,
          "grade_id": "cell-0bb56262896f6680",
          "locked": false,
          "schema_version": 3,
          "solution": true,
          "task": false
        },
        "outputId": "f6fb8b99-6069-4d7a-d16d-a360b969054c"
      },
      "source": [
        "# Please uncomment all lines in this cell and replace those marked with `# YOUR CODE HERE`.\n",
        "# You can select all lines in this code cell with Ctrl+A (Windows/Linux) or Cmd+A (Mac), then press Ctrl+/ (Windows/Linux) or Cmd+/ (Mac) to uncomment.\n",
        "\n",
        "\n",
        "\n",
        "history = model.fit(norm_train_X, train_Y,\n",
        "                    epochs = 180, validation_data=(norm_val_X,val_Y))"
      ],
      "execution_count": 35,
      "outputs": [
        {
          "output_type": "stream",
          "text": [
            "Epoch 1/180\n",
            "99/99 [==============================] - 1s 7ms/step - loss: 33.0959 - wine_quality_loss: 32.3338 - wine_type_loss: 0.7620 - wine_quality_root_mean_squared_error: 5.6815 - wine_type_accuracy: 0.2130 - val_loss: 21.6227 - val_wine_quality_loss: 20.8923 - val_wine_type_loss: 0.7304 - val_wine_quality_root_mean_squared_error: 4.5708 - val_wine_type_accuracy: 0.4119\n",
            "Epoch 2/180\n",
            "99/99 [==============================] - 0s 4ms/step - loss: 18.2711 - wine_quality_loss: 17.5577 - wine_type_loss: 0.7133 - wine_quality_root_mean_squared_error: 4.1826 - wine_type_accuracy: 0.4853 - val_loss: 9.1388 - val_wine_quality_loss: 8.4923 - val_wine_type_loss: 0.6465 - val_wine_quality_root_mean_squared_error: 2.9142 - val_wine_type_accuracy: 0.7009\n",
            "Epoch 3/180\n",
            "99/99 [==============================] - 0s 5ms/step - loss: 7.3467 - wine_quality_loss: 6.7324 - wine_type_loss: 0.6142 - wine_quality_root_mean_squared_error: 2.5859 - wine_type_accuracy: 0.7883 - val_loss: 3.3349 - val_wine_quality_loss: 2.8214 - val_wine_type_loss: 0.5135 - val_wine_quality_root_mean_squared_error: 1.6797 - val_wine_type_accuracy: 0.9087\n",
            "Epoch 4/180\n",
            "99/99 [==============================] - 0s 5ms/step - loss: 3.0112 - wine_quality_loss: 2.5469 - wine_type_loss: 0.4644 - wine_quality_root_mean_squared_error: 1.5954 - wine_type_accuracy: 0.8991 - val_loss: 2.5034 - val_wine_quality_loss: 2.1263 - val_wine_type_loss: 0.3772 - val_wine_quality_root_mean_squared_error: 1.4582 - val_wine_type_accuracy: 0.9379\n",
            "Epoch 5/180\n",
            "99/99 [==============================] - 0s 4ms/step - loss: 2.2908 - wine_quality_loss: 1.9484 - wine_type_loss: 0.3424 - wine_quality_root_mean_squared_error: 1.3939 - wine_type_accuracy: 0.9497 - val_loss: 2.1055 - val_wine_quality_loss: 1.8274 - val_wine_type_loss: 0.2781 - val_wine_quality_root_mean_squared_error: 1.3518 - val_wine_type_accuracy: 0.9683\n",
            "Epoch 6/180\n",
            "99/99 [==============================] - 1s 5ms/step - loss: 2.0548 - wine_quality_loss: 1.7985 - wine_type_loss: 0.2564 - wine_quality_root_mean_squared_error: 1.3404 - wine_type_accuracy: 0.9709 - val_loss: 1.8448 - val_wine_quality_loss: 1.6354 - val_wine_type_loss: 0.2094 - val_wine_quality_root_mean_squared_error: 1.2788 - val_wine_type_accuracy: 0.9797\n",
            "Epoch 7/180\n",
            "99/99 [==============================] - 1s 5ms/step - loss: 1.7249 - wine_quality_loss: 1.5299 - wine_type_loss: 0.1950 - wine_quality_root_mean_squared_error: 1.2364 - wine_type_accuracy: 0.9800 - val_loss: 1.6567 - val_wine_quality_loss: 1.4961 - val_wine_type_loss: 0.1606 - val_wine_quality_root_mean_squared_error: 1.2231 - val_wine_type_accuracy: 0.9835\n",
            "Epoch 8/180\n",
            "99/99 [==============================] - 1s 5ms/step - loss: 1.6294 - wine_quality_loss: 1.4770 - wine_type_loss: 0.1524 - wine_quality_root_mean_squared_error: 1.2148 - wine_type_accuracy: 0.9825 - val_loss: 1.5097 - val_wine_quality_loss: 1.3835 - val_wine_type_loss: 0.1262 - val_wine_quality_root_mean_squared_error: 1.1762 - val_wine_type_accuracy: 0.9861\n",
            "Epoch 9/180\n",
            "99/99 [==============================] - 1s 6ms/step - loss: 1.4884 - wine_quality_loss: 1.3658 - wine_type_loss: 0.1227 - wine_quality_root_mean_squared_error: 1.1676 - wine_type_accuracy: 0.9852 - val_loss: 1.3965 - val_wine_quality_loss: 1.2937 - val_wine_type_loss: 0.1028 - val_wine_quality_root_mean_squared_error: 1.1374 - val_wine_type_accuracy: 0.9873\n",
            "Epoch 10/180\n",
            "99/99 [==============================] - 0s 4ms/step - loss: 1.4322 - wine_quality_loss: 1.3263 - wine_type_loss: 0.1059 - wine_quality_root_mean_squared_error: 1.1511 - wine_type_accuracy: 0.9884 - val_loss: 1.2986 - val_wine_quality_loss: 1.2125 - val_wine_type_loss: 0.0860 - val_wine_quality_root_mean_squared_error: 1.1011 - val_wine_type_accuracy: 0.9873\n",
            "Epoch 11/180\n",
            "99/99 [==============================] - 0s 4ms/step - loss: 1.2904 - wine_quality_loss: 1.2088 - wine_type_loss: 0.0815 - wine_quality_root_mean_squared_error: 1.0991 - wine_type_accuracy: 0.9876 - val_loss: 1.2085 - val_wine_quality_loss: 1.1351 - val_wine_type_loss: 0.0734 - val_wine_quality_root_mean_squared_error: 1.0654 - val_wine_type_accuracy: 0.9911\n",
            "Epoch 12/180\n",
            "99/99 [==============================] - 0s 4ms/step - loss: 1.1939 - wine_quality_loss: 1.1219 - wine_type_loss: 0.0720 - wine_quality_root_mean_squared_error: 1.0590 - wine_type_accuracy: 0.9901 - val_loss: 1.1362 - val_wine_quality_loss: 1.0713 - val_wine_type_loss: 0.0649 - val_wine_quality_root_mean_squared_error: 1.0350 - val_wine_type_accuracy: 0.9911\n",
            "Epoch 13/180\n",
            "99/99 [==============================] - 0s 4ms/step - loss: 1.1316 - wine_quality_loss: 1.0739 - wine_type_loss: 0.0577 - wine_quality_root_mean_squared_error: 1.0358 - wine_type_accuracy: 0.9934 - val_loss: 1.0622 - val_wine_quality_loss: 1.0038 - val_wine_type_loss: 0.0584 - val_wine_quality_root_mean_squared_error: 1.0019 - val_wine_type_accuracy: 0.9911\n",
            "Epoch 14/180\n",
            "99/99 [==============================] - 0s 4ms/step - loss: 1.0785 - wine_quality_loss: 1.0224 - wine_type_loss: 0.0561 - wine_quality_root_mean_squared_error: 1.0110 - wine_type_accuracy: 0.9918 - val_loss: 0.9984 - val_wine_quality_loss: 0.9449 - val_wine_type_loss: 0.0535 - val_wine_quality_root_mean_squared_error: 0.9721 - val_wine_type_accuracy: 0.9924\n",
            "Epoch 15/180\n",
            "99/99 [==============================] - 0s 4ms/step - loss: 0.9530 - wine_quality_loss: 0.9019 - wine_type_loss: 0.0511 - wine_quality_root_mean_squared_error: 0.9491 - wine_type_accuracy: 0.9918 - val_loss: 0.9480 - val_wine_quality_loss: 0.8982 - val_wine_type_loss: 0.0498 - val_wine_quality_root_mean_squared_error: 0.9477 - val_wine_type_accuracy: 0.9924\n",
            "Epoch 16/180\n",
            "99/99 [==============================] - 0s 5ms/step - loss: 0.9352 - wine_quality_loss: 0.8818 - wine_type_loss: 0.0534 - wine_quality_root_mean_squared_error: 0.9389 - wine_type_accuracy: 0.9892 - val_loss: 0.8858 - val_wine_quality_loss: 0.8390 - val_wine_type_loss: 0.0468 - val_wine_quality_root_mean_squared_error: 0.9160 - val_wine_type_accuracy: 0.9924\n",
            "Epoch 17/180\n",
            "99/99 [==============================] - 0s 4ms/step - loss: 0.9364 - wine_quality_loss: 0.8897 - wine_type_loss: 0.0467 - wine_quality_root_mean_squared_error: 0.9430 - wine_type_accuracy: 0.9914 - val_loss: 0.8414 - val_wine_quality_loss: 0.7970 - val_wine_type_loss: 0.0444 - val_wine_quality_root_mean_squared_error: 0.8928 - val_wine_type_accuracy: 0.9937\n",
            "Epoch 18/180\n",
            "99/99 [==============================] - 0s 5ms/step - loss: 0.8442 - wine_quality_loss: 0.7993 - wine_type_loss: 0.0449 - wine_quality_root_mean_squared_error: 0.8935 - wine_type_accuracy: 0.9903 - val_loss: 0.8173 - val_wine_quality_loss: 0.7746 - val_wine_type_loss: 0.0427 - val_wine_quality_root_mean_squared_error: 0.8801 - val_wine_type_accuracy: 0.9937\n",
            "Epoch 19/180\n",
            "99/99 [==============================] - 0s 5ms/step - loss: 0.8179 - wine_quality_loss: 0.7759 - wine_type_loss: 0.0420 - wine_quality_root_mean_squared_error: 0.8807 - wine_type_accuracy: 0.9931 - val_loss: 0.7618 - val_wine_quality_loss: 0.7206 - val_wine_type_loss: 0.0411 - val_wine_quality_root_mean_squared_error: 0.8489 - val_wine_type_accuracy: 0.9937\n",
            "Epoch 20/180\n",
            "99/99 [==============================] - 0s 5ms/step - loss: 0.8049 - wine_quality_loss: 0.7686 - wine_type_loss: 0.0363 - wine_quality_root_mean_squared_error: 0.8761 - wine_type_accuracy: 0.9935 - val_loss: 0.7261 - val_wine_quality_loss: 0.6862 - val_wine_type_loss: 0.0399 - val_wine_quality_root_mean_squared_error: 0.8284 - val_wine_type_accuracy: 0.9937\n",
            "Epoch 21/180\n",
            "99/99 [==============================] - 0s 5ms/step - loss: 0.7594 - wine_quality_loss: 0.7093 - wine_type_loss: 0.0501 - wine_quality_root_mean_squared_error: 0.8421 - wine_type_accuracy: 0.9890 - val_loss: 0.6916 - val_wine_quality_loss: 0.6528 - val_wine_type_loss: 0.0387 - val_wine_quality_root_mean_squared_error: 0.8080 - val_wine_type_accuracy: 0.9924\n",
            "Epoch 22/180\n",
            "99/99 [==============================] - 1s 5ms/step - loss: 0.6943 - wine_quality_loss: 0.6570 - wine_type_loss: 0.0373 - wine_quality_root_mean_squared_error: 0.8102 - wine_type_accuracy: 0.9917 - val_loss: 0.6665 - val_wine_quality_loss: 0.6286 - val_wine_type_loss: 0.0378 - val_wine_quality_root_mean_squared_error: 0.7929 - val_wine_type_accuracy: 0.9924\n",
            "Epoch 23/180\n",
            "99/99 [==============================] - 1s 5ms/step - loss: 0.6760 - wine_quality_loss: 0.6292 - wine_type_loss: 0.0469 - wine_quality_root_mean_squared_error: 0.7931 - wine_type_accuracy: 0.9916 - val_loss: 0.6271 - val_wine_quality_loss: 0.5898 - val_wine_type_loss: 0.0373 - val_wine_quality_root_mean_squared_error: 0.7680 - val_wine_type_accuracy: 0.9937\n",
            "Epoch 24/180\n",
            "99/99 [==============================] - 1s 5ms/step - loss: 0.6794 - wine_quality_loss: 0.6375 - wine_type_loss: 0.0419 - wine_quality_root_mean_squared_error: 0.7981 - wine_type_accuracy: 0.9921 - val_loss: 0.5956 - val_wine_quality_loss: 0.5587 - val_wine_type_loss: 0.0369 - val_wine_quality_root_mean_squared_error: 0.7475 - val_wine_type_accuracy: 0.9937\n",
            "Epoch 25/180\n",
            "99/99 [==============================] - 0s 5ms/step - loss: 0.6184 - wine_quality_loss: 0.5804 - wine_type_loss: 0.0380 - wine_quality_root_mean_squared_error: 0.7615 - wine_type_accuracy: 0.9916 - val_loss: 0.5716 - val_wine_quality_loss: 0.5354 - val_wine_type_loss: 0.0362 - val_wine_quality_root_mean_squared_error: 0.7317 - val_wine_type_accuracy: 0.9937\n",
            "Epoch 26/180\n",
            "99/99 [==============================] - 1s 6ms/step - loss: 0.5732 - wine_quality_loss: 0.5365 - wine_type_loss: 0.0367 - wine_quality_root_mean_squared_error: 0.7323 - wine_type_accuracy: 0.9926 - val_loss: 0.5591 - val_wine_quality_loss: 0.5235 - val_wine_type_loss: 0.0356 - val_wine_quality_root_mean_squared_error: 0.7235 - val_wine_type_accuracy: 0.9937\n",
            "Epoch 27/180\n",
            "99/99 [==============================] - 1s 6ms/step - loss: 0.5745 - wine_quality_loss: 0.5428 - wine_type_loss: 0.0317 - wine_quality_root_mean_squared_error: 0.7363 - wine_type_accuracy: 0.9939 - val_loss: 0.5367 - val_wine_quality_loss: 0.5015 - val_wine_type_loss: 0.0352 - val_wine_quality_root_mean_squared_error: 0.7082 - val_wine_type_accuracy: 0.9937\n",
            "Epoch 28/180\n",
            "99/99 [==============================] - 1s 6ms/step - loss: 0.5306 - wine_quality_loss: 0.4949 - wine_type_loss: 0.0357 - wine_quality_root_mean_squared_error: 0.7033 - wine_type_accuracy: 0.9917 - val_loss: 0.5208 - val_wine_quality_loss: 0.4862 - val_wine_type_loss: 0.0346 - val_wine_quality_root_mean_squared_error: 0.6973 - val_wine_type_accuracy: 0.9937\n",
            "Epoch 29/180\n",
            "99/99 [==============================] - 1s 6ms/step - loss: 0.5143 - wine_quality_loss: 0.4846 - wine_type_loss: 0.0297 - wine_quality_root_mean_squared_error: 0.6959 - wine_type_accuracy: 0.9922 - val_loss: 0.5062 - val_wine_quality_loss: 0.4718 - val_wine_type_loss: 0.0344 - val_wine_quality_root_mean_squared_error: 0.6869 - val_wine_type_accuracy: 0.9937\n",
            "Epoch 30/180\n",
            "99/99 [==============================] - 1s 5ms/step - loss: 0.4999 - wine_quality_loss: 0.4709 - wine_type_loss: 0.0290 - wine_quality_root_mean_squared_error: 0.6862 - wine_type_accuracy: 0.9944 - val_loss: 0.4883 - val_wine_quality_loss: 0.4542 - val_wine_type_loss: 0.0341 - val_wine_quality_root_mean_squared_error: 0.6740 - val_wine_type_accuracy: 0.9937\n",
            "Epoch 31/180\n",
            "99/99 [==============================] - 1s 5ms/step - loss: 0.4913 - wine_quality_loss: 0.4601 - wine_type_loss: 0.0312 - wine_quality_root_mean_squared_error: 0.6782 - wine_type_accuracy: 0.9942 - val_loss: 0.4785 - val_wine_quality_loss: 0.4448 - val_wine_type_loss: 0.0337 - val_wine_quality_root_mean_squared_error: 0.6669 - val_wine_type_accuracy: 0.9937\n",
            "Epoch 32/180\n",
            "99/99 [==============================] - 1s 5ms/step - loss: 0.4539 - wine_quality_loss: 0.4214 - wine_type_loss: 0.0325 - wine_quality_root_mean_squared_error: 0.6490 - wine_type_accuracy: 0.9932 - val_loss: 0.4654 - val_wine_quality_loss: 0.4321 - val_wine_type_loss: 0.0333 - val_wine_quality_root_mean_squared_error: 0.6573 - val_wine_type_accuracy: 0.9937\n",
            "Epoch 33/180\n",
            "99/99 [==============================] - 0s 5ms/step - loss: 0.4577 - wine_quality_loss: 0.4265 - wine_type_loss: 0.0312 - wine_quality_root_mean_squared_error: 0.6530 - wine_type_accuracy: 0.9926 - val_loss: 0.4488 - val_wine_quality_loss: 0.4156 - val_wine_type_loss: 0.0332 - val_wine_quality_root_mean_squared_error: 0.6447 - val_wine_type_accuracy: 0.9937\n",
            "Epoch 34/180\n",
            "99/99 [==============================] - 1s 5ms/step - loss: 0.4304 - wine_quality_loss: 0.3974 - wine_type_loss: 0.0329 - wine_quality_root_mean_squared_error: 0.6303 - wine_type_accuracy: 0.9926 - val_loss: 0.4350 - val_wine_quality_loss: 0.4020 - val_wine_type_loss: 0.0330 - val_wine_quality_root_mean_squared_error: 0.6340 - val_wine_type_accuracy: 0.9937\n",
            "Epoch 35/180\n",
            "99/99 [==============================] - 1s 5ms/step - loss: 0.4449 - wine_quality_loss: 0.4025 - wine_type_loss: 0.0425 - wine_quality_root_mean_squared_error: 0.6343 - wine_type_accuracy: 0.9906 - val_loss: 0.4235 - val_wine_quality_loss: 0.3908 - val_wine_type_loss: 0.0327 - val_wine_quality_root_mean_squared_error: 0.6251 - val_wine_type_accuracy: 0.9937\n",
            "Epoch 36/180\n",
            "99/99 [==============================] - 0s 5ms/step - loss: 0.4194 - wine_quality_loss: 0.3913 - wine_type_loss: 0.0281 - wine_quality_root_mean_squared_error: 0.6255 - wine_type_accuracy: 0.9942 - val_loss: 0.4122 - val_wine_quality_loss: 0.3796 - val_wine_type_loss: 0.0326 - val_wine_quality_root_mean_squared_error: 0.6161 - val_wine_type_accuracy: 0.9937\n",
            "Epoch 37/180\n",
            "99/99 [==============================] - 0s 5ms/step - loss: 0.4023 - wine_quality_loss: 0.3741 - wine_type_loss: 0.0282 - wine_quality_root_mean_squared_error: 0.6115 - wine_type_accuracy: 0.9953 - val_loss: 0.4103 - val_wine_quality_loss: 0.3779 - val_wine_type_loss: 0.0324 - val_wine_quality_root_mean_squared_error: 0.6147 - val_wine_type_accuracy: 0.9937\n",
            "Epoch 38/180\n",
            "99/99 [==============================] - 0s 5ms/step - loss: 0.3940 - wine_quality_loss: 0.3679 - wine_type_loss: 0.0261 - wine_quality_root_mean_squared_error: 0.6064 - wine_type_accuracy: 0.9956 - val_loss: 0.4009 - val_wine_quality_loss: 0.3687 - val_wine_type_loss: 0.0322 - val_wine_quality_root_mean_squared_error: 0.6072 - val_wine_type_accuracy: 0.9937\n",
            "Epoch 39/180\n",
            "99/99 [==============================] - 0s 5ms/step - loss: 0.4044 - wine_quality_loss: 0.3732 - wine_type_loss: 0.0312 - wine_quality_root_mean_squared_error: 0.6109 - wine_type_accuracy: 0.9931 - val_loss: 0.4074 - val_wine_quality_loss: 0.3755 - val_wine_type_loss: 0.0320 - val_wine_quality_root_mean_squared_error: 0.6128 - val_wine_type_accuracy: 0.9949\n",
            "Epoch 40/180\n",
            "99/99 [==============================] - 0s 4ms/step - loss: 0.3759 - wine_quality_loss: 0.3500 - wine_type_loss: 0.0259 - wine_quality_root_mean_squared_error: 0.5915 - wine_type_accuracy: 0.9952 - val_loss: 0.3894 - val_wine_quality_loss: 0.3576 - val_wine_type_loss: 0.0319 - val_wine_quality_root_mean_squared_error: 0.5980 - val_wine_type_accuracy: 0.9949\n",
            "Epoch 41/180\n",
            "99/99 [==============================] - 0s 4ms/step - loss: 0.3818 - wine_quality_loss: 0.3548 - wine_type_loss: 0.0270 - wine_quality_root_mean_squared_error: 0.5955 - wine_type_accuracy: 0.9947 - val_loss: 0.3927 - val_wine_quality_loss: 0.3609 - val_wine_type_loss: 0.0317 - val_wine_quality_root_mean_squared_error: 0.6008 - val_wine_type_accuracy: 0.9949\n",
            "Epoch 42/180\n",
            "99/99 [==============================] - 0s 5ms/step - loss: 0.3835 - wine_quality_loss: 0.3561 - wine_type_loss: 0.0275 - wine_quality_root_mean_squared_error: 0.5967 - wine_type_accuracy: 0.9946 - val_loss: 0.3852 - val_wine_quality_loss: 0.3537 - val_wine_type_loss: 0.0316 - val_wine_quality_root_mean_squared_error: 0.5947 - val_wine_type_accuracy: 0.9949\n",
            "Epoch 43/180\n",
            "99/99 [==============================] - 0s 5ms/step - loss: 0.3681 - wine_quality_loss: 0.3348 - wine_type_loss: 0.0332 - wine_quality_root_mean_squared_error: 0.5784 - wine_type_accuracy: 0.9947 - val_loss: 0.3833 - val_wine_quality_loss: 0.3519 - val_wine_type_loss: 0.0314 - val_wine_quality_root_mean_squared_error: 0.5932 - val_wine_type_accuracy: 0.9949\n",
            "Epoch 44/180\n",
            "99/99 [==============================] - 0s 5ms/step - loss: 0.3812 - wine_quality_loss: 0.3469 - wine_type_loss: 0.0343 - wine_quality_root_mean_squared_error: 0.5888 - wine_type_accuracy: 0.9947 - val_loss: 0.3789 - val_wine_quality_loss: 0.3477 - val_wine_type_loss: 0.0312 - val_wine_quality_root_mean_squared_error: 0.5896 - val_wine_type_accuracy: 0.9949\n",
            "Epoch 45/180\n",
            "99/99 [==============================] - 1s 5ms/step - loss: 0.3726 - wine_quality_loss: 0.3383 - wine_type_loss: 0.0343 - wine_quality_root_mean_squared_error: 0.5815 - wine_type_accuracy: 0.9934 - val_loss: 0.3773 - val_wine_quality_loss: 0.3461 - val_wine_type_loss: 0.0312 - val_wine_quality_root_mean_squared_error: 0.5883 - val_wine_type_accuracy: 0.9949\n",
            "Epoch 46/180\n",
            "99/99 [==============================] - 1s 6ms/step - loss: 0.3696 - wine_quality_loss: 0.3348 - wine_type_loss: 0.0348 - wine_quality_root_mean_squared_error: 0.5786 - wine_type_accuracy: 0.9931 - val_loss: 0.3708 - val_wine_quality_loss: 0.3397 - val_wine_type_loss: 0.0311 - val_wine_quality_root_mean_squared_error: 0.5828 - val_wine_type_accuracy: 0.9949\n",
            "Epoch 47/180\n",
            "99/99 [==============================] - 1s 6ms/step - loss: 0.3569 - wine_quality_loss: 0.3324 - wine_type_loss: 0.0246 - wine_quality_root_mean_squared_error: 0.5765 - wine_type_accuracy: 0.9948 - val_loss: 0.3720 - val_wine_quality_loss: 0.3408 - val_wine_type_loss: 0.0312 - val_wine_quality_root_mean_squared_error: 0.5838 - val_wine_type_accuracy: 0.9949\n",
            "Epoch 48/180\n",
            "99/99 [==============================] - 1s 6ms/step - loss: 0.3492 - wine_quality_loss: 0.3174 - wine_type_loss: 0.0318 - wine_quality_root_mean_squared_error: 0.5633 - wine_type_accuracy: 0.9954 - val_loss: 0.3747 - val_wine_quality_loss: 0.3436 - val_wine_type_loss: 0.0311 - val_wine_quality_root_mean_squared_error: 0.5862 - val_wine_type_accuracy: 0.9949\n",
            "Epoch 49/180\n",
            "99/99 [==============================] - 1s 6ms/step - loss: 0.3554 - wine_quality_loss: 0.3304 - wine_type_loss: 0.0250 - wine_quality_root_mean_squared_error: 0.5748 - wine_type_accuracy: 0.9953 - val_loss: 0.3628 - val_wine_quality_loss: 0.3318 - val_wine_type_loss: 0.0310 - val_wine_quality_root_mean_squared_error: 0.5760 - val_wine_type_accuracy: 0.9949\n",
            "Epoch 50/180\n",
            "99/99 [==============================] - 1s 5ms/step - loss: 0.3635 - wine_quality_loss: 0.3368 - wine_type_loss: 0.0266 - wine_quality_root_mean_squared_error: 0.5802 - wine_type_accuracy: 0.9950 - val_loss: 0.3653 - val_wine_quality_loss: 0.3345 - val_wine_type_loss: 0.0309 - val_wine_quality_root_mean_squared_error: 0.5783 - val_wine_type_accuracy: 0.9949\n",
            "Epoch 51/180\n",
            "99/99 [==============================] - 1s 5ms/step - loss: 0.3525 - wine_quality_loss: 0.3267 - wine_type_loss: 0.0258 - wine_quality_root_mean_squared_error: 0.5715 - wine_type_accuracy: 0.9949 - val_loss: 0.3608 - val_wine_quality_loss: 0.3302 - val_wine_type_loss: 0.0306 - val_wine_quality_root_mean_squared_error: 0.5747 - val_wine_type_accuracy: 0.9949\n",
            "Epoch 52/180\n",
            "99/99 [==============================] - 1s 7ms/step - loss: 0.3566 - wine_quality_loss: 0.3300 - wine_type_loss: 0.0266 - wine_quality_root_mean_squared_error: 0.5744 - wine_type_accuracy: 0.9942 - val_loss: 0.3629 - val_wine_quality_loss: 0.3323 - val_wine_type_loss: 0.0306 - val_wine_quality_root_mean_squared_error: 0.5765 - val_wine_type_accuracy: 0.9949\n",
            "Epoch 53/180\n",
            "99/99 [==============================] - 0s 5ms/step - loss: 0.3507 - wine_quality_loss: 0.3260 - wine_type_loss: 0.0247 - wine_quality_root_mean_squared_error: 0.5710 - wine_type_accuracy: 0.9948 - val_loss: 0.3652 - val_wine_quality_loss: 0.3347 - val_wine_type_loss: 0.0305 - val_wine_quality_root_mean_squared_error: 0.5785 - val_wine_type_accuracy: 0.9949\n",
            "Epoch 54/180\n",
            "99/99 [==============================] - 0s 5ms/step - loss: 0.3429 - wine_quality_loss: 0.3218 - wine_type_loss: 0.0211 - wine_quality_root_mean_squared_error: 0.5672 - wine_type_accuracy: 0.9964 - val_loss: 0.3553 - val_wine_quality_loss: 0.3249 - val_wine_type_loss: 0.0303 - val_wine_quality_root_mean_squared_error: 0.5700 - val_wine_type_accuracy: 0.9949\n",
            "Epoch 55/180\n",
            "99/99 [==============================] - 0s 5ms/step - loss: 0.3368 - wine_quality_loss: 0.3082 - wine_type_loss: 0.0286 - wine_quality_root_mean_squared_error: 0.5549 - wine_type_accuracy: 0.9940 - val_loss: 0.3560 - val_wine_quality_loss: 0.3258 - val_wine_type_loss: 0.0302 - val_wine_quality_root_mean_squared_error: 0.5708 - val_wine_type_accuracy: 0.9949\n",
            "Epoch 56/180\n",
            "99/99 [==============================] - 1s 6ms/step - loss: 0.3633 - wine_quality_loss: 0.3205 - wine_type_loss: 0.0428 - wine_quality_root_mean_squared_error: 0.5660 - wine_type_accuracy: 0.9922 - val_loss: 0.3535 - val_wine_quality_loss: 0.3234 - val_wine_type_loss: 0.0301 - val_wine_quality_root_mean_squared_error: 0.5687 - val_wine_type_accuracy: 0.9949\n",
            "Epoch 57/180\n",
            "99/99 [==============================] - 0s 5ms/step - loss: 0.3453 - wine_quality_loss: 0.3186 - wine_type_loss: 0.0267 - wine_quality_root_mean_squared_error: 0.5644 - wine_type_accuracy: 0.9937 - val_loss: 0.3639 - val_wine_quality_loss: 0.3339 - val_wine_type_loss: 0.0301 - val_wine_quality_root_mean_squared_error: 0.5778 - val_wine_type_accuracy: 0.9949\n",
            "Epoch 58/180\n",
            "99/99 [==============================] - 0s 5ms/step - loss: 0.3291 - wine_quality_loss: 0.3100 - wine_type_loss: 0.0191 - wine_quality_root_mean_squared_error: 0.5567 - wine_type_accuracy: 0.9946 - val_loss: 0.3623 - val_wine_quality_loss: 0.3323 - val_wine_type_loss: 0.0300 - val_wine_quality_root_mean_squared_error: 0.5765 - val_wine_type_accuracy: 0.9949\n",
            "Epoch 59/180\n",
            "99/99 [==============================] - 0s 5ms/step - loss: 0.3518 - wine_quality_loss: 0.3254 - wine_type_loss: 0.0264 - wine_quality_root_mean_squared_error: 0.5702 - wine_type_accuracy: 0.9923 - val_loss: 0.3513 - val_wine_quality_loss: 0.3214 - val_wine_type_loss: 0.0299 - val_wine_quality_root_mean_squared_error: 0.5669 - val_wine_type_accuracy: 0.9949\n",
            "Epoch 60/180\n",
            "99/99 [==============================] - 0s 5ms/step - loss: 0.3622 - wine_quality_loss: 0.3216 - wine_type_loss: 0.0406 - wine_quality_root_mean_squared_error: 0.5670 - wine_type_accuracy: 0.9918 - val_loss: 0.3487 - val_wine_quality_loss: 0.3189 - val_wine_type_loss: 0.0298 - val_wine_quality_root_mean_squared_error: 0.5647 - val_wine_type_accuracy: 0.9949\n",
            "Epoch 61/180\n",
            "99/99 [==============================] - 1s 5ms/step - loss: 0.3292 - wine_quality_loss: 0.3068 - wine_type_loss: 0.0223 - wine_quality_root_mean_squared_error: 0.5538 - wine_type_accuracy: 0.9955 - val_loss: 0.3526 - val_wine_quality_loss: 0.3229 - val_wine_type_loss: 0.0297 - val_wine_quality_root_mean_squared_error: 0.5682 - val_wine_type_accuracy: 0.9949\n",
            "Epoch 62/180\n",
            "99/99 [==============================] - 1s 6ms/step - loss: 0.3377 - wine_quality_loss: 0.3067 - wine_type_loss: 0.0311 - wine_quality_root_mean_squared_error: 0.5535 - wine_type_accuracy: 0.9937 - val_loss: 0.3482 - val_wine_quality_loss: 0.3186 - val_wine_type_loss: 0.0295 - val_wine_quality_root_mean_squared_error: 0.5645 - val_wine_type_accuracy: 0.9949\n",
            "Epoch 63/180\n",
            "99/99 [==============================] - 0s 5ms/step - loss: 0.3231 - wine_quality_loss: 0.3013 - wine_type_loss: 0.0218 - wine_quality_root_mean_squared_error: 0.5488 - wine_type_accuracy: 0.9930 - val_loss: 0.3540 - val_wine_quality_loss: 0.3246 - val_wine_type_loss: 0.0294 - val_wine_quality_root_mean_squared_error: 0.5697 - val_wine_type_accuracy: 0.9949\n",
            "Epoch 64/180\n",
            "99/99 [==============================] - 0s 5ms/step - loss: 0.3370 - wine_quality_loss: 0.3061 - wine_type_loss: 0.0309 - wine_quality_root_mean_squared_error: 0.5532 - wine_type_accuracy: 0.9950 - val_loss: 0.3492 - val_wine_quality_loss: 0.3199 - val_wine_type_loss: 0.0294 - val_wine_quality_root_mean_squared_error: 0.5656 - val_wine_type_accuracy: 0.9949\n",
            "Epoch 65/180\n",
            "99/99 [==============================] - 0s 4ms/step - loss: 0.3485 - wine_quality_loss: 0.3184 - wine_type_loss: 0.0301 - wine_quality_root_mean_squared_error: 0.5641 - wine_type_accuracy: 0.9933 - val_loss: 0.3485 - val_wine_quality_loss: 0.3191 - val_wine_type_loss: 0.0294 - val_wine_quality_root_mean_squared_error: 0.5649 - val_wine_type_accuracy: 0.9949\n",
            "Epoch 66/180\n",
            "99/99 [==============================] - 0s 5ms/step - loss: 0.3390 - wine_quality_loss: 0.3039 - wine_type_loss: 0.0351 - wine_quality_root_mean_squared_error: 0.5510 - wine_type_accuracy: 0.9928 - val_loss: 0.3480 - val_wine_quality_loss: 0.3188 - val_wine_type_loss: 0.0291 - val_wine_quality_root_mean_squared_error: 0.5647 - val_wine_type_accuracy: 0.9949\n",
            "Epoch 67/180\n",
            "99/99 [==============================] - 0s 5ms/step - loss: 0.3321 - wine_quality_loss: 0.3108 - wine_type_loss: 0.0212 - wine_quality_root_mean_squared_error: 0.5574 - wine_type_accuracy: 0.9946 - val_loss: 0.3419 - val_wine_quality_loss: 0.3128 - val_wine_type_loss: 0.0290 - val_wine_quality_root_mean_squared_error: 0.5593 - val_wine_type_accuracy: 0.9949\n",
            "Epoch 68/180\n",
            "99/99 [==============================] - 0s 5ms/step - loss: 0.3272 - wine_quality_loss: 0.3037 - wine_type_loss: 0.0236 - wine_quality_root_mean_squared_error: 0.5510 - wine_type_accuracy: 0.9940 - val_loss: 0.3465 - val_wine_quality_loss: 0.3174 - val_wine_type_loss: 0.0291 - val_wine_quality_root_mean_squared_error: 0.5634 - val_wine_type_accuracy: 0.9949\n",
            "Epoch 69/180\n",
            "99/99 [==============================] - 0s 5ms/step - loss: 0.3389 - wine_quality_loss: 0.3124 - wine_type_loss: 0.0265 - wine_quality_root_mean_squared_error: 0.5588 - wine_type_accuracy: 0.9942 - val_loss: 0.3417 - val_wine_quality_loss: 0.3127 - val_wine_type_loss: 0.0290 - val_wine_quality_root_mean_squared_error: 0.5592 - val_wine_type_accuracy: 0.9949\n",
            "Epoch 70/180\n",
            "99/99 [==============================] - 0s 5ms/step - loss: 0.3286 - wine_quality_loss: 0.3057 - wine_type_loss: 0.0229 - wine_quality_root_mean_squared_error: 0.5525 - wine_type_accuracy: 0.9935 - val_loss: 0.3481 - val_wine_quality_loss: 0.3193 - val_wine_type_loss: 0.0289 - val_wine_quality_root_mean_squared_error: 0.5650 - val_wine_type_accuracy: 0.9949\n",
            "Epoch 71/180\n",
            "99/99 [==============================] - 0s 5ms/step - loss: 0.3121 - wine_quality_loss: 0.2949 - wine_type_loss: 0.0172 - wine_quality_root_mean_squared_error: 0.5430 - wine_type_accuracy: 0.9952 - val_loss: 0.3427 - val_wine_quality_loss: 0.3137 - val_wine_type_loss: 0.0289 - val_wine_quality_root_mean_squared_error: 0.5601 - val_wine_type_accuracy: 0.9949\n",
            "Epoch 72/180\n",
            "99/99 [==============================] - 0s 5ms/step - loss: 0.3159 - wine_quality_loss: 0.2940 - wine_type_loss: 0.0219 - wine_quality_root_mean_squared_error: 0.5421 - wine_type_accuracy: 0.9950 - val_loss: 0.3468 - val_wine_quality_loss: 0.3180 - val_wine_type_loss: 0.0288 - val_wine_quality_root_mean_squared_error: 0.5639 - val_wine_type_accuracy: 0.9949\n",
            "Epoch 73/180\n",
            "99/99 [==============================] - 0s 5ms/step - loss: 0.3274 - wine_quality_loss: 0.2952 - wine_type_loss: 0.0322 - wine_quality_root_mean_squared_error: 0.5433 - wine_type_accuracy: 0.9921 - val_loss: 0.3480 - val_wine_quality_loss: 0.3194 - val_wine_type_loss: 0.0287 - val_wine_quality_root_mean_squared_error: 0.5651 - val_wine_type_accuracy: 0.9949\n",
            "Epoch 74/180\n",
            "99/99 [==============================] - 1s 5ms/step - loss: 0.3236 - wine_quality_loss: 0.3009 - wine_type_loss: 0.0228 - wine_quality_root_mean_squared_error: 0.5485 - wine_type_accuracy: 0.9960 - val_loss: 0.3423 - val_wine_quality_loss: 0.3136 - val_wine_type_loss: 0.0287 - val_wine_quality_root_mean_squared_error: 0.5600 - val_wine_type_accuracy: 0.9949\n",
            "Epoch 75/180\n",
            "99/99 [==============================] - 0s 5ms/step - loss: 0.3292 - wine_quality_loss: 0.2963 - wine_type_loss: 0.0329 - wine_quality_root_mean_squared_error: 0.5443 - wine_type_accuracy: 0.9916 - val_loss: 0.3465 - val_wine_quality_loss: 0.3179 - val_wine_type_loss: 0.0286 - val_wine_quality_root_mean_squared_error: 0.5638 - val_wine_type_accuracy: 0.9949\n",
            "Epoch 76/180\n",
            "99/99 [==============================] - 0s 5ms/step - loss: 0.3108 - wine_quality_loss: 0.2920 - wine_type_loss: 0.0188 - wine_quality_root_mean_squared_error: 0.5403 - wine_type_accuracy: 0.9954 - val_loss: 0.3442 - val_wine_quality_loss: 0.3157 - val_wine_type_loss: 0.0285 - val_wine_quality_root_mean_squared_error: 0.5618 - val_wine_type_accuracy: 0.9949\n",
            "Epoch 77/180\n",
            "99/99 [==============================] - 0s 5ms/step - loss: 0.3245 - wine_quality_loss: 0.2904 - wine_type_loss: 0.0341 - wine_quality_root_mean_squared_error: 0.5388 - wine_type_accuracy: 0.9928 - val_loss: 0.3474 - val_wine_quality_loss: 0.3189 - val_wine_type_loss: 0.0285 - val_wine_quality_root_mean_squared_error: 0.5647 - val_wine_type_accuracy: 0.9949\n",
            "Epoch 78/180\n",
            "99/99 [==============================] - 0s 5ms/step - loss: 0.3192 - wine_quality_loss: 0.2924 - wine_type_loss: 0.0268 - wine_quality_root_mean_squared_error: 0.5406 - wine_type_accuracy: 0.9925 - val_loss: 0.3442 - val_wine_quality_loss: 0.3157 - val_wine_type_loss: 0.0285 - val_wine_quality_root_mean_squared_error: 0.5619 - val_wine_type_accuracy: 0.9949\n",
            "Epoch 79/180\n",
            "99/99 [==============================] - 0s 5ms/step - loss: 0.3219 - wine_quality_loss: 0.2992 - wine_type_loss: 0.0228 - wine_quality_root_mean_squared_error: 0.5467 - wine_type_accuracy: 0.9935 - val_loss: 0.3400 - val_wine_quality_loss: 0.3117 - val_wine_type_loss: 0.0283 - val_wine_quality_root_mean_squared_error: 0.5583 - val_wine_type_accuracy: 0.9949\n",
            "Epoch 80/180\n",
            "99/99 [==============================] - 0s 5ms/step - loss: 0.3326 - wine_quality_loss: 0.3033 - wine_type_loss: 0.0293 - wine_quality_root_mean_squared_error: 0.5507 - wine_type_accuracy: 0.9947 - val_loss: 0.3393 - val_wine_quality_loss: 0.3111 - val_wine_type_loss: 0.0283 - val_wine_quality_root_mean_squared_error: 0.5577 - val_wine_type_accuracy: 0.9949\n",
            "Epoch 81/180\n",
            "99/99 [==============================] - 0s 5ms/step - loss: 0.3077 - wine_quality_loss: 0.2829 - wine_type_loss: 0.0248 - wine_quality_root_mean_squared_error: 0.5317 - wine_type_accuracy: 0.9945 - val_loss: 0.3394 - val_wine_quality_loss: 0.3111 - val_wine_type_loss: 0.0282 - val_wine_quality_root_mean_squared_error: 0.5578 - val_wine_type_accuracy: 0.9949\n",
            "Epoch 82/180\n",
            "99/99 [==============================] - 1s 5ms/step - loss: 0.3191 - wine_quality_loss: 0.2942 - wine_type_loss: 0.0249 - wine_quality_root_mean_squared_error: 0.5423 - wine_type_accuracy: 0.9933 - val_loss: 0.3481 - val_wine_quality_loss: 0.3200 - val_wine_type_loss: 0.0281 - val_wine_quality_root_mean_squared_error: 0.5656 - val_wine_type_accuracy: 0.9949\n",
            "Epoch 83/180\n",
            "99/99 [==============================] - 1s 5ms/step - loss: 0.3227 - wine_quality_loss: 0.2920 - wine_type_loss: 0.0308 - wine_quality_root_mean_squared_error: 0.5402 - wine_type_accuracy: 0.9929 - val_loss: 0.3399 - val_wine_quality_loss: 0.3118 - val_wine_type_loss: 0.0281 - val_wine_quality_root_mean_squared_error: 0.5584 - val_wine_type_accuracy: 0.9949\n",
            "Epoch 84/180\n",
            "99/99 [==============================] - 0s 5ms/step - loss: 0.3223 - wine_quality_loss: 0.2985 - wine_type_loss: 0.0237 - wine_quality_root_mean_squared_error: 0.5463 - wine_type_accuracy: 0.9946 - val_loss: 0.3420 - val_wine_quality_loss: 0.3141 - val_wine_type_loss: 0.0279 - val_wine_quality_root_mean_squared_error: 0.5605 - val_wine_type_accuracy: 0.9949\n",
            "Epoch 85/180\n",
            "99/99 [==============================] - 0s 4ms/step - loss: 0.3261 - wine_quality_loss: 0.3046 - wine_type_loss: 0.0216 - wine_quality_root_mean_squared_error: 0.5515 - wine_type_accuracy: 0.9962 - val_loss: 0.3391 - val_wine_quality_loss: 0.3111 - val_wine_type_loss: 0.0280 - val_wine_quality_root_mean_squared_error: 0.5578 - val_wine_type_accuracy: 0.9949\n",
            "Epoch 86/180\n",
            "99/99 [==============================] - 0s 5ms/step - loss: 0.3340 - wine_quality_loss: 0.2943 - wine_type_loss: 0.0397 - wine_quality_root_mean_squared_error: 0.5423 - wine_type_accuracy: 0.9925 - val_loss: 0.3383 - val_wine_quality_loss: 0.3105 - val_wine_type_loss: 0.0278 - val_wine_quality_root_mean_squared_error: 0.5572 - val_wine_type_accuracy: 0.9949\n",
            "Epoch 87/180\n",
            "99/99 [==============================] - 0s 5ms/step - loss: 0.3216 - wine_quality_loss: 0.2931 - wine_type_loss: 0.0285 - wine_quality_root_mean_squared_error: 0.5414 - wine_type_accuracy: 0.9931 - val_loss: 0.3399 - val_wine_quality_loss: 0.3119 - val_wine_type_loss: 0.0280 - val_wine_quality_root_mean_squared_error: 0.5585 - val_wine_type_accuracy: 0.9949\n",
            "Epoch 88/180\n",
            "99/99 [==============================] - 0s 5ms/step - loss: 0.3046 - wine_quality_loss: 0.2816 - wine_type_loss: 0.0230 - wine_quality_root_mean_squared_error: 0.5305 - wine_type_accuracy: 0.9960 - val_loss: 0.3422 - val_wine_quality_loss: 0.3142 - val_wine_type_loss: 0.0280 - val_wine_quality_root_mean_squared_error: 0.5606 - val_wine_type_accuracy: 0.9949\n",
            "Epoch 89/180\n",
            "99/99 [==============================] - 0s 5ms/step - loss: 0.3076 - wine_quality_loss: 0.2785 - wine_type_loss: 0.0291 - wine_quality_root_mean_squared_error: 0.5277 - wine_type_accuracy: 0.9950 - val_loss: 0.3421 - val_wine_quality_loss: 0.3143 - val_wine_type_loss: 0.0278 - val_wine_quality_root_mean_squared_error: 0.5606 - val_wine_type_accuracy: 0.9949\n",
            "Epoch 90/180\n",
            "99/99 [==============================] - 1s 5ms/step - loss: 0.2984 - wine_quality_loss: 0.2804 - wine_type_loss: 0.0180 - wine_quality_root_mean_squared_error: 0.5294 - wine_type_accuracy: 0.9952 - val_loss: 0.3425 - val_wine_quality_loss: 0.3148 - val_wine_type_loss: 0.0278 - val_wine_quality_root_mean_squared_error: 0.5610 - val_wine_type_accuracy: 0.9949\n",
            "Epoch 91/180\n",
            "99/99 [==============================] - 1s 5ms/step - loss: 0.3134 - wine_quality_loss: 0.2915 - wine_type_loss: 0.0219 - wine_quality_root_mean_squared_error: 0.5398 - wine_type_accuracy: 0.9932 - val_loss: 0.3458 - val_wine_quality_loss: 0.3182 - val_wine_type_loss: 0.0276 - val_wine_quality_root_mean_squared_error: 0.5641 - val_wine_type_accuracy: 0.9949\n",
            "Epoch 92/180\n",
            "99/99 [==============================] - 0s 5ms/step - loss: 0.3041 - wine_quality_loss: 0.2796 - wine_type_loss: 0.0245 - wine_quality_root_mean_squared_error: 0.5287 - wine_type_accuracy: 0.9946 - val_loss: 0.3362 - val_wine_quality_loss: 0.3086 - val_wine_type_loss: 0.0275 - val_wine_quality_root_mean_squared_error: 0.5555 - val_wine_type_accuracy: 0.9949\n",
            "Epoch 93/180\n",
            "99/99 [==============================] - 0s 5ms/step - loss: 0.3091 - wine_quality_loss: 0.2908 - wine_type_loss: 0.0183 - wine_quality_root_mean_squared_error: 0.5391 - wine_type_accuracy: 0.9942 - val_loss: 0.3369 - val_wine_quality_loss: 0.3093 - val_wine_type_loss: 0.0276 - val_wine_quality_root_mean_squared_error: 0.5562 - val_wine_type_accuracy: 0.9949\n",
            "Epoch 94/180\n",
            "99/99 [==============================] - 0s 5ms/step - loss: 0.3089 - wine_quality_loss: 0.2875 - wine_type_loss: 0.0214 - wine_quality_root_mean_squared_error: 0.5361 - wine_type_accuracy: 0.9947 - val_loss: 0.3372 - val_wine_quality_loss: 0.3098 - val_wine_type_loss: 0.0274 - val_wine_quality_root_mean_squared_error: 0.5566 - val_wine_type_accuracy: 0.9949\n",
            "Epoch 95/180\n",
            "99/99 [==============================] - 0s 4ms/step - loss: 0.3064 - wine_quality_loss: 0.2902 - wine_type_loss: 0.0161 - wine_quality_root_mean_squared_error: 0.5387 - wine_type_accuracy: 0.9964 - val_loss: 0.3447 - val_wine_quality_loss: 0.3174 - val_wine_type_loss: 0.0273 - val_wine_quality_root_mean_squared_error: 0.5634 - val_wine_type_accuracy: 0.9949\n",
            "Epoch 96/180\n",
            "99/99 [==============================] - 0s 5ms/step - loss: 0.3135 - wine_quality_loss: 0.2933 - wine_type_loss: 0.0202 - wine_quality_root_mean_squared_error: 0.5414 - wine_type_accuracy: 0.9965 - val_loss: 0.3375 - val_wine_quality_loss: 0.3101 - val_wine_type_loss: 0.0274 - val_wine_quality_root_mean_squared_error: 0.5569 - val_wine_type_accuracy: 0.9949\n",
            "Epoch 97/180\n",
            "99/99 [==============================] - 0s 5ms/step - loss: 0.3107 - wine_quality_loss: 0.2804 - wine_type_loss: 0.0303 - wine_quality_root_mean_squared_error: 0.5294 - wine_type_accuracy: 0.9935 - val_loss: 0.3369 - val_wine_quality_loss: 0.3096 - val_wine_type_loss: 0.0273 - val_wine_quality_root_mean_squared_error: 0.5564 - val_wine_type_accuracy: 0.9949\n",
            "Epoch 98/180\n",
            "99/99 [==============================] - 0s 5ms/step - loss: 0.2936 - wine_quality_loss: 0.2705 - wine_type_loss: 0.0231 - wine_quality_root_mean_squared_error: 0.5199 - wine_type_accuracy: 0.9962 - val_loss: 0.3346 - val_wine_quality_loss: 0.3072 - val_wine_type_loss: 0.0274 - val_wine_quality_root_mean_squared_error: 0.5542 - val_wine_type_accuracy: 0.9949\n",
            "Epoch 99/180\n",
            "99/99 [==============================] - 0s 5ms/step - loss: 0.3104 - wine_quality_loss: 0.2828 - wine_type_loss: 0.0277 - wine_quality_root_mean_squared_error: 0.5317 - wine_type_accuracy: 0.9935 - val_loss: 0.3404 - val_wine_quality_loss: 0.3130 - val_wine_type_loss: 0.0274 - val_wine_quality_root_mean_squared_error: 0.5595 - val_wine_type_accuracy: 0.9949\n",
            "Epoch 100/180\n",
            "99/99 [==============================] - 0s 5ms/step - loss: 0.3138 - wine_quality_loss: 0.2874 - wine_type_loss: 0.0264 - wine_quality_root_mean_squared_error: 0.5361 - wine_type_accuracy: 0.9941 - val_loss: 0.3398 - val_wine_quality_loss: 0.3125 - val_wine_type_loss: 0.0273 - val_wine_quality_root_mean_squared_error: 0.5590 - val_wine_type_accuracy: 0.9949\n",
            "Epoch 101/180\n",
            "99/99 [==============================] - 0s 5ms/step - loss: 0.3016 - wine_quality_loss: 0.2823 - wine_type_loss: 0.0193 - wine_quality_root_mean_squared_error: 0.5313 - wine_type_accuracy: 0.9951 - val_loss: 0.3348 - val_wine_quality_loss: 0.3077 - val_wine_type_loss: 0.0272 - val_wine_quality_root_mean_squared_error: 0.5547 - val_wine_type_accuracy: 0.9949\n",
            "Epoch 102/180\n",
            "99/99 [==============================] - 0s 5ms/step - loss: 0.3157 - wine_quality_loss: 0.2907 - wine_type_loss: 0.0250 - wine_quality_root_mean_squared_error: 0.5390 - wine_type_accuracy: 0.9944 - val_loss: 0.3554 - val_wine_quality_loss: 0.3283 - val_wine_type_loss: 0.0271 - val_wine_quality_root_mean_squared_error: 0.5730 - val_wine_type_accuracy: 0.9949\n",
            "Epoch 103/180\n",
            "99/99 [==============================] - 0s 5ms/step - loss: 0.3034 - wine_quality_loss: 0.2890 - wine_type_loss: 0.0143 - wine_quality_root_mean_squared_error: 0.5375 - wine_type_accuracy: 0.9975 - val_loss: 0.3341 - val_wine_quality_loss: 0.3071 - val_wine_type_loss: 0.0270 - val_wine_quality_root_mean_squared_error: 0.5542 - val_wine_type_accuracy: 0.9949\n",
            "Epoch 104/180\n",
            "99/99 [==============================] - 0s 5ms/step - loss: 0.3050 - wine_quality_loss: 0.2745 - wine_type_loss: 0.0305 - wine_quality_root_mean_squared_error: 0.5238 - wine_type_accuracy: 0.9947 - val_loss: 0.3347 - val_wine_quality_loss: 0.3076 - val_wine_type_loss: 0.0270 - val_wine_quality_root_mean_squared_error: 0.5547 - val_wine_type_accuracy: 0.9949\n",
            "Epoch 105/180\n",
            "99/99 [==============================] - 0s 5ms/step - loss: 0.2939 - wine_quality_loss: 0.2751 - wine_type_loss: 0.0188 - wine_quality_root_mean_squared_error: 0.5243 - wine_type_accuracy: 0.9963 - val_loss: 0.3339 - val_wine_quality_loss: 0.3069 - val_wine_type_loss: 0.0270 - val_wine_quality_root_mean_squared_error: 0.5540 - val_wine_type_accuracy: 0.9949\n",
            "Epoch 106/180\n",
            "99/99 [==============================] - 0s 5ms/step - loss: 0.2940 - wine_quality_loss: 0.2715 - wine_type_loss: 0.0225 - wine_quality_root_mean_squared_error: 0.5209 - wine_type_accuracy: 0.9951 - val_loss: 0.3354 - val_wine_quality_loss: 0.3084 - val_wine_type_loss: 0.0269 - val_wine_quality_root_mean_squared_error: 0.5554 - val_wine_type_accuracy: 0.9949\n",
            "Epoch 107/180\n",
            "99/99 [==============================] - 1s 6ms/step - loss: 0.3006 - wine_quality_loss: 0.2739 - wine_type_loss: 0.0267 - wine_quality_root_mean_squared_error: 0.5232 - wine_type_accuracy: 0.9951 - val_loss: 0.3384 - val_wine_quality_loss: 0.3115 - val_wine_type_loss: 0.0269 - val_wine_quality_root_mean_squared_error: 0.5581 - val_wine_type_accuracy: 0.9949\n",
            "Epoch 108/180\n",
            "99/99 [==============================] - 0s 5ms/step - loss: 0.2961 - wine_quality_loss: 0.2738 - wine_type_loss: 0.0223 - wine_quality_root_mean_squared_error: 0.5229 - wine_type_accuracy: 0.9951 - val_loss: 0.3468 - val_wine_quality_loss: 0.3200 - val_wine_type_loss: 0.0268 - val_wine_quality_root_mean_squared_error: 0.5657 - val_wine_type_accuracy: 0.9949\n",
            "Epoch 109/180\n",
            "99/99 [==============================] - 0s 5ms/step - loss: 0.2939 - wine_quality_loss: 0.2722 - wine_type_loss: 0.0218 - wine_quality_root_mean_squared_error: 0.5215 - wine_type_accuracy: 0.9942 - val_loss: 0.3340 - val_wine_quality_loss: 0.3073 - val_wine_type_loss: 0.0267 - val_wine_quality_root_mean_squared_error: 0.5544 - val_wine_type_accuracy: 0.9949\n",
            "Epoch 110/180\n",
            "99/99 [==============================] - 0s 5ms/step - loss: 0.2820 - wine_quality_loss: 0.2637 - wine_type_loss: 0.0183 - wine_quality_root_mean_squared_error: 0.5133 - wine_type_accuracy: 0.9964 - val_loss: 0.3406 - val_wine_quality_loss: 0.3140 - val_wine_type_loss: 0.0266 - val_wine_quality_root_mean_squared_error: 0.5603 - val_wine_type_accuracy: 0.9949\n",
            "Epoch 111/180\n",
            "99/99 [==============================] - 0s 5ms/step - loss: 0.2988 - wine_quality_loss: 0.2779 - wine_type_loss: 0.0209 - wine_quality_root_mean_squared_error: 0.5271 - wine_type_accuracy: 0.9964 - val_loss: 0.3391 - val_wine_quality_loss: 0.3124 - val_wine_type_loss: 0.0267 - val_wine_quality_root_mean_squared_error: 0.5589 - val_wine_type_accuracy: 0.9949\n",
            "Epoch 112/180\n",
            "99/99 [==============================] - 0s 5ms/step - loss: 0.2835 - wine_quality_loss: 0.2688 - wine_type_loss: 0.0147 - wine_quality_root_mean_squared_error: 0.5183 - wine_type_accuracy: 0.9963 - val_loss: 0.3319 - val_wine_quality_loss: 0.3053 - val_wine_type_loss: 0.0266 - val_wine_quality_root_mean_squared_error: 0.5525 - val_wine_type_accuracy: 0.9949\n",
            "Epoch 113/180\n",
            "99/99 [==============================] - 0s 5ms/step - loss: 0.3049 - wine_quality_loss: 0.2840 - wine_type_loss: 0.0209 - wine_quality_root_mean_squared_error: 0.5329 - wine_type_accuracy: 0.9940 - val_loss: 0.3397 - val_wine_quality_loss: 0.3130 - val_wine_type_loss: 0.0266 - val_wine_quality_root_mean_squared_error: 0.5595 - val_wine_type_accuracy: 0.9949\n",
            "Epoch 114/180\n",
            "99/99 [==============================] - 0s 5ms/step - loss: 0.3032 - wine_quality_loss: 0.2819 - wine_type_loss: 0.0213 - wine_quality_root_mean_squared_error: 0.5309 - wine_type_accuracy: 0.9952 - val_loss: 0.3369 - val_wine_quality_loss: 0.3104 - val_wine_type_loss: 0.0265 - val_wine_quality_root_mean_squared_error: 0.5571 - val_wine_type_accuracy: 0.9949\n",
            "Epoch 115/180\n",
            "99/99 [==============================] - 1s 5ms/step - loss: 0.3042 - wine_quality_loss: 0.2687 - wine_type_loss: 0.0355 - wine_quality_root_mean_squared_error: 0.5182 - wine_type_accuracy: 0.9945 - val_loss: 0.3329 - val_wine_quality_loss: 0.3063 - val_wine_type_loss: 0.0266 - val_wine_quality_root_mean_squared_error: 0.5534 - val_wine_type_accuracy: 0.9949\n",
            "Epoch 116/180\n",
            "99/99 [==============================] - 0s 5ms/step - loss: 0.3070 - wine_quality_loss: 0.2793 - wine_type_loss: 0.0277 - wine_quality_root_mean_squared_error: 0.5284 - wine_type_accuracy: 0.9943 - val_loss: 0.3332 - val_wine_quality_loss: 0.3067 - val_wine_type_loss: 0.0265 - val_wine_quality_root_mean_squared_error: 0.5538 - val_wine_type_accuracy: 0.9949\n",
            "Epoch 117/180\n",
            "99/99 [==============================] - 0s 5ms/step - loss: 0.2935 - wine_quality_loss: 0.2730 - wine_type_loss: 0.0205 - wine_quality_root_mean_squared_error: 0.5225 - wine_type_accuracy: 0.9969 - val_loss: 0.3300 - val_wine_quality_loss: 0.3036 - val_wine_type_loss: 0.0264 - val_wine_quality_root_mean_squared_error: 0.5510 - val_wine_type_accuracy: 0.9949\n",
            "Epoch 118/180\n",
            "99/99 [==============================] - 0s 5ms/step - loss: 0.3008 - wine_quality_loss: 0.2891 - wine_type_loss: 0.0117 - wine_quality_root_mean_squared_error: 0.5375 - wine_type_accuracy: 0.9981 - val_loss: 0.3313 - val_wine_quality_loss: 0.3048 - val_wine_type_loss: 0.0264 - val_wine_quality_root_mean_squared_error: 0.5521 - val_wine_type_accuracy: 0.9949\n",
            "Epoch 119/180\n",
            "99/99 [==============================] - 0s 5ms/step - loss: 0.3022 - wine_quality_loss: 0.2818 - wine_type_loss: 0.0204 - wine_quality_root_mean_squared_error: 0.5307 - wine_type_accuracy: 0.9962 - val_loss: 0.3322 - val_wine_quality_loss: 0.3058 - val_wine_type_loss: 0.0265 - val_wine_quality_root_mean_squared_error: 0.5530 - val_wine_type_accuracy: 0.9949\n",
            "Epoch 120/180\n",
            "99/99 [==============================] - 0s 5ms/step - loss: 0.3025 - wine_quality_loss: 0.2759 - wine_type_loss: 0.0266 - wine_quality_root_mean_squared_error: 0.5252 - wine_type_accuracy: 0.9956 - val_loss: 0.3353 - val_wine_quality_loss: 0.3087 - val_wine_type_loss: 0.0265 - val_wine_quality_root_mean_squared_error: 0.5556 - val_wine_type_accuracy: 0.9949\n",
            "Epoch 121/180\n",
            "99/99 [==============================] - 0s 5ms/step - loss: 0.3184 - wine_quality_loss: 0.2813 - wine_type_loss: 0.0371 - wine_quality_root_mean_squared_error: 0.5301 - wine_type_accuracy: 0.9937 - val_loss: 0.3329 - val_wine_quality_loss: 0.3063 - val_wine_type_loss: 0.0266 - val_wine_quality_root_mean_squared_error: 0.5535 - val_wine_type_accuracy: 0.9949\n",
            "Epoch 122/180\n",
            "99/99 [==============================] - 0s 5ms/step - loss: 0.2934 - wine_quality_loss: 0.2713 - wine_type_loss: 0.0221 - wine_quality_root_mean_squared_error: 0.5208 - wine_type_accuracy: 0.9958 - val_loss: 0.3308 - val_wine_quality_loss: 0.3043 - val_wine_type_loss: 0.0266 - val_wine_quality_root_mean_squared_error: 0.5516 - val_wine_type_accuracy: 0.9949\n",
            "Epoch 123/180\n",
            "99/99 [==============================] - 1s 5ms/step - loss: 0.2954 - wine_quality_loss: 0.2678 - wine_type_loss: 0.0276 - wine_quality_root_mean_squared_error: 0.5171 - wine_type_accuracy: 0.9945 - val_loss: 0.3458 - val_wine_quality_loss: 0.3194 - val_wine_type_loss: 0.0264 - val_wine_quality_root_mean_squared_error: 0.5651 - val_wine_type_accuracy: 0.9949\n",
            "Epoch 124/180\n",
            "99/99 [==============================] - 1s 6ms/step - loss: 0.2951 - wine_quality_loss: 0.2796 - wine_type_loss: 0.0154 - wine_quality_root_mean_squared_error: 0.5287 - wine_type_accuracy: 0.9977 - val_loss: 0.3318 - val_wine_quality_loss: 0.3054 - val_wine_type_loss: 0.0264 - val_wine_quality_root_mean_squared_error: 0.5527 - val_wine_type_accuracy: 0.9949\n",
            "Epoch 125/180\n",
            "99/99 [==============================] - 1s 5ms/step - loss: 0.2969 - wine_quality_loss: 0.2692 - wine_type_loss: 0.0277 - wine_quality_root_mean_squared_error: 0.5187 - wine_type_accuracy: 0.9951 - val_loss: 0.3324 - val_wine_quality_loss: 0.3061 - val_wine_type_loss: 0.0263 - val_wine_quality_root_mean_squared_error: 0.5532 - val_wine_type_accuracy: 0.9949\n",
            "Epoch 126/180\n",
            "99/99 [==============================] - 1s 6ms/step - loss: 0.2968 - wine_quality_loss: 0.2739 - wine_type_loss: 0.0229 - wine_quality_root_mean_squared_error: 0.5233 - wine_type_accuracy: 0.9949 - val_loss: 0.3364 - val_wine_quality_loss: 0.3102 - val_wine_type_loss: 0.0262 - val_wine_quality_root_mean_squared_error: 0.5569 - val_wine_type_accuracy: 0.9949\n",
            "Epoch 127/180\n",
            "99/99 [==============================] - 1s 6ms/step - loss: 0.2849 - wine_quality_loss: 0.2661 - wine_type_loss: 0.0188 - wine_quality_root_mean_squared_error: 0.5158 - wine_type_accuracy: 0.9964 - val_loss: 0.3320 - val_wine_quality_loss: 0.3059 - val_wine_type_loss: 0.0261 - val_wine_quality_root_mean_squared_error: 0.5531 - val_wine_type_accuracy: 0.9949\n",
            "Epoch 128/180\n",
            "99/99 [==============================] - 1s 6ms/step - loss: 0.2862 - wine_quality_loss: 0.2671 - wine_type_loss: 0.0191 - wine_quality_root_mean_squared_error: 0.5167 - wine_type_accuracy: 0.9971 - val_loss: 0.3335 - val_wine_quality_loss: 0.3074 - val_wine_type_loss: 0.0261 - val_wine_quality_root_mean_squared_error: 0.5544 - val_wine_type_accuracy: 0.9949\n",
            "Epoch 129/180\n",
            "99/99 [==============================] - 0s 5ms/step - loss: 0.2956 - wine_quality_loss: 0.2761 - wine_type_loss: 0.0195 - wine_quality_root_mean_squared_error: 0.5254 - wine_type_accuracy: 0.9969 - val_loss: 0.3392 - val_wine_quality_loss: 0.3130 - val_wine_type_loss: 0.0262 - val_wine_quality_root_mean_squared_error: 0.5595 - val_wine_type_accuracy: 0.9949\n",
            "Epoch 130/180\n",
            "99/99 [==============================] - 1s 6ms/step - loss: 0.2981 - wine_quality_loss: 0.2776 - wine_type_loss: 0.0204 - wine_quality_root_mean_squared_error: 0.5267 - wine_type_accuracy: 0.9961 - val_loss: 0.3368 - val_wine_quality_loss: 0.3106 - val_wine_type_loss: 0.0262 - val_wine_quality_root_mean_squared_error: 0.5573 - val_wine_type_accuracy: 0.9949\n",
            "Epoch 131/180\n",
            "99/99 [==============================] - 1s 6ms/step - loss: 0.2882 - wine_quality_loss: 0.2743 - wine_type_loss: 0.0139 - wine_quality_root_mean_squared_error: 0.5237 - wine_type_accuracy: 0.9977 - val_loss: 0.3441 - val_wine_quality_loss: 0.3180 - val_wine_type_loss: 0.0261 - val_wine_quality_root_mean_squared_error: 0.5640 - val_wine_type_accuracy: 0.9949\n",
            "Epoch 132/180\n",
            "99/99 [==============================] - 1s 5ms/step - loss: 0.2966 - wine_quality_loss: 0.2747 - wine_type_loss: 0.0218 - wine_quality_root_mean_squared_error: 0.5241 - wine_type_accuracy: 0.9951 - val_loss: 0.3324 - val_wine_quality_loss: 0.3064 - val_wine_type_loss: 0.0260 - val_wine_quality_root_mean_squared_error: 0.5535 - val_wine_type_accuracy: 0.9949\n",
            "Epoch 133/180\n",
            "99/99 [==============================] - 1s 5ms/step - loss: 0.2822 - wine_quality_loss: 0.2677 - wine_type_loss: 0.0144 - wine_quality_root_mean_squared_error: 0.5174 - wine_type_accuracy: 0.9971 - val_loss: 0.3336 - val_wine_quality_loss: 0.3077 - val_wine_type_loss: 0.0259 - val_wine_quality_root_mean_squared_error: 0.5547 - val_wine_type_accuracy: 0.9949\n",
            "Epoch 134/180\n",
            "99/99 [==============================] - 1s 5ms/step - loss: 0.2873 - wine_quality_loss: 0.2695 - wine_type_loss: 0.0179 - wine_quality_root_mean_squared_error: 0.5191 - wine_type_accuracy: 0.9970 - val_loss: 0.3349 - val_wine_quality_loss: 0.3089 - val_wine_type_loss: 0.0260 - val_wine_quality_root_mean_squared_error: 0.5558 - val_wine_type_accuracy: 0.9949\n",
            "Epoch 135/180\n",
            "99/99 [==============================] - 0s 5ms/step - loss: 0.2787 - wine_quality_loss: 0.2618 - wine_type_loss: 0.0169 - wine_quality_root_mean_squared_error: 0.5116 - wine_type_accuracy: 0.9977 - val_loss: 0.3382 - val_wine_quality_loss: 0.3123 - val_wine_type_loss: 0.0259 - val_wine_quality_root_mean_squared_error: 0.5588 - val_wine_type_accuracy: 0.9949\n",
            "Epoch 136/180\n",
            "99/99 [==============================] - 0s 5ms/step - loss: 0.3045 - wine_quality_loss: 0.2801 - wine_type_loss: 0.0244 - wine_quality_root_mean_squared_error: 0.5291 - wine_type_accuracy: 0.9953 - val_loss: 0.3334 - val_wine_quality_loss: 0.3076 - val_wine_type_loss: 0.0258 - val_wine_quality_root_mean_squared_error: 0.5546 - val_wine_type_accuracy: 0.9949\n",
            "Epoch 137/180\n",
            "99/99 [==============================] - 1s 6ms/step - loss: 0.2801 - wine_quality_loss: 0.2626 - wine_type_loss: 0.0175 - wine_quality_root_mean_squared_error: 0.5121 - wine_type_accuracy: 0.9974 - val_loss: 0.3325 - val_wine_quality_loss: 0.3067 - val_wine_type_loss: 0.0258 - val_wine_quality_root_mean_squared_error: 0.5538 - val_wine_type_accuracy: 0.9949\n",
            "Epoch 138/180\n",
            "99/99 [==============================] - 1s 5ms/step - loss: 0.2887 - wine_quality_loss: 0.2685 - wine_type_loss: 0.0202 - wine_quality_root_mean_squared_error: 0.5180 - wine_type_accuracy: 0.9962 - val_loss: 0.3301 - val_wine_quality_loss: 0.3044 - val_wine_type_loss: 0.0257 - val_wine_quality_root_mean_squared_error: 0.5517 - val_wine_type_accuracy: 0.9949\n",
            "Epoch 139/180\n",
            "99/99 [==============================] - 1s 6ms/step - loss: 0.2912 - wine_quality_loss: 0.2698 - wine_type_loss: 0.0214 - wine_quality_root_mean_squared_error: 0.5193 - wine_type_accuracy: 0.9963 - val_loss: 0.3317 - val_wine_quality_loss: 0.3061 - val_wine_type_loss: 0.0257 - val_wine_quality_root_mean_squared_error: 0.5532 - val_wine_type_accuracy: 0.9949\n",
            "Epoch 140/180\n",
            "99/99 [==============================] - 1s 6ms/step - loss: 0.2815 - wine_quality_loss: 0.2672 - wine_type_loss: 0.0143 - wine_quality_root_mean_squared_error: 0.5165 - wine_type_accuracy: 0.9973 - val_loss: 0.3336 - val_wine_quality_loss: 0.3079 - val_wine_type_loss: 0.0257 - val_wine_quality_root_mean_squared_error: 0.5549 - val_wine_type_accuracy: 0.9949\n",
            "Epoch 141/180\n",
            "99/99 [==============================] - 1s 6ms/step - loss: 0.2919 - wine_quality_loss: 0.2715 - wine_type_loss: 0.0204 - wine_quality_root_mean_squared_error: 0.5210 - wine_type_accuracy: 0.9963 - val_loss: 0.3310 - val_wine_quality_loss: 0.3053 - val_wine_type_loss: 0.0257 - val_wine_quality_root_mean_squared_error: 0.5526 - val_wine_type_accuracy: 0.9949\n",
            "Epoch 142/180\n",
            "99/99 [==============================] - 1s 5ms/step - loss: 0.2983 - wine_quality_loss: 0.2721 - wine_type_loss: 0.0262 - wine_quality_root_mean_squared_error: 0.5215 - wine_type_accuracy: 0.9954 - val_loss: 0.3365 - val_wine_quality_loss: 0.3109 - val_wine_type_loss: 0.0256 - val_wine_quality_root_mean_squared_error: 0.5576 - val_wine_type_accuracy: 0.9949\n",
            "Epoch 143/180\n",
            "99/99 [==============================] - 1s 5ms/step - loss: 0.2916 - wine_quality_loss: 0.2731 - wine_type_loss: 0.0185 - wine_quality_root_mean_squared_error: 0.5225 - wine_type_accuracy: 0.9971 - val_loss: 0.3427 - val_wine_quality_loss: 0.3171 - val_wine_type_loss: 0.0256 - val_wine_quality_root_mean_squared_error: 0.5631 - val_wine_type_accuracy: 0.9949\n",
            "Epoch 144/180\n",
            "99/99 [==============================] - 0s 5ms/step - loss: 0.2970 - wine_quality_loss: 0.2768 - wine_type_loss: 0.0203 - wine_quality_root_mean_squared_error: 0.5260 - wine_type_accuracy: 0.9965 - val_loss: 0.3312 - val_wine_quality_loss: 0.3055 - val_wine_type_loss: 0.0256 - val_wine_quality_root_mean_squared_error: 0.5527 - val_wine_type_accuracy: 0.9949\n",
            "Epoch 145/180\n",
            "99/99 [==============================] - 0s 5ms/step - loss: 0.2772 - wine_quality_loss: 0.2649 - wine_type_loss: 0.0123 - wine_quality_root_mean_squared_error: 0.5146 - wine_type_accuracy: 0.9975 - val_loss: 0.3357 - val_wine_quality_loss: 0.3101 - val_wine_type_loss: 0.0256 - val_wine_quality_root_mean_squared_error: 0.5569 - val_wine_type_accuracy: 0.9949\n",
            "Epoch 146/180\n",
            "99/99 [==============================] - 0s 5ms/step - loss: 0.2919 - wine_quality_loss: 0.2744 - wine_type_loss: 0.0174 - wine_quality_root_mean_squared_error: 0.5237 - wine_type_accuracy: 0.9970 - val_loss: 0.3370 - val_wine_quality_loss: 0.3115 - val_wine_type_loss: 0.0255 - val_wine_quality_root_mean_squared_error: 0.5581 - val_wine_type_accuracy: 0.9949\n",
            "Epoch 147/180\n",
            "99/99 [==============================] - 1s 5ms/step - loss: 0.2867 - wine_quality_loss: 0.2706 - wine_type_loss: 0.0161 - wine_quality_root_mean_squared_error: 0.5201 - wine_type_accuracy: 0.9976 - val_loss: 0.3359 - val_wine_quality_loss: 0.3104 - val_wine_type_loss: 0.0255 - val_wine_quality_root_mean_squared_error: 0.5572 - val_wine_type_accuracy: 0.9949\n",
            "Epoch 148/180\n",
            "99/99 [==============================] - 1s 6ms/step - loss: 0.2705 - wine_quality_loss: 0.2523 - wine_type_loss: 0.0182 - wine_quality_root_mean_squared_error: 0.5022 - wine_type_accuracy: 0.9957 - val_loss: 0.3337 - val_wine_quality_loss: 0.3083 - val_wine_type_loss: 0.0254 - val_wine_quality_root_mean_squared_error: 0.5553 - val_wine_type_accuracy: 0.9949\n",
            "Epoch 149/180\n",
            "99/99 [==============================] - 1s 5ms/step - loss: 0.2984 - wine_quality_loss: 0.2716 - wine_type_loss: 0.0268 - wine_quality_root_mean_squared_error: 0.5211 - wine_type_accuracy: 0.9950 - val_loss: 0.3319 - val_wine_quality_loss: 0.3065 - val_wine_type_loss: 0.0254 - val_wine_quality_root_mean_squared_error: 0.5536 - val_wine_type_accuracy: 0.9949\n",
            "Epoch 150/180\n",
            "99/99 [==============================] - 0s 5ms/step - loss: 0.2815 - wine_quality_loss: 0.2627 - wine_type_loss: 0.0188 - wine_quality_root_mean_squared_error: 0.5125 - wine_type_accuracy: 0.9964 - val_loss: 0.3291 - val_wine_quality_loss: 0.3037 - val_wine_type_loss: 0.0254 - val_wine_quality_root_mean_squared_error: 0.5511 - val_wine_type_accuracy: 0.9949\n",
            "Epoch 151/180\n",
            "99/99 [==============================] - 1s 6ms/step - loss: 0.2692 - wine_quality_loss: 0.2558 - wine_type_loss: 0.0133 - wine_quality_root_mean_squared_error: 0.5054 - wine_type_accuracy: 0.9979 - val_loss: 0.3336 - val_wine_quality_loss: 0.3082 - val_wine_type_loss: 0.0254 - val_wine_quality_root_mean_squared_error: 0.5551 - val_wine_type_accuracy: 0.9949\n",
            "Epoch 152/180\n",
            "99/99 [==============================] - 1s 5ms/step - loss: 0.2818 - wine_quality_loss: 0.2652 - wine_type_loss: 0.0166 - wine_quality_root_mean_squared_error: 0.5149 - wine_type_accuracy: 0.9972 - val_loss: 0.3309 - val_wine_quality_loss: 0.3056 - val_wine_type_loss: 0.0253 - val_wine_quality_root_mean_squared_error: 0.5528 - val_wine_type_accuracy: 0.9949\n",
            "Epoch 153/180\n",
            "99/99 [==============================] - 1s 5ms/step - loss: 0.2739 - wine_quality_loss: 0.2629 - wine_type_loss: 0.0110 - wine_quality_root_mean_squared_error: 0.5127 - wine_type_accuracy: 0.9977 - val_loss: 0.3330 - val_wine_quality_loss: 0.3077 - val_wine_type_loss: 0.0254 - val_wine_quality_root_mean_squared_error: 0.5547 - val_wine_type_accuracy: 0.9949\n",
            "Epoch 154/180\n",
            "99/99 [==============================] - 0s 5ms/step - loss: 0.2760 - wine_quality_loss: 0.2550 - wine_type_loss: 0.0211 - wine_quality_root_mean_squared_error: 0.5047 - wine_type_accuracy: 0.9967 - val_loss: 0.3377 - val_wine_quality_loss: 0.3123 - val_wine_type_loss: 0.0254 - val_wine_quality_root_mean_squared_error: 0.5588 - val_wine_type_accuracy: 0.9949\n",
            "Epoch 155/180\n",
            "99/99 [==============================] - 0s 5ms/step - loss: 0.2827 - wine_quality_loss: 0.2641 - wine_type_loss: 0.0186 - wine_quality_root_mean_squared_error: 0.5138 - wine_type_accuracy: 0.9960 - val_loss: 0.3317 - val_wine_quality_loss: 0.3064 - val_wine_type_loss: 0.0252 - val_wine_quality_root_mean_squared_error: 0.5536 - val_wine_type_accuracy: 0.9949\n",
            "Epoch 156/180\n",
            "99/99 [==============================] - 1s 5ms/step - loss: 0.2750 - wine_quality_loss: 0.2549 - wine_type_loss: 0.0201 - wine_quality_root_mean_squared_error: 0.5045 - wine_type_accuracy: 0.9957 - val_loss: 0.3369 - val_wine_quality_loss: 0.3117 - val_wine_type_loss: 0.0252 - val_wine_quality_root_mean_squared_error: 0.5583 - val_wine_type_accuracy: 0.9949\n",
            "Epoch 157/180\n",
            "99/99 [==============================] - 1s 6ms/step - loss: 0.2860 - wine_quality_loss: 0.2625 - wine_type_loss: 0.0236 - wine_quality_root_mean_squared_error: 0.5123 - wine_type_accuracy: 0.9959 - val_loss: 0.3362 - val_wine_quality_loss: 0.3111 - val_wine_type_loss: 0.0251 - val_wine_quality_root_mean_squared_error: 0.5577 - val_wine_type_accuracy: 0.9949\n",
            "Epoch 158/180\n",
            "99/99 [==============================] - 1s 6ms/step - loss: 0.2804 - wine_quality_loss: 0.2652 - wine_type_loss: 0.0152 - wine_quality_root_mean_squared_error: 0.5148 - wine_type_accuracy: 0.9974 - val_loss: 0.3331 - val_wine_quality_loss: 0.3078 - val_wine_type_loss: 0.0252 - val_wine_quality_root_mean_squared_error: 0.5548 - val_wine_type_accuracy: 0.9949\n",
            "Epoch 159/180\n",
            "99/99 [==============================] - 1s 5ms/step - loss: 0.2748 - wine_quality_loss: 0.2564 - wine_type_loss: 0.0184 - wine_quality_root_mean_squared_error: 0.5063 - wine_type_accuracy: 0.9965 - val_loss: 0.3416 - val_wine_quality_loss: 0.3164 - val_wine_type_loss: 0.0252 - val_wine_quality_root_mean_squared_error: 0.5625 - val_wine_type_accuracy: 0.9949\n",
            "Epoch 160/180\n",
            "99/99 [==============================] - 0s 5ms/step - loss: 0.2826 - wine_quality_loss: 0.2642 - wine_type_loss: 0.0184 - wine_quality_root_mean_squared_error: 0.5139 - wine_type_accuracy: 0.9967 - val_loss: 0.3313 - val_wine_quality_loss: 0.3061 - val_wine_type_loss: 0.0252 - val_wine_quality_root_mean_squared_error: 0.5533 - val_wine_type_accuracy: 0.9949\n",
            "Epoch 161/180\n",
            "99/99 [==============================] - 0s 5ms/step - loss: 0.2799 - wine_quality_loss: 0.2543 - wine_type_loss: 0.0256 - wine_quality_root_mean_squared_error: 0.5040 - wine_type_accuracy: 0.9955 - val_loss: 0.3347 - val_wine_quality_loss: 0.3096 - val_wine_type_loss: 0.0251 - val_wine_quality_root_mean_squared_error: 0.5564 - val_wine_type_accuracy: 0.9949\n",
            "Epoch 162/180\n",
            "99/99 [==============================] - 0s 5ms/step - loss: 0.2743 - wine_quality_loss: 0.2556 - wine_type_loss: 0.0187 - wine_quality_root_mean_squared_error: 0.5055 - wine_type_accuracy: 0.9965 - val_loss: 0.3316 - val_wine_quality_loss: 0.3064 - val_wine_type_loss: 0.0251 - val_wine_quality_root_mean_squared_error: 0.5536 - val_wine_type_accuracy: 0.9949\n",
            "Epoch 163/180\n",
            "99/99 [==============================] - 1s 6ms/step - loss: 0.2837 - wine_quality_loss: 0.2668 - wine_type_loss: 0.0168 - wine_quality_root_mean_squared_error: 0.5165 - wine_type_accuracy: 0.9968 - val_loss: 0.3455 - val_wine_quality_loss: 0.3203 - val_wine_type_loss: 0.0251 - val_wine_quality_root_mean_squared_error: 0.5660 - val_wine_type_accuracy: 0.9949\n",
            "Epoch 164/180\n",
            "99/99 [==============================] - 0s 5ms/step - loss: 0.2918 - wine_quality_loss: 0.2685 - wine_type_loss: 0.0233 - wine_quality_root_mean_squared_error: 0.5180 - wine_type_accuracy: 0.9958 - val_loss: 0.3358 - val_wine_quality_loss: 0.3107 - val_wine_type_loss: 0.0251 - val_wine_quality_root_mean_squared_error: 0.5574 - val_wine_type_accuracy: 0.9949\n",
            "Epoch 165/180\n",
            "99/99 [==============================] - 0s 5ms/step - loss: 0.2908 - wine_quality_loss: 0.2722 - wine_type_loss: 0.0185 - wine_quality_root_mean_squared_error: 0.5217 - wine_type_accuracy: 0.9959 - val_loss: 0.3355 - val_wine_quality_loss: 0.3103 - val_wine_type_loss: 0.0251 - val_wine_quality_root_mean_squared_error: 0.5571 - val_wine_type_accuracy: 0.9949\n",
            "Epoch 166/180\n",
            "99/99 [==============================] - 0s 5ms/step - loss: 0.2663 - wine_quality_loss: 0.2523 - wine_type_loss: 0.0140 - wine_quality_root_mean_squared_error: 0.5019 - wine_type_accuracy: 0.9966 - val_loss: 0.3327 - val_wine_quality_loss: 0.3076 - val_wine_type_loss: 0.0251 - val_wine_quality_root_mean_squared_error: 0.5546 - val_wine_type_accuracy: 0.9949\n",
            "Epoch 167/180\n",
            "99/99 [==============================] - 0s 5ms/step - loss: 0.2721 - wine_quality_loss: 0.2610 - wine_type_loss: 0.0111 - wine_quality_root_mean_squared_error: 0.5107 - wine_type_accuracy: 0.9981 - val_loss: 0.3390 - val_wine_quality_loss: 0.3140 - val_wine_type_loss: 0.0250 - val_wine_quality_root_mean_squared_error: 0.5603 - val_wine_type_accuracy: 0.9949\n",
            "Epoch 168/180\n",
            "99/99 [==============================] - 0s 5ms/step - loss: 0.2787 - wine_quality_loss: 0.2647 - wine_type_loss: 0.0140 - wine_quality_root_mean_squared_error: 0.5144 - wine_type_accuracy: 0.9978 - val_loss: 0.3287 - val_wine_quality_loss: 0.3038 - val_wine_type_loss: 0.0249 - val_wine_quality_root_mean_squared_error: 0.5512 - val_wine_type_accuracy: 0.9949\n",
            "Epoch 169/180\n",
            "99/99 [==============================] - 0s 5ms/step - loss: 0.2821 - wine_quality_loss: 0.2682 - wine_type_loss: 0.0140 - wine_quality_root_mean_squared_error: 0.5178 - wine_type_accuracy: 0.9976 - val_loss: 0.3348 - val_wine_quality_loss: 0.3098 - val_wine_type_loss: 0.0249 - val_wine_quality_root_mean_squared_error: 0.5566 - val_wine_type_accuracy: 0.9949\n",
            "Epoch 170/180\n",
            "99/99 [==============================] - 0s 5ms/step - loss: 0.2775 - wine_quality_loss: 0.2662 - wine_type_loss: 0.0112 - wine_quality_root_mean_squared_error: 0.5157 - wine_type_accuracy: 0.9983 - val_loss: 0.3377 - val_wine_quality_loss: 0.3126 - val_wine_type_loss: 0.0250 - val_wine_quality_root_mean_squared_error: 0.5592 - val_wine_type_accuracy: 0.9949\n",
            "Epoch 171/180\n",
            "99/99 [==============================] - 0s 5ms/step - loss: 0.2792 - wine_quality_loss: 0.2615 - wine_type_loss: 0.0177 - wine_quality_root_mean_squared_error: 0.5112 - wine_type_accuracy: 0.9966 - val_loss: 0.3416 - val_wine_quality_loss: 0.3166 - val_wine_type_loss: 0.0250 - val_wine_quality_root_mean_squared_error: 0.5626 - val_wine_type_accuracy: 0.9949\n",
            "Epoch 172/180\n",
            "99/99 [==============================] - 0s 5ms/step - loss: 0.2770 - wine_quality_loss: 0.2625 - wine_type_loss: 0.0145 - wine_quality_root_mean_squared_error: 0.5122 - wine_type_accuracy: 0.9967 - val_loss: 0.3476 - val_wine_quality_loss: 0.3226 - val_wine_type_loss: 0.0250 - val_wine_quality_root_mean_squared_error: 0.5680 - val_wine_type_accuracy: 0.9949\n",
            "Epoch 173/180\n",
            "99/99 [==============================] - 0s 5ms/step - loss: 0.2756 - wine_quality_loss: 0.2564 - wine_type_loss: 0.0191 - wine_quality_root_mean_squared_error: 0.5062 - wine_type_accuracy: 0.9962 - val_loss: 0.3323 - val_wine_quality_loss: 0.3073 - val_wine_type_loss: 0.0249 - val_wine_quality_root_mean_squared_error: 0.5544 - val_wine_type_accuracy: 0.9949\n",
            "Epoch 174/180\n",
            "99/99 [==============================] - 0s 5ms/step - loss: 0.2691 - wine_quality_loss: 0.2586 - wine_type_loss: 0.0106 - wine_quality_root_mean_squared_error: 0.5084 - wine_type_accuracy: 0.9982 - val_loss: 0.3392 - val_wine_quality_loss: 0.3142 - val_wine_type_loss: 0.0250 - val_wine_quality_root_mean_squared_error: 0.5606 - val_wine_type_accuracy: 0.9949\n",
            "Epoch 175/180\n",
            "99/99 [==============================] - 0s 5ms/step - loss: 0.2756 - wine_quality_loss: 0.2612 - wine_type_loss: 0.0144 - wine_quality_root_mean_squared_error: 0.5108 - wine_type_accuracy: 0.9975 - val_loss: 0.3352 - val_wine_quality_loss: 0.3103 - val_wine_type_loss: 0.0249 - val_wine_quality_root_mean_squared_error: 0.5571 - val_wine_type_accuracy: 0.9949\n",
            "Epoch 176/180\n",
            "99/99 [==============================] - 0s 5ms/step - loss: 0.2795 - wine_quality_loss: 0.2581 - wine_type_loss: 0.0214 - wine_quality_root_mean_squared_error: 0.5079 - wine_type_accuracy: 0.9963 - val_loss: 0.3293 - val_wine_quality_loss: 0.3044 - val_wine_type_loss: 0.0249 - val_wine_quality_root_mean_squared_error: 0.5518 - val_wine_type_accuracy: 0.9949\n",
            "Epoch 177/180\n",
            "99/99 [==============================] - 1s 6ms/step - loss: 0.2719 - wine_quality_loss: 0.2474 - wine_type_loss: 0.0245 - wine_quality_root_mean_squared_error: 0.4970 - wine_type_accuracy: 0.9951 - val_loss: 0.3381 - val_wine_quality_loss: 0.3132 - val_wine_type_loss: 0.0249 - val_wine_quality_root_mean_squared_error: 0.5596 - val_wine_type_accuracy: 0.9949\n",
            "Epoch 178/180\n",
            "99/99 [==============================] - 0s 5ms/step - loss: 0.2769 - wine_quality_loss: 0.2513 - wine_type_loss: 0.0256 - wine_quality_root_mean_squared_error: 0.5012 - wine_type_accuracy: 0.9948 - val_loss: 0.3443 - val_wine_quality_loss: 0.3194 - val_wine_type_loss: 0.0249 - val_wine_quality_root_mean_squared_error: 0.5651 - val_wine_type_accuracy: 0.9949\n",
            "Epoch 179/180\n",
            "99/99 [==============================] - 0s 5ms/step - loss: 0.2812 - wine_quality_loss: 0.2590 - wine_type_loss: 0.0223 - wine_quality_root_mean_squared_error: 0.5088 - wine_type_accuracy: 0.9944 - val_loss: 0.3332 - val_wine_quality_loss: 0.3083 - val_wine_type_loss: 0.0249 - val_wine_quality_root_mean_squared_error: 0.5553 - val_wine_type_accuracy: 0.9949\n",
            "Epoch 180/180\n",
            "99/99 [==============================] - 1s 6ms/step - loss: 0.2699 - wine_quality_loss: 0.2557 - wine_type_loss: 0.0142 - wine_quality_root_mean_squared_error: 0.5056 - wine_type_accuracy: 0.9975 - val_loss: 0.3337 - val_wine_quality_loss: 0.3088 - val_wine_type_loss: 0.0249 - val_wine_quality_root_mean_squared_error: 0.5557 - val_wine_type_accuracy: 0.9949\n"
          ],
          "name": "stdout"
        }
      ]
    },
    {
      "cell_type": "code",
      "metadata": {
        "deletable": false,
        "editable": false,
        "nbgrader": {
          "cell_type": "code",
          "checksum": "fadad8896eda9c8c2115970724b15508",
          "grade": true,
          "grade_id": "cell-eb4d5b41bef8f0ab",
          "locked": true,
          "points": 1,
          "schema_version": 3,
          "solution": false,
          "task": false
        },
        "id": "kDj0bzZfJPdy"
      },
      "source": [
        "utils.test_history(history)"
      ],
      "execution_count": null,
      "outputs": []
    },
    {
      "cell_type": "code",
      "metadata": {
        "colab": {
          "base_uri": "https://localhost:8080/"
        },
        "id": "CubF2J2gSf6q",
        "outputId": "99696bd2-3024-4478-8d8d-56478ae68eee"
      },
      "source": [
        "# Gather the training metrics\n",
        "loss, wine_quality_loss, wine_type_loss, wine_quality_rmse, wine_type_accuracy = model.evaluate(x=norm_val_X, y=val_Y)\n",
        "\n",
        "print()\n",
        "print(f'loss: {loss}')\n",
        "print(f'wine_quality_loss: {wine_quality_loss}')\n",
        "print(f'wine_type_loss: {wine_type_loss}')\n",
        "print(f'wine_quality_rmse: {wine_quality_rmse}')\n",
        "print(f'wine_type_accuracy: {wine_type_accuracy}')\n",
        "\n",
        "# EXPECTED VALUES\n",
        "# ~ 0.30 - 0.38\n",
        "# ~ 0.30 - 0.38\n",
        "# ~ 0.018 - 0.030\n",
        "# ~ 0.50 - 0.62\n",
        "# ~ 0.97 - 1.0\n",
        "\n",
        "# Example:\n",
        "#0.3657050132751465\n",
        "#0.3463745415210724\n",
        "#0.019330406561493874\n",
        "#0.5885359048843384\n",
        "#0.9974651336669922"
      ],
      "execution_count": 36,
      "outputs": [
        {
          "output_type": "stream",
          "text": [
            "25/25 [==============================] - 0s 3ms/step - loss: 0.3337 - wine_quality_loss: 0.3088 - wine_type_loss: 0.0249 - wine_quality_root_mean_squared_error: 0.5557 - wine_type_accuracy: 0.9949\n",
            "\n",
            "loss: 0.3337306082248688\n",
            "wine_quality_loss: 0.30880650877952576\n",
            "wine_type_loss: 0.02492409385740757\n",
            "wine_quality_rmse: 0.5557036399841309\n",
            "wine_type_accuracy: 0.9949302673339844\n"
          ],
          "name": "stdout"
        }
      ]
    },
    {
      "cell_type": "markdown",
      "metadata": {
        "id": "gPtTGAP4usnm"
      },
      "source": [
        "## Analyze the Model Performance\n",
        "\n",
        "Note that the model has two outputs. The output at index 0 is quality and index 1 is wine type\n",
        "\n",
        "So, round the quality predictions to the nearest integer."
      ]
    },
    {
      "cell_type": "code",
      "metadata": {
        "id": "tBq9PEeAaW-Y"
      },
      "source": [
        "predictions = model.predict(norm_test_X)\n",
        "quality_pred = predictions[0]\n",
        "type_pred = predictions[1]"
      ],
      "execution_count": 56,
      "outputs": []
    },
    {
      "cell_type": "code",
      "metadata": {
        "colab": {
          "base_uri": "https://localhost:8080/"
        },
        "id": "YLhgTR4xTIxj",
        "outputId": "b66f2cbe-8984-4382-9abb-c6c565393604"
      },
      "source": [
        "print(quality_pred[0])\n",
        "\n",
        "# EXPECTED OUTPUT\n",
        "# 5.6 - 6.0"
      ],
      "execution_count": 57,
      "outputs": [
        {
          "output_type": "stream",
          "text": [
            "[2.0736597]\n"
          ],
          "name": "stdout"
        }
      ]
    },
    {
      "cell_type": "code",
      "metadata": {
        "colab": {
          "base_uri": "https://localhost:8080/"
        },
        "id": "MPi-eYfGTUXi",
        "outputId": "bdf9b94d-98e5-4b43-b918-82e5300ab1de"
      },
      "source": [
        "print(type_pred[0])\n",
        "print(type_pred[944])\n",
        "\n",
        "# EXPECTED OUTPUT\n",
        "# A number close to zero\n",
        "# A number close to or equal to 1"
      ],
      "execution_count": 58,
      "outputs": [
        {
          "output_type": "stream",
          "text": [
            "[2.4515082e-12]\n",
            "[1.]\n"
          ],
          "name": "stdout"
        }
      ]
    },
    {
      "cell_type": "markdown",
      "metadata": {
        "id": "Kohk-9C6vt_s"
      },
      "source": [
        "### Plot Utilities\n",
        "\n",
        "We define a few utilities to visualize the model performance."
      ]
    },
    {
      "cell_type": "code",
      "metadata": {
        "id": "62gEOFUhn6aQ"
      },
      "source": [
        "def plot_metrics(metric_name, title, ylim=5):\n",
        "    plt.title(title)\n",
        "    plt.ylim(0,ylim)\n",
        "    plt.plot(history.history[metric_name],color='blue',label=metric_name)\n",
        "    plt.plot(history.history['val_' + metric_name],color='green',label='val_' + metric_name)\n"
      ],
      "execution_count": 59,
      "outputs": []
    },
    {
      "cell_type": "code",
      "metadata": {
        "id": "6rfgSx7uz5dj"
      },
      "source": [
        "def plot_confusion_matrix(y_true, y_pred, title='', labels=[0,1]):\n",
        "    cm = confusion_matrix(y_true, y_pred)\n",
        "    fig = plt.figure()\n",
        "    ax = fig.add_subplot(111)\n",
        "    cax = ax.matshow(cm)\n",
        "    plt.title('Confusion matrix of the classifier')\n",
        "    fig.colorbar(cax)\n",
        "    ax.set_xticklabels([''] + labels)\n",
        "    ax.set_yticklabels([''] + labels)\n",
        "    plt.xlabel('Predicted')\n",
        "    plt.ylabel('True')\n",
        "    fmt = 'd'\n",
        "    thresh = cm.max() / 2.\n",
        "    for i, j in itertools.product(range(cm.shape[0]), range(cm.shape[1])):\n",
        "          plt.text(j, i, format(cm[i, j], fmt),\n",
        "                  horizontalalignment=\"center\",\n",
        "                  color=\"black\" if cm[i, j] > thresh else \"white\")\n",
        "    plt.show()"
      ],
      "execution_count": 60,
      "outputs": []
    },
    {
      "cell_type": "code",
      "metadata": {
        "id": "dfVLIqi017Vf"
      },
      "source": [
        "def plot_diff(y_true, y_pred, title = '' ):\n",
        "    plt.scatter(y_true, y_pred)\n",
        "    plt.title(title)\n",
        "    plt.xlabel('True Values')\n",
        "    plt.ylabel('Predictions')\n",
        "    plt.axis('equal')\n",
        "    plt.axis('square')\n",
        "    plt.plot([-100, 100], [-100, 100])\n",
        "    return plt"
      ],
      "execution_count": 61,
      "outputs": []
    },
    {
      "cell_type": "markdown",
      "metadata": {
        "id": "8sd1jdFbwE0I"
      },
      "source": [
        "### Plots for Metrics"
      ]
    },
    {
      "cell_type": "code",
      "metadata": {
        "id": "f3MwZ5J1pOfj"
      },
      "source": [
        "plot_metrics('wine_quality_root_mean_squared_error', 'RMSE', ylim=2)"
      ],
      "execution_count": null,
      "outputs": []
    },
    {
      "cell_type": "code",
      "metadata": {
        "id": "QIAxEezCppnd"
      },
      "source": [
        "plot_metrics('wine_type_loss', 'Wine Type Loss', ylim=0.2)"
      ],
      "execution_count": null,
      "outputs": []
    },
    {
      "cell_type": "markdown",
      "metadata": {
        "id": "uYV9AOAMwI9p"
      },
      "source": [
        "### Plots for Confusion Matrix\n",
        "\n",
        "Plot the confusion matrices for wine type. You can see that the model performs well for prediction of wine type from the confusion matrix and the loss metrics."
      ]
    },
    {
      "cell_type": "code",
      "metadata": {
        "id": "C3hvTYxIaf3n"
      },
      "source": [
        "plot_confusion_matrix(test_Y[1], np.round(type_pred), title='Wine Type', labels = [0, 1])"
      ],
      "execution_count": null,
      "outputs": []
    },
    {
      "cell_type": "code",
      "metadata": {
        "id": "GW91ym8P2I5y"
      },
      "source": [
        "scatter_plot = plot_diff(test_Y[0], quality_pred, title='Type')"
      ],
      "execution_count": null,
      "outputs": []
    }
  ]
}