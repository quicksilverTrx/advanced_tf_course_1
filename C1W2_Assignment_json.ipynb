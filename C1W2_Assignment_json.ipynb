{
  "nbformat": 4,
  "nbformat_minor": 0,
  "metadata": {
    "colab": {
      "name": "C1W2_Assignment.json",
      "provenance": [],
      "include_colab_link": true
    },
    "kernelspec": {
      "display_name": "Python 3",
      "language": "python",
      "name": "python3"
    },
    "language_info": {
      "codemirror_mode": {
        "name": "ipython",
        "version": 3
      },
      "file_extension": ".py",
      "mimetype": "text/x-python",
      "name": "python",
      "nbconvert_exporter": "python",
      "pygments_lexer": "ipython3",
      "version": "3.7.6"
    }
  },
  "cells": [
    {
      "cell_type": "markdown",
      "metadata": {
        "id": "view-in-github",
        "colab_type": "text"
      },
      "source": [
        "<a href=\"https://colab.research.google.com/github/quicksilverTrx/advanced_tf_course_1/blob/main/C1W2_Assignment_json.ipynb\" target=\"_parent\"><img src=\"https://colab.research.google.com/assets/colab-badge.svg\" alt=\"Open In Colab\"/></a>"
      ]
    },
    {
      "cell_type": "markdown",
      "metadata": {
        "id": "TAIbrpSdjh6g"
      },
      "source": [
        "# W2 Assignment: Creating a Custom Loss Function"
      ]
    },
    {
      "cell_type": "markdown",
      "metadata": {
        "id": "rxI1HNvvjh6j"
      },
      "source": [
        "This short exercise will require you to write a simple linear regression neural network that is trained on two arrays: $xs$ (inputs) and $ys$ (labels), where the relationship between each corresponding element is $y=2x-1$.\n",
        "\n",
        "\n",
        "$xs = [-1.0,  0.0, 1.0, 2.0, 3.0, 4.0]$\n",
        "\n",
        "$ys = [-3.0, -1.0, 1.0, 3.0, 5.0, 7.0]$\n",
        "\n",
        "\n",
        "You will need to implement a custom loss function that returns the root mean square error (RMSE) of $y_{true} - y_{pred}$. Let's begin!"
      ]
    },
    {
      "cell_type": "code",
      "metadata": {
        "colab": {
          "base_uri": "https://localhost:8080/",
          "height": 35
        },
        "id": "_ERWCMSNm-nC",
        "outputId": "0e9b1834-a646-4bdf-c0af-bc66de1f7ff2"
      },
      "source": [
        "tf.__version__"
      ],
      "execution_count": 2,
      "outputs": [
        {
          "output_type": "execute_result",
          "data": {
            "application/vnd.google.colaboratory.intrinsic+json": {
              "type": "string"
            },
            "text/plain": [
              "'2.4.1'"
            ]
          },
          "metadata": {
            "tags": []
          },
          "execution_count": 2
        }
      ]
    },
    {
      "cell_type": "code",
      "metadata": {
        "colab": {
          "base_uri": "https://localhost:8080/",
          "height": 330
        },
        "id": "0pajvrhrInPa",
        "outputId": "082f40dd-4a3f-4eef-c13f-c5ee29c9bfa8"
      },
      "source": [
        "import tensorflow as tf\n",
        "import numpy as np\n",
        "from tensorflow import keras\n",
        "from tensorflow.keras import backend as K\n",
        "\n",
        "import utils"
      ],
      "execution_count": 1,
      "outputs": [
        {
          "output_type": "error",
          "ename": "ModuleNotFoundError",
          "evalue": "ignored",
          "traceback": [
            "\u001b[0;31m---------------------------------------------------------------------------\u001b[0m",
            "\u001b[0;31mModuleNotFoundError\u001b[0m                       Traceback (most recent call last)",
            "\u001b[0;32m<ipython-input-1-6701a7ed29b2>\u001b[0m in \u001b[0;36m<module>\u001b[0;34m()\u001b[0m\n\u001b[1;32m      4\u001b[0m \u001b[0;32mfrom\u001b[0m \u001b[0mtensorflow\u001b[0m\u001b[0;34m.\u001b[0m\u001b[0mkeras\u001b[0m \u001b[0;32mimport\u001b[0m \u001b[0mbackend\u001b[0m \u001b[0;32mas\u001b[0m \u001b[0mK\u001b[0m\u001b[0;34m\u001b[0m\u001b[0;34m\u001b[0m\u001b[0m\n\u001b[1;32m      5\u001b[0m \u001b[0;34m\u001b[0m\u001b[0m\n\u001b[0;32m----> 6\u001b[0;31m \u001b[0;32mimport\u001b[0m \u001b[0mutils\u001b[0m\u001b[0;34m\u001b[0m\u001b[0;34m\u001b[0m\u001b[0m\n\u001b[0m",
            "\u001b[0;31mModuleNotFoundError\u001b[0m: No module named 'utils'",
            "",
            "\u001b[0;31m---------------------------------------------------------------------------\u001b[0;32m\nNOTE: If your import is failing due to a missing package, you can\nmanually install dependencies using either !pip or !apt.\n\nTo view examples of installing some common dependencies, click the\n\"Open Examples\" button below.\n\u001b[0;31m---------------------------------------------------------------------------\u001b[0m\n"
          ]
        }
      ]
    },
    {
      "cell_type": "code",
      "metadata": {
        "id": "hX502b6-jh6l"
      },
      "source": [
        "# inputs\n",
        "xs = np.array([-1.0,  0.0, 1.0, 2.0, 3.0, 4.0], dtype=float)\n",
        "\n",
        "# labels. relationship with the inputs above is y=2x-1.\n",
        "ys = np.array([-3.0, -1.0, 1.0, 3.0, 5.0, 7.0], dtype=float)"
      ],
      "execution_count": 5,
      "outputs": []
    },
    {
      "cell_type": "markdown",
      "metadata": {
        "id": "MO0o5uycjh6l"
      },
      "source": [
        "### Define the custom loss function (TODO)\n",
        "Define the custom loss function below called `my_rmse()` that returns the RMSE between the target (`y_true`) and prediction (`y_pred`). \n",
        "\n",
        "You will return $\\sqrt{error}$, where $error$ = $mean((y_{true} - y_{pred})^2)$\n",
        "- error: the difference between the true label and predicted label.\n",
        "- sqr_error: the square of the error.\n",
        "- mean_sqr_error: the mean of the square of the error\n",
        "- sqrt_mean_sqr_error: the square root of hte mean of the square of the error (the root mean squared error).\n",
        "- Please use `K.mean`, `K.square`, and `K.sqrt`\n",
        "- The steps are broken down into separate lines of code for clarity.  Feel free to combine them, and just remember to return the root mean squared error."
      ]
    },
    {
      "cell_type": "code",
      "metadata": {
        "deletable": false,
        "id": "bXNGIkq2Azmf",
        "nbgrader": {
          "cell_type": "code",
          "checksum": "8301324615aba1e02e1f756b4bf1b092",
          "grade": false,
          "grade_id": "cell-31648b482908e493",
          "locked": false,
          "schema_version": 3,
          "solution": true,
          "task": false
        }
      },
      "source": [
        "# Please uncomment all lines in this cell and replace those marked with `# YOUR CODE HERE`.\n",
        "# You can select all lines in this code cell with Ctrl+A (Windows/Linux) or Cmd+A (Mac), then press Ctrl+/ (Windows/Linux) or Cmd+/ (Mac) to uncomment.\n",
        "\n",
        "\n",
        "\n",
        "def my_rmse(y_true, y_pred):\n",
        "    error =y_true-y_pred # YOUR CODE HERE\n",
        "    sqr_error = K.square(error)# YOUR CODE HERE\n",
        "    mean_sqr_error = K.mean(sqr_error) # YOUR CODE HERE\n",
        "    sqrt_mean_sqr_error = K.sqrt(mean_sqr_error)# YOUR CODE HERE\n",
        "    return sqrt_mean_sqr_error"
      ],
      "execution_count": 3,
      "outputs": []
    },
    {
      "cell_type": "code",
      "metadata": {
        "deletable": false,
        "editable": false,
        "nbgrader": {
          "cell_type": "code",
          "checksum": "afa4ace3428496820b8b6fb542ca5117",
          "grade": true,
          "grade_id": "cell-578f76b36f8ee858",
          "locked": true,
          "points": 1,
          "schema_version": 3,
          "solution": false,
          "task": false
        },
        "id": "LYsRpAgWjh6m"
      },
      "source": [
        "utils.test_my_rmse(my_rmse)\n"
      ],
      "execution_count": null,
      "outputs": []
    },
    {
      "cell_type": "markdown",
      "metadata": {
        "id": "dz_kUE_Ujh6n"
      },
      "source": [
        "### Define a model using the custom loss function (TODO)\n",
        "Similar to the ungraded labs, you will define a simple model and pass the function you just coded as the loss.\n",
        "- When compiling the model, you'll choose the `sgd` optimizer and set the `loss` parameter to the custom loss function that you just defined.\n",
        "- For grading purposes, please leave the other parameter values as is."
      ]
    },
    {
      "cell_type": "code",
      "metadata": {
        "colab": {
          "base_uri": "https://localhost:8080/"
        },
        "deletable": false,
        "id": "2eY7fw0EHwda",
        "nbgrader": {
          "cell_type": "code",
          "checksum": "8af71f8408d04ff7abaf41eb3414c8f6",
          "grade": false,
          "grade_id": "cell-5a29bb71c93124fc",
          "locked": false,
          "schema_version": 3,
          "solution": true,
          "task": false
        },
        "outputId": "cc660634-2a61-44e9-aecd-00212832cd7d"
      },
      "source": [
        "# Please uncomment all lines in this cell and replace those marked with `# YOUR CODE HERE`.\n",
        "# You can select all lines in this code cell with Ctrl+A (Windows/Linux) or Cmd+A (Mac), then press Ctrl+/ (Windows/Linux) or Cmd+/ (Mac) to uncomment.\n",
        "\n",
        "\n",
        "\n",
        "# define the model architecture\n",
        "model = tf.keras.Sequential([keras.layers.Dense(units=1, input_shape=[1])])\n",
        "\n",
        "# use the function you just coded as the loss\n",
        "model.compile(optimizer='sgd', loss=my_rmse)\n",
        "              \n",
        "# train the model \n",
        "model.fit(xs, ys, epochs=500,verbose=0)\n",
        "              \n",
        "# test with a sample input\n",
        "print(model.predict([10.0]))"
      ],
      "execution_count": 6,
      "outputs": [
        {
          "output_type": "stream",
          "text": [
            "[[18.847572]]\n"
          ],
          "name": "stdout"
        }
      ]
    },
    {
      "cell_type": "code",
      "metadata": {
        "deletable": false,
        "editable": false,
        "nbgrader": {
          "cell_type": "code",
          "checksum": "b8da4dc42fa87a1722251adddae9516c",
          "grade": true,
          "grade_id": "cell-e46bc4e00375b387",
          "locked": true,
          "points": 1,
          "schema_version": 3,
          "solution": false,
          "task": false
        },
        "id": "4Aung8_6jh6o"
      },
      "source": [
        "utils.test_model_loss(model.loss)\n"
      ],
      "execution_count": null,
      "outputs": []
    },
    {
      "cell_type": "code",
      "metadata": {
        "id": "TY_hdZxEjh6o"
      },
      "source": [
        ""
      ],
      "execution_count": null,
      "outputs": []
    }
  ]
}